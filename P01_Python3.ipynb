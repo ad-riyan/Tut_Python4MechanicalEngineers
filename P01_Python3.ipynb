{
  "nbformat": 4,
  "nbformat_minor": 0,
  "metadata": {
    "colab": {
      "name": "P01-Python3.ipynb",
      "provenance": [],
      "collapsed_sections": [],
      "toc_visible": true,
      "authorship_tag": "ABX9TyMxVrOXe1OzIK1VpDBTlSxs",
      "include_colab_link": true
    },
    "kernelspec": {
      "name": "python3",
      "display_name": "Python 3"
    }
  },
  "cells": [
    {
      "cell_type": "markdown",
      "metadata": {
        "id": "view-in-github",
        "colab_type": "text"
      },
      "source": [
        "<a href=\"https://colab.research.google.com/github/ad-riyan/Tutorial_Python4MechanicalEngineers/blob/master/P01_Python3.ipynb\" target=\"_parent\"><img src=\"https://colab.research.google.com/assets/colab-badge.svg\" alt=\"Open In Colab\"/></a>"
      ]
    },
    {
      "cell_type": "markdown",
      "metadata": {
        "id": "PL4CF2PueA2R",
        "colab_type": "text"
      },
      "source": [
        "# Python 3\n",
        "*Python for Mechanical Engineers*\n",
        "\n",
        "<br><br>\n",
        "\n",
        "### Adriyan \n",
        "\n",
        "<br>\n",
        "&copy; Adriyan, 2020\n",
        "\n",
        "*Digunakan untuk keperluan pelatihan!*\n",
        "\n",
        "<br>\n",
        "\n",
        "---\n",
        "\n",
        "<br>"
      ]
    },
    {
      "cell_type": "code",
      "metadata": {
        "id": "yKVzh60d0OJU",
        "colab_type": "code",
        "outputId": "773ef5e4-a328-40da-a291-ff944aa86ae3",
        "colab": {
          "base_uri": "https://localhost:8080/",
          "height": 286
        }
      },
      "source": [
        "!pip install version_information\n",
        "%load_ext version_information\n",
        "%version_information"
      ],
      "execution_count": 0,
      "outputs": [
        {
          "output_type": "stream",
          "text": [
            "Collecting version_information\n",
            "  Downloading https://files.pythonhosted.org/packages/ff/b0/6088e15b9ac43a08ccd300d68e0b900a20cf62077596c11ad11dd8cc9e4b/version_information-1.0.3.tar.gz\n",
            "Building wheels for collected packages: version-information\n",
            "  Building wheel for version-information (setup.py) ... \u001b[?25l\u001b[?25hdone\n",
            "  Created wheel for version-information: filename=version_information-1.0.3-cp36-none-any.whl size=3882 sha256=a3562d23ec80dd78e0eb76a4448ae2ac9ee8c8404fbc497c51a35cdaeaf2c641\n",
            "  Stored in directory: /root/.cache/pip/wheels/1f/4c/b3/1976ac11dbd802723b564de1acaa453a72c36c95827e576321\n",
            "Successfully built version-information\n",
            "Installing collected packages: version-information\n",
            "Successfully installed version-information-1.0.3\n"
          ],
          "name": "stdout"
        },
        {
          "output_type": "execute_result",
          "data": {
            "text/latex": "\\begin{tabular}{|l|l|}\\hline\n{\\bf Software} & {\\bf Version} \\\\ \\hline\\hline\nPython & 3.6.9 64bit [GCC 8.4.0] \\\\ \\hline\nIPython & 5.5.0 \\\\ \\hline\nOS & Linux 4.19.104+ x86\\_64 with Ubuntu 18.04 bionic \\\\ \\hline\n\\hline \\multicolumn{2}{|l|}{Fri May 29 02:54:45 2020 UTC} \\\\ \\hline\n\\end{tabular}\n",
            "application/json": {
              "Software versions": [
                {
                  "version": "3.6.9 64bit [GCC 8.4.0]",
                  "module": "Python"
                },
                {
                  "version": "5.5.0",
                  "module": "IPython"
                },
                {
                  "version": "Linux 4.19.104+ x86_64 with Ubuntu 18.04 bionic",
                  "module": "OS"
                }
              ]
            },
            "text/html": [
              "<table><tr><th>Software</th><th>Version</th></tr><tr><td>Python</td><td>3.6.9 64bit [GCC 8.4.0]</td></tr><tr><td>IPython</td><td>5.5.0</td></tr><tr><td>OS</td><td>Linux 4.19.104+ x86_64 with Ubuntu 18.04 bionic</td></tr><tr><td colspan='2'>Fri May 29 02:54:45 2020 UTC</td></tr></table>"
            ],
            "text/plain": [
              "Software versions\n",
              "Python 3.6.9 64bit [GCC 8.4.0]\n",
              "IPython 5.5.0\n",
              "OS Linux 4.19.104+ x86_64 with Ubuntu 18.04 bionic\n",
              "Fri May 29 02:54:45 2020 UTC"
            ]
          },
          "metadata": {
            "tags": []
          },
          "execution_count": 3
        }
      ]
    },
    {
      "cell_type": "code",
      "metadata": {
        "id": "dPifhxl-1umE",
        "colab_type": "code",
        "outputId": "d12ee275-993f-46fb-8d23-d884d82c10ac",
        "colab": {
          "base_uri": "https://localhost:8080/",
          "height": 50
        }
      },
      "source": [
        "import sys\n",
        "print(\"Python version: %s.\" % (sys.version, ))"
      ],
      "execution_count": 0,
      "outputs": [
        {
          "output_type": "stream",
          "text": [
            "Python version: 3.6.9 (default, Apr 18 2020, 01:56:04) \n",
            "[GCC 8.4.0].\n"
          ],
          "name": "stdout"
        }
      ]
    },
    {
      "cell_type": "code",
      "metadata": {
        "id": "vrTnJfajVWwS",
        "colab_type": "code",
        "colab": {}
      },
      "source": [
        "from IPython.display import Image, display"
      ],
      "execution_count": 0,
      "outputs": []
    },
    {
      "cell_type": "markdown",
      "metadata": {
        "id": "9nPSlBHYfy2I",
        "colab_type": "text"
      },
      "source": [
        "## 1 | Struktur bahasa pemograman Python"
      ]
    },
    {
      "cell_type": "markdown",
      "metadata": {
        "id": "1SG3MCFYgMTW",
        "colab_type": "text"
      },
      "source": [
        "### 1.1 | Statement\n",
        "Statement merupakan instruksi yang diberikan tiap baris untuk dijalankan oleh program.\n",
        "\n",
        "Ketikkanlah \n",
        "```python\n",
        "print(\"Halo, Python\")\n",
        "```\n",
        "pada *cell* berikut ini dan kemudian tekan `Ctrl+Enter`, atau klik tombol Run cell."
      ]
    },
    {
      "cell_type": "code",
      "metadata": {
        "id": "BrdECqW3cf9u",
        "colab_type": "code",
        "colab": {}
      },
      "source": [
        ""
      ],
      "execution_count": 0,
      "outputs": []
    },
    {
      "cell_type": "markdown",
      "metadata": {
        "id": "_1ldeYcQg-F8",
        "colab_type": "text"
      },
      "source": [
        "### 1.2 | Variables dan Literals\n",
        "\n",
        "Variables merupakan suatu penamaan atau pengindentifikasian yang  digunakan untuk menampung suatu data atau informasi dalam pemrograman.\n",
        "\n",
        "Aturan penamaan variabel di python:\n",
        "1.\tVariabel harus dimulai dengan huruf (a-z, A-Z) atau karakter garis bawah *underscore* (_) dan tidak dapat dimulai dengan angka (0-9).\n",
        "2.\tVariabel hanya boleh mengandung karakter alfabet (a-z, A-Z), bilangan (0-9), dan *underscore* (_)\n",
        "3.\tVariabel bersifat *case-sensitive* yang menyatakan bahwa variabel TINGGI, tinggi, dan Tinggi merupakan  tiga buah variabel yang berbeda.\n",
        "\n",
        "Literals merupakan data atau informasi yang digunakan untuk mengisi suatu variabel.\n",
        "\n",
        "```python\n",
        "bilangan1 = 10\n",
        "Bilangan_2 = 3.14\n",
        "Frasa = \"Halo Dunia\"\n",
        "```\n"
      ]
    },
    {
      "cell_type": "code",
      "metadata": {
        "id": "PKYJ5ziohL_a",
        "colab_type": "code",
        "colab": {}
      },
      "source": [
        ""
      ],
      "execution_count": 0,
      "outputs": []
    },
    {
      "cell_type": "markdown",
      "metadata": {
        "id": "3xDI4XQMhnCb",
        "colab_type": "text"
      },
      "source": [
        "Di Python terdapat cara istimewa dalam mendeklarasikan suatu variabel yaitu:\n",
        "\n",
        "1. Dikumpulkan semua dalam sebuah tuple.\n",
        "```python\n",
        "bilangan = 3, 4\n",
        "print(bilangan)\n",
        "```\n"
      ]
    },
    {
      "cell_type": "code",
      "metadata": {
        "id": "E4Yh55Uvh2bA",
        "colab_type": "code",
        "colab": {}
      },
      "source": [
        ""
      ],
      "execution_count": 0,
      "outputs": []
    },
    {
      "cell_type": "markdown",
      "metadata": {
        "id": "IIMCClIgicO6",
        "colab_type": "text"
      },
      "source": [
        "2. Satu-satu dideklarasikan dalam satu baris\n",
        "    * cara pertama\n",
        "```python\n",
        "bilangan1, Bilangan_2 = 3, 4\n",
        "print(bilangan1)\n",
        "print(Bilangan_2)\n",
        "```"
      ]
    },
    {
      "cell_type": "code",
      "metadata": {
        "id": "kSycVhEoidwa",
        "colab_type": "code",
        "colab": {}
      },
      "source": [
        ""
      ],
      "execution_count": 0,
      "outputs": []
    },
    {
      "cell_type": "markdown",
      "metadata": {
        "id": "IdoeWQacieRZ",
        "colab_type": "text"
      },
      "source": [
        "2. Satu-satu dideklarasikan dalam satu baris (lanjutan...)\n",
        "    * cara kedua\n",
        "```python\n",
        "salam = \"Selamat Pagi\", Nama = \"Python”\n",
        "print(salam)\n",
        "print(Nama)\n",
        "```"
      ]
    },
    {
      "cell_type": "code",
      "metadata": {
        "id": "wwy0A5WLie6l",
        "colab_type": "code",
        "colab": {}
      },
      "source": [
        ""
      ],
      "execution_count": 0,
      "outputs": []
    },
    {
      "cell_type": "markdown",
      "metadata": {
        "id": "I_9KnIViigrT",
        "colab_type": "text"
      },
      "source": [
        "### 1.3 | Reserved Words\n",
        "\n",
        "*Reserved words* merupakan kata-kata yang dan dilarang digunakan untuk variables dan literals. "
      ]
    },
    {
      "cell_type": "code",
      "metadata": {
        "id": "cRfq1C1kjY2c",
        "colab_type": "code",
        "outputId": "74a8e743-3c2e-4a57-c619-8618bee5c6c7",
        "colab": {
          "base_uri": "https://localhost:8080/",
          "height": 87
        }
      },
      "source": [
        "import keyword\n",
        "print(\"Jumlah reserved words: %d\\n\" % (len(keyword.kwlist),))\n",
        "print(keyword.kwlist)"
      ],
      "execution_count": 0,
      "outputs": [
        {
          "output_type": "stream",
          "text": [
            "Jumlah reserved words: 33\n",
            "\n",
            "['False', 'None', 'True', 'and', 'as', 'assert', 'break', 'class', 'continue', 'def', 'del', 'elif', 'else', 'except', 'finally', 'for', 'from', 'global', 'if', 'import', 'in', 'is', 'lambda', 'nonlocal', 'not', 'or', 'pass', 'raise', 'return', 'try', 'while', 'with', 'yield']\n"
          ],
          "name": "stdout"
        }
      ]
    },
    {
      "cell_type": "markdown",
      "metadata": {
        "id": "gKLrnqQ6kBVw",
        "colab_type": "text"
      },
      "source": [
        "### 1.4 | Comments\n",
        "\n",
        "Comments merupakan kumpulan teks yang dituliskan di dalam sebuah program dan tidak akan mempengaruhi hasil dari sebuah program. \n",
        "\n",
        "*Comments* ialah salah satu komponen yang penting dalam pengembangan program. *Comments* dapat diselipkan dimanapun di antara *statements* yang telah dituliskan untuk:\n",
        "* untuk berkomunikasi dengan rekan programmer lainnya dalam satu tim, \n",
        "* docstring dalam suatu class dan function yang ditujukan untuk help pada class dan function tersebut.\n",
        "\n",
        "Ada dua jenis comments di dalam Python, yaitu:\n",
        "\n",
        "a.\t*single line comment* (comments dalam satu baris) seperti pada contoh berikut:\n",
        "\n",
        "```python\n",
        "# perintah pada baris ini tidak mempengaruhi program\n",
        "```\n",
        "\n",
        "b.\t*multi line comment* (comments dalam beberapa baris) yang umum digunakan untuk *docstring*:\n",
        "* triple single quote\n",
        "```python\n",
        "'''\n",
        "perintah ini tidak akan dieksekusi oleh Python \n",
        "dan perintah ini juga tidak akan dieksekusi \n",
        "perintah ini juga tidak akan dieksekusi\n",
        "'''\n",
        "```\n",
        "\n",
        "atau\n",
        "* triple double quote\n",
        "```python\n",
        "\"\"\"\n",
        "perintah ini tidak akan dieksekusi oleh Python \n",
        "dan perintah ini juga tidak akan dieksekusi \n",
        "perintah ini juga tidak akan dieksekusi\n",
        "\"\"\"\n",
        "```\n",
        "\n"
      ]
    },
    {
      "cell_type": "code",
      "metadata": {
        "id": "xqhUIRUakJew",
        "colab_type": "code",
        "colab": {}
      },
      "source": [
        ""
      ],
      "execution_count": 0,
      "outputs": []
    },
    {
      "cell_type": "markdown",
      "metadata": {
        "id": "RH-j6MgNkuuN",
        "colab_type": "text"
      },
      "source": [
        "## 2 | Tipe Data\n",
        "\n",
        "Tipe data:\n",
        "1. Tipe data dasar, berupa `NoneType`, `bool`, `int`, dan`float`.\n",
        "2. Tipe data text sequence berupa `str`, serta tipe data sequence yaitu `list`, dan `tuple`.\n",
        "3. Tipe data set, berupa `set` yang terdiri atas `set` dan `frozen set`.\n",
        "4. Tipe data mapping, berupa `dict`."
      ]
    },
    {
      "cell_type": "markdown",
      "metadata": {
        "id": "g0xglgOSlw4_",
        "colab_type": "text"
      },
      "source": [
        "### 2.1 | Tipe data dasar\n",
        "\n",
        "Ketikkanlah perintah berikut pada cell yang disediakan\n",
        "```python\n",
        "print(type(None))\n",
        "print(type(True))\n",
        "print(type(26))\n",
        "print(type(2.78))\n",
        "```"
      ]
    },
    {
      "cell_type": "code",
      "metadata": {
        "id": "GaABz56dkyd2",
        "colab_type": "code",
        "colab": {}
      },
      "source": [
        ""
      ],
      "execution_count": 0,
      "outputs": []
    },
    {
      "cell_type": "markdown",
      "metadata": {
        "id": "TYt_Xqg0mw3n",
        "colab_type": "text"
      },
      "source": [
        "#### 2.1.1 | Pengkonversian tipe data dasar\n",
        "* Konversi ke tipe data `bool`:\n",
        "```python\n",
        "print(bool(0))\n",
        "print(bool(1))\n",
        "```"
      ]
    },
    {
      "cell_type": "code",
      "metadata": {
        "id": "ZbfbLJCynAGo",
        "colab_type": "code",
        "colab": {}
      },
      "source": [
        ""
      ],
      "execution_count": 0,
      "outputs": []
    },
    {
      "cell_type": "markdown",
      "metadata": {
        "id": "TQad9CDAmIvl",
        "colab_type": "text"
      },
      "source": [
        "* Konversi ke tipe data `int`:\n",
        "```python\n",
        "print(int(2.4))\n",
        "print(int(\"6\"))\n",
        "```"
      ]
    },
    {
      "cell_type": "code",
      "metadata": {
        "id": "N3z8lfJlmTXZ",
        "colab_type": "code",
        "colab": {}
      },
      "source": [
        ""
      ],
      "execution_count": 0,
      "outputs": []
    },
    {
      "cell_type": "markdown",
      "metadata": {
        "id": "wCAVeHvZmXuN",
        "colab_type": "text"
      },
      "source": [
        "* Konversi ke tipe data `float`:\n",
        "```python\n",
        "print(float(2))\n",
        "print(float(\"6.1\"))\n",
        "```"
      ]
    },
    {
      "cell_type": "code",
      "metadata": {
        "id": "jtfn2O1cmtQl",
        "colab_type": "code",
        "colab": {}
      },
      "source": [
        ""
      ],
      "execution_count": 0,
      "outputs": []
    },
    {
      "cell_type": "markdown",
      "metadata": {
        "id": "RFlwV4HW3_MZ",
        "colab_type": "text"
      },
      "source": [
        "#### 2.1.2 | Operator\n",
        "\n",
        "1. *Aritmetic Operators*: `+`, `-`, `*`, `/`, `//`, `%`, `**`\n",
        "\n",
        "| Operator\t| Name\t        | Example   |\n",
        "|:---------:|:--------------|:---------:|\n",
        "| +\t        |Addition\t    |a + b\t    |\n",
        "| -\t        |Subtraction\t|a - b\t    |\n",
        "| *\t        |Multiplication\t|a * b\t    |\n",
        "| /\t        |Division\t    |a / b\t    |\n",
        "| //\t    |Floor division\t|a // b     |\n",
        "| %\t        |Modulus\t    |a % b      |\t\n",
        "| **\t    |Exponentiation\t|a ** b\t    |\n",
        "\n",
        "Contoh:\n",
        "```python\n",
        "a, b = 8, 3\n",
        "print(\"a + b = \", a + b)    # Penjumlahan\n",
        "print(\"a - b = \", a - b)    # Pengurangan\n",
        "print(\"a * b = \", a * b)    # Perkalian\n",
        "print(\"a / b = \", a / b)    # Pembagian\n",
        "print(\"a // b = \", a // b)  # Floor division\n",
        "print(\"a % b = \", a % b)    # Modulo (sisa bagi)\n",
        "print(\"a ** b = \", a ** b)  # Pemangkatan\n",
        "```"
      ]
    },
    {
      "cell_type": "code",
      "metadata": {
        "id": "M1Iks4R941d7",
        "colab_type": "code",
        "colab": {}
      },
      "source": [
        ""
      ],
      "execution_count": 0,
      "outputs": []
    },
    {
      "cell_type": "markdown",
      "metadata": {
        "id": "Top9GMwb5K6K",
        "colab_type": "text"
      },
      "source": [
        "2. *Comparison Operators*\n",
        "\n",
        "|Operator|Nama\t                   |Contoh     |\n",
        "|:------:|:------------------------|:---------:|\n",
        "|==\t     |Equal\t                   |a == b\t\n",
        "|!=\t     |Not equal\t               |a != b\t\n",
        "|>\t     |Greater than             |a > b\t\n",
        "|<\t     |Less than\t               |a < b\t\n",
        "|>=\t     |Greater than or equal to |a >= b\t\n",
        "|<=\t     |Less than or equal to\t   |a <= b\n",
        "\n",
        "Contoh:\n",
        "```python\n",
        "x, y = 10, 6.2\n",
        "# Buatlah keseluruhan operator tersebut setelah komentar ini\n",
        "```"
      ]
    },
    {
      "cell_type": "code",
      "metadata": {
        "id": "SAwQjKx7BU5Q",
        "colab_type": "code",
        "colab": {}
      },
      "source": [
        ""
      ],
      "execution_count": 0,
      "outputs": []
    },
    {
      "cell_type": "markdown",
      "metadata": {
        "id": "ayIug1XaBx4W",
        "colab_type": "text"
      },
      "source": [
        "3. *Logical Operators*:\n",
        "\n",
        "|Operator|Deskripsi |Contoh|\n",
        "|:------:|:---------|:----:|\n",
        "|and \t |Bernilai `True` jika kedua logika bernilai `True` |a < 5 and  a < 10\t\n",
        "|or\t     |Bernilai `True` jika salah satu logika bernilai `True`\t|a < 5 or a < 2\t\n",
        "|not\t |Membalikkan nilai logika|not(a < 5 and a < 10)\n",
        "\n",
        "Contoh:\n",
        "```python\n",
        "a = 4\n",
        "print(\"and: \", a < 5 and a < 10)\n",
        "print(\"or : \", a < 5 or a < 2)\n",
        "print(\"not: \", not(a < 5 and a < 10))\n",
        "```"
      ]
    },
    {
      "cell_type": "code",
      "metadata": {
        "id": "gveX2Czc5qgJ",
        "colab_type": "code",
        "colab": {}
      },
      "source": [
        ""
      ],
      "execution_count": 0,
      "outputs": []
    },
    {
      "cell_type": "code",
      "metadata": {
        "id": "7QB3MoijBxi9",
        "colab_type": "code",
        "colab": {}
      },
      "source": [
        ""
      ],
      "execution_count": 0,
      "outputs": []
    },
    {
      "cell_type": "markdown",
      "metadata": {
        "id": "vA_Vn9OqDZ21",
        "colab_type": "text"
      },
      "source": [
        "4. *Assignment Operators*:\n",
        "\n",
        "|Operator|Contoh|Contoh ini ekivalen dengan|\n",
        "|:------:|:-----|:-------------------------|\n",
        "|`=`\t |`a = 5`\t|`a = 5`\t\n",
        "|`+=`\t |`a += 3`\t|`a = a + 3`\t\n",
        "|`-=`\t |`a -= 3`\t|`a = a - 3`\t\n",
        "|`*=`\t |`a *= 3`\t|`a = a * 3`\t\n",
        "|`/=`\t |`a /= 3`\t|`a = a / 3`\t\n",
        "|`%=`\t |`a %= 3`\t|`a = a % 3`\t\n",
        "|`//=`\t |`a //= 3`\t|`a = a // 3`\t\n",
        "|`**=`\t |`a **= 3` |`a = a ** 3`"
      ]
    },
    {
      "cell_type": "code",
      "metadata": {
        "id": "635b-p8XEy_u",
        "colab_type": "code",
        "colab": {}
      },
      "source": [
        ""
      ],
      "execution_count": 0,
      "outputs": []
    },
    {
      "cell_type": "markdown",
      "metadata": {
        "id": "21wHr0jGlMte",
        "colab_type": "text"
      },
      "source": [
        "5. *Membership Operators*\n",
        "\n",
        "Untuk menguji keanggotaan suatu tipe data dasar pada suatu sequence: text, list, atau tuple.\n",
        "\n",
        "|Operator|Descripsi|Contoh|\n",
        "|:------:|:--------|:-----|\n",
        "|in \t |Bernilai `True` jika suatu sequence `b` memiliki nilai seperti yang diberikan oleh `a`|`a in b`|\n",
        "|not in\t |Bernilai `True` jika suatu sequence `b` tidak memiliki nilai seperti yang diberikan oleh `a`|`a not in b`|\n",
        "\n",
        "Contoh:\n",
        "```python\n",
        "a = 3\n",
        "b = [2, 4, 3, 7]\n",
        "print(\"a in b    :\", a in b)\n",
        "print(\"a not in b:\", a not in b)\n",
        "```"
      ]
    },
    {
      "cell_type": "code",
      "metadata": {
        "id": "gZsRLYAwu6Og",
        "colab_type": "code",
        "colab": {}
      },
      "source": [
        ""
      ],
      "execution_count": 0,
      "outputs": []
    },
    {
      "cell_type": "markdown",
      "metadata": {
        "id": "WvHXnq5zu5re",
        "colab_type": "text"
      },
      "source": [
        "6. *Identity Operators*\n",
        "\n",
        "Membandingkan lokasi memori dua objek \n",
        "\n",
        "|Operator|Descripsi|Contoh|\n",
        "|:------:|:--------|:-----|\n",
        "|is \t |Bernilai `True` jika `a` dan `b` merupakan objek yang sama|`a is b`|\n",
        "|is not\t |Bernilai `True` jika `a` dan `b` bukan merupakan objek yang sama|`a is not b`|\n",
        "\n",
        "Contoh:\n",
        "```python\n",
        "a = 2\n",
        "b = 2\n",
        "print(\"a is b    :\", a is b)\n",
        "print(\"a is not b:\", a is not b)\n",
        "```"
      ]
    },
    {
      "cell_type": "code",
      "metadata": {
        "id": "W9g_kZmR4wxj",
        "colab_type": "code",
        "colab": {}
      },
      "source": [
        ""
      ],
      "execution_count": 0,
      "outputs": []
    },
    {
      "cell_type": "code",
      "metadata": {
        "id": "JEMy6MsF4wpx",
        "colab_type": "code",
        "colab": {}
      },
      "source": [
        ""
      ],
      "execution_count": 0,
      "outputs": []
    },
    {
      "cell_type": "markdown",
      "metadata": {
        "id": "GDxUvPhLnJn_",
        "colab_type": "text"
      },
      "source": [
        "### 2.2 | Tipe data Sequence dan Text Sequence\n",
        "\n",
        "[Tipe data sequence](https://docs.python.org/3.7/library/stdtypes.html#sequence-types-list-tuple-range)::\n",
        "\n",
        "* Tipe data tuple `tuple`: `(e0, e1, ...)`\n",
        "* Tipe data list `list`: `[e0, e1, ...]`\n",
        "\n",
        "dengan `e0`, `e1`, ..., merupakan elemen pertama, kedua, dst.\n",
        "\n",
        "[Tipe data text sequence](https://docs.python.org/3.7/library/stdtypes.html#text-sequence-type-str):: tipe data string `str`: `'contoh string'` atau `\"contoh string\"`"
      ]
    },
    {
      "cell_type": "markdown",
      "metadata": {
        "id": "_8NxVCdo6mfz",
        "colab_type": "text"
      },
      "source": [
        "#### 2.2.1 | Sequence\n",
        "\n",
        "Setiap elemen dalam tipe data sequence (tuple dan list) dapat diberikan berbagai tipe data seperti `bool`, `NoneType`, `int`, `float`, `str`, `list`, `tuple`, `set`, `dict`, `numpy.ndarray`, `pandas.DataFrame`, `pandas.Series`, atau `object dari suatu class yang telah dibangun atau berasal dari library/packages tertentu`.\n",
        "\n",
        "1. **Tuple**, yang dapat dinyatakan secara umum dengan `my_tuple = (e0, e1, ..., ek, ..., en)`\n",
        "    * Data setiap elemen seragam, misal `int` untuk semua elemen\n",
        "    ```python\n",
        "    tuple1 = (1, 3, 7, -6, 7)\n",
        "    print(tuple1)\n",
        "    # atau\n",
        "    tuple1\n",
        "    ```\n",
        "\n",
        "    * Data setiap elemen tidak seragam,\n",
        "    ```python\n",
        "    tuple2 = (1, 'Python 3', 7.48, True, None, (1, 4, 5.6))\n",
        "    tuple2\n",
        "    ```"
      ]
    },
    {
      "cell_type": "code",
      "metadata": {
        "id": "hVZnfD7T8tGp",
        "colab_type": "code",
        "colab": {}
      },
      "source": [
        ""
      ],
      "execution_count": 0,
      "outputs": []
    },
    {
      "cell_type": "markdown",
      "metadata": {
        "id": "1BcWX7MbFsbq",
        "colab_type": "text"
      },
      "source": [
        "[*Built-in method for tuple*](https://docs.python.org/3.7/library/stdtypes.html#sequence-types-list-tuple-range)"
      ]
    },
    {
      "cell_type": "code",
      "metadata": {
        "id": "0ryBWXCRGJvl",
        "colab_type": "code",
        "colab": {}
      },
      "source": [
        ""
      ],
      "execution_count": 0,
      "outputs": []
    },
    {
      "cell_type": "markdown",
      "metadata": {
        "id": "9W4dITmx9qKA",
        "colab_type": "text"
      },
      "source": [
        "2. **List**, yang dapat dinyatakan secara umum dengan `my_list = [e0, e1, ..., ek, ..., en]`\n",
        "    * Data setiap elemen seragam, misal `int` untuk semua elemen\n",
        "    ```python\n",
        "    list1 = [1, 3, 7, -6, 7]\n",
        "    list1\n",
        "    ```\n",
        "\n",
        "    * Data setiap elemen tidak seragam,\n",
        "    ```python\n",
        "    list2 = [1, 'Python 3', 7.48, True, None, ['Saya', 3.14], (1, 4, 5.6)]\n",
        "    list2\n",
        "    ```\n",
        "\n",
        "    * *List of list*\n",
        "    ```python\n",
        "    list3 = [[7, 0, -4, 3],\n",
        "               ['a', 9, 0, 5, -0.67],\n",
        "               [4.6, True]]\n",
        "    ```"
      ]
    },
    {
      "cell_type": "code",
      "metadata": {
        "id": "4zSFWx_dFSg7",
        "colab_type": "code",
        "colab": {}
      },
      "source": [
        ""
      ],
      "execution_count": 0,
      "outputs": []
    },
    {
      "cell_type": "markdown",
      "metadata": {
        "id": "EMLs8gi_LOId",
        "colab_type": "text"
      },
      "source": [
        "[*Built-in method for list*](https://docs.python.org/3.7/library/stdtypes.html#sequence-types-list-tuple-range)"
      ]
    },
    {
      "cell_type": "code",
      "metadata": {
        "id": "XJKpDT5hLP1H",
        "colab_type": "code",
        "colab": {}
      },
      "source": [
        ""
      ],
      "execution_count": 0,
      "outputs": []
    },
    {
      "cell_type": "code",
      "metadata": {
        "id": "lN0-Nx9ht642",
        "colab_type": "code",
        "colab": {}
      },
      "source": [
        ""
      ],
      "execution_count": 0,
      "outputs": []
    },
    {
      "cell_type": "code",
      "metadata": {
        "id": "9RrWzPo4t6y5",
        "colab_type": "code",
        "colab": {}
      },
      "source": [
        ""
      ],
      "execution_count": 0,
      "outputs": []
    },
    {
      "cell_type": "markdown",
      "metadata": {
        "id": "no1Phf312Nfy",
        "colab_type": "text"
      },
      "source": [
        "#### 2.2.2 | Text Sequence\n",
        "\n",
        "Dapat dinyatakan dengan \n",
        "\n",
        "```python\n",
        "string1 = \"Saya belajar Python 3.\"\n",
        "string2 = 'Belajar Python 3 mengasyikan.'\n",
        "string3 = \"\"\"\n",
        "            Saya sedang belajar Python 3.\n",
        "            Belajar Python 3 mengasyikan.\n",
        "            Google colaboratory --> :)\n",
        "          \"\"\"\n",
        "print(string1)\n",
        "print(string2)\n",
        "print(string3)\n",
        "```"
      ]
    },
    {
      "cell_type": "code",
      "metadata": {
        "id": "UVRidrYUnUBE",
        "colab_type": "code",
        "colab": {}
      },
      "source": [
        ""
      ],
      "execution_count": 0,
      "outputs": []
    },
    {
      "cell_type": "markdown",
      "metadata": {
        "id": "kGNgH9fK6OHZ",
        "colab_type": "text"
      },
      "source": [
        "*String* dapat disambungkan dengan menggunakan operator `+` atau menggunakan method `.join()`\n"
      ]
    },
    {
      "cell_type": "code",
      "metadata": {
        "id": "wgNfB0hbLgoV",
        "colab_type": "code",
        "colab": {}
      },
      "source": [
        ""
      ],
      "execution_count": 0,
      "outputs": []
    },
    {
      "cell_type": "markdown",
      "metadata": {
        "id": "l9PRHFH3Lk59",
        "colab_type": "text"
      },
      "source": [
        "Operator `*` dapat digunakan untuk mereplika suatu string."
      ]
    },
    {
      "cell_type": "code",
      "metadata": {
        "id": "iFjNzeR6Ll_s",
        "colab_type": "code",
        "colab": {}
      },
      "source": [
        ""
      ],
      "execution_count": 0,
      "outputs": []
    },
    {
      "cell_type": "markdown",
      "metadata": {
        "id": "ZxDRiHd1LtDs",
        "colab_type": "text"
      },
      "source": [
        "[*Built in method for str*](https://docs.python.org/3.7/library/stdtypes.html#text-sequence-type-str)"
      ]
    },
    {
      "cell_type": "code",
      "metadata": {
        "id": "dUAxgxIFVkbp",
        "colab_type": "code",
        "colab": {}
      },
      "source": [
        ""
      ],
      "execution_count": 0,
      "outputs": []
    },
    {
      "cell_type": "code",
      "metadata": {
        "id": "rX1DqX7Xt525",
        "colab_type": "code",
        "colab": {}
      },
      "source": [
        ""
      ],
      "execution_count": 0,
      "outputs": []
    },
    {
      "cell_type": "code",
      "metadata": {
        "id": "5OR2LZpWt5uK",
        "colab_type": "code",
        "colab": {}
      },
      "source": [
        ""
      ],
      "execution_count": 0,
      "outputs": []
    },
    {
      "cell_type": "markdown",
      "metadata": {
        "id": "v5AQTsmmpsgU",
        "colab_type": "text"
      },
      "source": [
        "#### 2.2.3 | Mengakses elemen tipe data text sequence, dan sequence.\n",
        "\n",
        "```python\n",
        "my_str = \"Python3\"\n",
        "my_list1 = [1, 3.14, -5, 'list', (3, 8, '$100'), True, None, -9.3]\n",
        "my_list2 = [[7, 0, -4, 3, 67, -9.45, '$5'],\n",
        "            ['a', 9, 0, 5, -0.67],\n",
        "            [4.6, True]]\n",
        "```"
      ]
    },
    {
      "cell_type": "markdown",
      "metadata": {
        "id": "QnvEuWiNq1FA",
        "colab_type": "text"
      },
      "source": [
        "1. Mengakses elemen tunggal.\n",
        "\n",
        "Untuk mengakses elemen tunggal dari tipe data text sequence, sequence dan set dapat dilakukan dengan menggunakan suatu nilai integer urutan elemen tersebut. Python urutan selalu dimulai dari `0`.\n",
        "\n",
        "Jika ingin mengakses elemen mulai dari kanan ke kiri maka digunakan nilai integer negatif. Elemen paling kanan adalah bernilai `-1`. \n",
        "\n",
        "![](https://github.com/ad-riyan/Tutorial_Python4MechanicalEngineers/blob/master/figures_Python4ME/P01-SingleAccess.png?raw=1)"
      ]
    },
    {
      "cell_type": "code",
      "metadata": {
        "id": "tTy1_-N7TuA1",
        "colab_type": "code",
        "colab": {}
      },
      "source": [
        ""
      ],
      "execution_count": 0,
      "outputs": []
    },
    {
      "cell_type": "markdown",
      "metadata": {
        "id": "chE6YFYuq4ev",
        "colab_type": "text"
      },
      "source": [
        "2. *Slicing*\n",
        "\n",
        "Dapat dipandang sebagai proses pemotongan sesuatu seperti yang dilustrasikan berikut\n",
        "\n",
        "![](https://github.com/ad-riyan/Tutorial_Python4MechanicalEngineers/blob/master/figures_Python4ME/P01-Slicing.png?raw=1)\n",
        "\n",
        "Secara umum, formula untuk melakukan *slicing* pada suatu variabel `var` adalah\n",
        "\n",
        "```python\n",
        "var[start:stop:step]\n",
        "```\n",
        "\n",
        "`start` merupakan integer awal untuk slicing \n",
        "\n",
        "`stop` merupakan integer akhir untuk slicing\n",
        "\n",
        "`step` merupakan integer langkah/increment untuk slicing"
      ]
    },
    {
      "cell_type": "code",
      "metadata": {
        "id": "8mK8RZ_PNlHi",
        "colab_type": "code",
        "colab": {}
      },
      "source": [
        ""
      ],
      "execution_count": 0,
      "outputs": []
    },
    {
      "cell_type": "code",
      "metadata": {
        "id": "GAJVhEJyndm6",
        "colab_type": "code",
        "colab": {}
      },
      "source": [
        ""
      ],
      "execution_count": 0,
      "outputs": []
    },
    {
      "cell_type": "markdown",
      "metadata": {
        "id": "CRXZbEkM56Dc",
        "colab_type": "text"
      },
      "source": [
        "Bagaimana pada list of list? Kita akan cek pada `my_list2`"
      ]
    },
    {
      "cell_type": "code",
      "metadata": {
        "id": "57TWdwos55xD",
        "colab_type": "code",
        "colab": {}
      },
      "source": [
        ""
      ],
      "execution_count": 0,
      "outputs": []
    },
    {
      "cell_type": "code",
      "metadata": {
        "id": "OwEs8b8MndeM",
        "colab_type": "code",
        "colab": {}
      },
      "source": [
        ""
      ],
      "execution_count": 0,
      "outputs": []
    },
    {
      "cell_type": "markdown",
      "metadata": {
        "id": "sbnpuRAl6I5n",
        "colab_type": "text"
      },
      "source": [
        "Untuk tuple of tuple, list of tuple, tuple of list, dan berbagai variannya adalah sama denga list of list."
      ]
    },
    {
      "cell_type": "code",
      "metadata": {
        "id": "cwknggBs6Yz6",
        "colab_type": "code",
        "colab": {}
      },
      "source": [
        ""
      ],
      "execution_count": 0,
      "outputs": []
    },
    {
      "cell_type": "code",
      "metadata": {
        "id": "s0H-s6xu6YN3",
        "colab_type": "code",
        "colab": {}
      },
      "source": [
        ""
      ],
      "execution_count": 0,
      "outputs": []
    },
    {
      "cell_type": "markdown",
      "metadata": {
        "id": "YboZgwZymEWp",
        "colab_type": "text"
      },
      "source": [
        "**NOTE**: Kedua teknik ini juga digunakan pada `numpy` array, `pandas` DataFrame dan `pandas` Series."
      ]
    },
    {
      "cell_type": "markdown",
      "metadata": {
        "id": "VNUDiKC0VkQJ",
        "colab_type": "text"
      },
      "source": [
        "### 2.4 | Tipe data Set\n",
        "\n",
        "Merupakan tipe data yang berbeda dalam hal indeks, pengurutan, dan memiliki nilai unik.\n",
        "\n",
        "```python\n",
        "set1 = {1, 4, 6, 8, 4, 5, 6, 6}\n",
        "print(\"Set: \", set1)\n",
        "print(type(set1))\n",
        "frozen_set1 = ({1, 4, 6, 8, 4, 5, 6, 6}) \n",
        "print(\"Frozen set: \", frozen_set1)\n",
        "print(type(frozen_set1))\n",
        "```"
      ]
    },
    {
      "cell_type": "code",
      "metadata": {
        "id": "rWsu8Pn4qDO8",
        "colab_type": "code",
        "colab": {}
      },
      "source": [
        ""
      ],
      "execution_count": 0,
      "outputs": []
    },
    {
      "cell_type": "code",
      "metadata": {
        "id": "pQm-P4lt7Y4Q",
        "colab_type": "code",
        "colab": {}
      },
      "source": [
        ""
      ],
      "execution_count": 0,
      "outputs": []
    },
    {
      "cell_type": "code",
      "metadata": {
        "id": "9jWINugB7Y1o",
        "colab_type": "code",
        "colab": {}
      },
      "source": [
        ""
      ],
      "execution_count": 0,
      "outputs": []
    },
    {
      "cell_type": "code",
      "metadata": {
        "id": "p7MuIeLE7Yyn",
        "colab_type": "code",
        "colab": {}
      },
      "source": [
        ""
      ],
      "execution_count": 0,
      "outputs": []
    },
    {
      "cell_type": "markdown",
      "metadata": {
        "id": "r84_oed1ow9z",
        "colab_type": "text"
      },
      "source": [
        "Tipe data `set` ini digunakan untuk membuat sebuah set (himpunan)."
      ]
    },
    {
      "cell_type": "markdown",
      "metadata": {
        "id": "-IvANUzXpiru",
        "colab_type": "text"
      },
      "source": [
        "### 2.5 | Tipe data Mapping\n",
        "\n",
        "Tipe data mapping dikenal dengan nama *dictionary* `dict` yang memiliki elemen berupa pasangan `key` dan `value`.\n",
        "\n",
        "    my_dict = {key1: value1, key2: value2, key3: value3, ...}\n",
        "\n",
        "`key` dan `value` dapat berupa data dengan tipe `str`, `int`, `float`, `bool`, `None`, `list`, `tuple`, `set`, `dict`, dan tipe data yang dihasilkan dari package/library seperti numpy, pandas, sympy, dll.\n",
        "\n",
        "    my_dict = {'str': 1, True: 3, 1.34: 67, None: 45, (3, 4): 78}\n",
        "\n",
        "Untuk keterbacaan biasanya digunakan tipe data `str` dan `int` meskipun tipe data lain dapat digunakan namum dengan kehati-hatian nantinya ketika digunakan dalam sebuah program.\n",
        "\n",
        "Contoh:\n",
        "```python\n",
        "lds_dict = {'Nama': 'Laboratorium Dinamika Struktur',\n",
        "            'Ka. Lab': 'Prof. Dr.-Ing. Mulyadi Bur',\n",
        "            'Tahun Berdiri': 1996,\n",
        "            'WA Group': 'LDS family',\n",
        "            'Anggota': 111}\n",
        "```\n"
      ]
    },
    {
      "cell_type": "code",
      "metadata": {
        "id": "vV67dlMZpn-_",
        "colab_type": "code",
        "outputId": "02984c44-9c58-43b9-d220-b3ed1bf6fc7c",
        "colab": {
          "base_uri": "https://localhost:8080/",
          "height": 100
        }
      },
      "source": [
        "lds_dict = {'Nama': 'Laboratorium Dinamika Struktur',\n",
        "            'Ka. Lab': 'Prof. Dr.-Ing. Mulyadi Bur',\n",
        "            'Tahun Berdiri': 1996,\n",
        "            'WA Group': 'LDS family',\n",
        "            'Anggota': 111}\n",
        "lds_dict"
      ],
      "execution_count": 0,
      "outputs": [
        {
          "output_type": "execute_result",
          "data": {
            "text/plain": [
              "{'Anggota': 111,\n",
              " 'Ka. Lab': 'Prof. Dr.-Ing. Mulyadi Bur',\n",
              " 'Nama': 'Laboratorium Dinamika Struktur',\n",
              " 'Tahun Berdiri': 1996,\n",
              " 'WA Group': 'LDS family'}"
            ]
          },
          "metadata": {
            "tags": []
          },
          "execution_count": 1
        }
      ]
    },
    {
      "cell_type": "markdown",
      "metadata": {
        "id": "NLmBNHO3poMh",
        "colab_type": "text"
      },
      "source": [
        "Untuk mengakses elemen pada sebuah `dict` digunakan `key`-nya.\n",
        "\n",
        "```python\n",
        "my_dict[key1]\n",
        "# atau\n",
        "my_dict[key3]\n",
        "```"
      ]
    },
    {
      "cell_type": "code",
      "metadata": {
        "id": "rRIAGl1TF2fl",
        "colab_type": "code",
        "colab": {}
      },
      "source": [
        ""
      ],
      "execution_count": 0,
      "outputs": []
    },
    {
      "cell_type": "markdown",
      "metadata": {
        "id": "6-UuXB3gGFSp",
        "colab_type": "text"
      },
      "source": [
        "Untuk mengetahui apa saja `key` yang dimiliki oleh sebuah `dict` digunakan `my_dict.keys()` dan `my_dict.values()` untuk `value` yang dimilikinya."
      ]
    },
    {
      "cell_type": "code",
      "metadata": {
        "id": "0CeTaV7bGh3P",
        "colab_type": "code",
        "colab": {}
      },
      "source": [
        ""
      ],
      "execution_count": 0,
      "outputs": []
    },
    {
      "cell_type": "code",
      "metadata": {
        "id": "uGg3KlUwGhpw",
        "colab_type": "code",
        "colab": {}
      },
      "source": [
        ""
      ],
      "execution_count": 0,
      "outputs": []
    },
    {
      "cell_type": "code",
      "metadata": {
        "id": "KkJ6pDh6Gheg",
        "colab_type": "code",
        "colab": {}
      },
      "source": [
        ""
      ],
      "execution_count": 0,
      "outputs": []
    },
    {
      "cell_type": "markdown",
      "metadata": {
        "id": "g-dBNg8YjbbQ",
        "colab_type": "text"
      },
      "source": [
        "Menambah data ke dalam variabel bertipe data `dict`"
      ]
    },
    {
      "cell_type": "code",
      "metadata": {
        "id": "78q_fyk3jg5D",
        "colab_type": "code",
        "outputId": "955e24ba-93f3-4c02-a2bd-261efd20f393",
        "colab": {
          "base_uri": "https://localhost:8080/",
          "height": 117
        }
      },
      "source": [
        "lds_dict['Tambah'] = 12\n",
        "lds_dict"
      ],
      "execution_count": 0,
      "outputs": [
        {
          "output_type": "execute_result",
          "data": {
            "text/plain": [
              "{'Anggota': 111,\n",
              " 'Ka. Lab': 'Prof. Dr.-Ing. Mulyadi Bur',\n",
              " 'Nama': 'Laboratorium Dinamika Struktur',\n",
              " 'Tahun Berdiri': 1996,\n",
              " 'Tambah': 12,\n",
              " 'WA Group': 'LDS family'}"
            ]
          },
          "metadata": {
            "tags": []
          },
          "execution_count": 2
        }
      ]
    },
    {
      "cell_type": "code",
      "metadata": {
        "id": "9p5fxzvPjsTp",
        "colab_type": "code",
        "outputId": "31c2922f-f171-4c20-e744-15c642684cd4",
        "colab": {
          "base_uri": "https://localhost:8080/",
          "height": 133
        }
      },
      "source": [
        "lds_dict.update(Saya = 'Asisten2020')\n",
        "lds_dict"
      ],
      "execution_count": 0,
      "outputs": [
        {
          "output_type": "execute_result",
          "data": {
            "text/plain": [
              "{'Anggota': 111,\n",
              " 'Ka. Lab': 'Prof. Dr.-Ing. Mulyadi Bur',\n",
              " 'Nama': 'Laboratorium Dinamika Struktur',\n",
              " 'Saya': 'Asisten2020',\n",
              " 'Tahun Berdiri': 1996,\n",
              " 'Tambah': 6,\n",
              " 'WA Group': 'LDS family'}"
            ]
          },
          "metadata": {
            "tags": []
          },
          "execution_count": 7
        }
      ]
    },
    {
      "cell_type": "markdown",
      "metadata": {
        "id": "MeuMT4LfRE7R",
        "colab_type": "text"
      },
      "source": [
        "## 3 | Pengkondisian (*Conditioning*)\n",
        "\n",
        "Pemilihan keputusan berdasarkan kondisi-kondisi yang diberikan."
      ]
    },
    {
      "cell_type": "markdown",
      "metadata": {
        "id": "MZf97GlpROG7",
        "colab_type": "text"
      },
      "source": [
        "### 3.1 | if ... else ...\n",
        "\n",
        "Konstruksi `if ... else ...`\n",
        "```python\n",
        "if condition:\n",
        "    <<statement where condition fulfilled>>\n",
        "else:\n",
        "    <<otherwise>>\n",
        "```\n",
        "\n",
        "Jika sebuah mobile robot menerima masukan dari sensor mechanical switch yang berada di bagian depannya. Bagaimana menjadikannya mundur?\n",
        "\n",
        "```python\n",
        "mech_switch_front = True \n",
        "if mech_switch_front is True:\n",
        "    print(\"Move backward\")\n",
        "else:\n",
        "    print(\"Move forward\")\n",
        "```"
      ]
    },
    {
      "cell_type": "code",
      "metadata": {
        "id": "9P1_NmK7Rp-S",
        "colab_type": "code",
        "colab": {}
      },
      "source": [
        ""
      ],
      "execution_count": 0,
      "outputs": []
    },
    {
      "cell_type": "markdown",
      "metadata": {
        "id": "llVkIC3FRpGN",
        "colab_type": "text"
      },
      "source": [
        "### 3.2 | if ... elif ... else ...\n",
        "\n",
        "Konstruksi `if ... elif ... else ...`\n",
        "```python\n",
        "if condition1:\n",
        "    <<statement where condition1 fulfilled>>\n",
        "elif condition2:\n",
        "    <<statement where condition2 fulfilled>> \n",
        "elif condition3:\n",
        "    <<statement where condition3 fulfilled>>\n",
        "else:\n",
        "    <<otherwise>>\n",
        "```\n",
        "\n",
        "Huruf mutu dari nilai seorang mahasiswa memiliki interval:\n",
        "\n",
        "$$\\begin{array}{rcl}\n",
        "80 <= & A & <= 100 \\\\\n",
        "70 <= & B & < 80 \\\\\n",
        "60 <= & C & < 70 \\\\\n",
        "50 <= & D & < 60 \\\\\n",
        "40 <= & E & < 50 \\\\\n",
        "\\end{array}$$ "
      ]
    },
    {
      "cell_type": "code",
      "metadata": {
        "id": "0tCr6aRNRum-",
        "colab_type": "code",
        "colab": {}
      },
      "source": [
        ""
      ],
      "execution_count": 0,
      "outputs": []
    },
    {
      "cell_type": "markdown",
      "metadata": {
        "id": "6ATrt9VSrJtp",
        "colab_type": "text"
      },
      "source": [
        "### 3.3 | Nested if\n",
        "\n",
        "Konstruksi\n",
        "```python\n",
        "if condition1:\n",
        "    <<statement where condition1 fulfilled>>\n",
        "elif condition2:\n",
        "    if condition21:\n",
        "        <<statement where condition21 fulfilled>> \n",
        "    elif condition22:\n",
        "        <<statement where condition22 fulfilled>>\n",
        "    else:\n",
        "        <<otherwise>>\n",
        "    <<statement where condition2 fulfilled>> \n",
        "elif condition3:\n",
        "    <<statement where condition3 fulfilled>>\n",
        "else:\n",
        "    <<otherwise>>\n",
        "```\n"
      ]
    },
    {
      "cell_type": "markdown",
      "metadata": {
        "id": "-NXnzfyePeqy",
        "colab_type": "text"
      },
      "source": [
        "## 4 | Perulangan (*Looping*)\n",
        "\n",
        "Jenis perulangan dengan python:\n",
        "1. For loop\n",
        "2. While loop "
      ]
    },
    {
      "cell_type": "markdown",
      "metadata": {
        "id": "TK4lcbuhQLm1",
        "colab_type": "text"
      },
      "source": [
        "### 4.1 | For Loop\n",
        "\n",
        "1. Konstruksi for loop\n",
        "\n",
        "```python\n",
        "for item in sequence:\n",
        "    <<statement 1 goes here>>\n",
        "    <<statement 2 goes here>>\n",
        "    ...\n",
        "    <<statement n goes here>>\n",
        "```\n",
        "`sequence` dapat berupa `tuple`, `list`, `set`, `str`, `range(n)`\n",
        "\n",
        "Contoh:\n",
        "```python\n",
        "daftar_saya = [1, 4, 6.8, 'Python']\n",
        "for item in daftar_saya:\n",
        "    print(daftar_saya)\n",
        "\n",
        "for item in range(5):\n",
        "    print(item)\n",
        "\n",
        "for item in range(1, 11, 3):\n",
        "    print(item)\n",
        "```"
      ]
    },
    {
      "cell_type": "code",
      "metadata": {
        "id": "T64zTtFtQc_T",
        "colab_type": "code",
        "colab": {}
      },
      "source": [
        ""
      ],
      "execution_count": 0,
      "outputs": []
    },
    {
      "cell_type": "markdown",
      "metadata": {
        "id": "1w4-v0HKU2Rt",
        "colab_type": "text"
      },
      "source": [
        "2. Konstruksi for loop jika mempergunakan indeks dari setiap item\n",
        "\n",
        "```python\n",
        "for index, item in enumerate(sequence):\n",
        "    <<statement 1 goes here>>\n",
        "    <<statement 2 goes here>>\n",
        "    ...\n",
        "    <<statement n goes here>>\n",
        "```\n",
        "\n",
        "Contoh: \n",
        "```python\n",
        "daftar_saya = [1, 4, 6.8, 'Python']\n",
        "for i, item in enumerate(daftar_saya):\n",
        "    print(i, daftar_saya)\n",
        "```"
      ]
    },
    {
      "cell_type": "code",
      "metadata": {
        "id": "wyWJVh0nUc2v",
        "colab_type": "code",
        "colab": {}
      },
      "source": [
        ""
      ],
      "execution_count": 0,
      "outputs": []
    },
    {
      "cell_type": "markdown",
      "metadata": {
        "id": "q6kLUbC9QdSM",
        "colab_type": "text"
      },
      "source": [
        "3. Konstruksi *nested loop*\n",
        "\n",
        "```python\n",
        "for item1 in sequence1:\n",
        "    <<statement 1 goes here>>\n",
        "    <<statement 2 goes here>>\n",
        "    for item2 in sequence2:\n",
        "        <<statement inner 1 goes here>>\n",
        "        <<statement inner 2 goes here>>\n",
        "        ...\n",
        "        <<statement inner k goes here>>\n",
        "    <<statement 3 goes here>>\n",
        "    ...\n",
        "    <<statement n goes here>>\n",
        "```\n",
        "\n",
        "Contoh:\n",
        "```python\n",
        "list_of_list = [[1, 4, 5, 7],\n",
        "                ['a', 'b', 'c']]\n",
        "for list_item in list_of_list:\n",
        "    for item in list_item:\n",
        "        print(item)\n",
        "```"
      ]
    },
    {
      "cell_type": "code",
      "metadata": {
        "id": "59jJqLHMpaTz",
        "colab_type": "code",
        "colab": {}
      },
      "source": [
        ""
      ],
      "execution_count": 0,
      "outputs": []
    },
    {
      "cell_type": "markdown",
      "metadata": {
        "id": "vLTigtYOVd62",
        "colab_type": "text"
      },
      "source": [
        "### 4.2 | While Loop\n",
        "\n",
        "Konstruksi *while loop*\n",
        "```python\n",
        "while condition:\n",
        "    <<statement 1 goes here>>\n",
        "    <<statement 2 goes here>>\n",
        "    ...\n",
        "    <<statement n goes here>>\n",
        "```\n",
        "\n",
        "*while loop* akan dieksekusi jika `condition` bernilai `True`.\n",
        "\n",
        "Contoh:\n",
        "```python\n",
        "i = 0\n",
        "while i < 10:\n",
        "    print(i)\n",
        "    i += 1\n",
        "```"
      ]
    },
    {
      "cell_type": "code",
      "metadata": {
        "id": "UH2glDUMZBEI",
        "colab_type": "code",
        "colab": {}
      },
      "source": [
        ""
      ],
      "execution_count": 0,
      "outputs": []
    },
    {
      "cell_type": "markdown",
      "metadata": {
        "id": "7eImSLLKZJw8",
        "colab_type": "text"
      },
      "source": [
        "## 5 | Functions\n",
        "\n",
        "*Functions* ditujukan untuk memperingkas suatu kumpulan kode program untuk tujuan tertentu yang bersifat *reusable*.\n",
        "\n",
        "1. Function\n",
        "2. Anonymous function: lambdas\n"
      ]
    },
    {
      "cell_type": "markdown",
      "metadata": {
        "id": "wYgMTqTSassJ",
        "colab_type": "text"
      },
      "source": [
        "### 5.1 | Function\n",
        "\n",
        "1. Konstruksi function dasar\n",
        "\n",
        "```python\n",
        "def nama_function(arg1, arg2, arg3, arg4):\n",
        "    <<statement 1 goes here>>\n",
        "    <<statement 2 goes here>>\n",
        "    ...\n",
        "    <<statement n goes here>>\n",
        "    return out1, out2\n",
        "```\n",
        "\n",
        "yang dapat dipanggil dengan\n",
        "```python\n",
        "x, y = nama_function(a, b, c, d)\n",
        "# atau\n",
        "hasil = nama_function(a, b, c, d)\n",
        "```"
      ]
    },
    {
      "cell_type": "code",
      "metadata": {
        "id": "93lGE6U7a9pD",
        "colab_type": "code",
        "colab": {}
      },
      "source": [
        ""
      ],
      "execution_count": 0,
      "outputs": []
    },
    {
      "cell_type": "markdown",
      "metadata": {
        "id": "fymLy4NcbEIf",
        "colab_type": "text"
      },
      "source": [
        "2. Konstruksi function dengan argumen memiliki nilai default.\n",
        "\n",
        "```python\n",
        "def nama_function(arg1, arg2, arg3=nilai_default):\n",
        "    <<statement 1 goes here>>\n",
        "    <<statement 2 goes here>>\n",
        "    ...\n",
        "    <<statement n goes here>>\n",
        "    return out1, out2\n",
        "```\n",
        "\n",
        "yang dapat dipanggil dengan, \n",
        "* jika menggunakan nilai default \n",
        "\n",
        "```python\n",
        "x, y = nama_function(a, b)\n",
        "#atau\n",
        "hasil = nama_function(a, b)\n",
        "```\n",
        "\n",
        "* jika menggunakan nilai default diubah \n",
        "\n",
        "```python\n",
        "x, y = nama_function(a, b, c=nilai_lainnya)\n",
        "# atau\n",
        "x, y = nama_function(a, b, c)\n",
        "# atau\n",
        "hasil = nama_function(a, b, c=nilai_lainnya)\n",
        "# atau\n",
        "hasil = nama_function(a, b, c)\n",
        "```"
      ]
    },
    {
      "cell_type": "code",
      "metadata": {
        "id": "MITqKqwEbLxx",
        "colab_type": "code",
        "colab": {}
      },
      "source": [
        ""
      ],
      "execution_count": 0,
      "outputs": []
    },
    {
      "cell_type": "markdown",
      "metadata": {
        "id": "RxwmRtwA7LWf",
        "colab_type": "text"
      },
      "source": [
        "Perhatikan konstruksi fungsi berikut:\n",
        "\n",
        "```python\n",
        "def nama_function(arg1, arg2, arg3=default1, arg4=default2):\n",
        "    <<statement 1 goes here>>\n",
        "    <<statement 2 goes here>>\n",
        "    ...\n",
        "    <<statement n goes here>>\n",
        "    return out1, out2\n",
        "```\n",
        "\n",
        "dapat dipanggil dengan\n",
        "```python\n",
        "args = (arg1, arg2)\n",
        "kwargs = {\"arg3\": default1, \"arg4\": default2}\n",
        "\n",
        "# Opsi 1:\n",
        "out = nama_function(*args)\n",
        "\n",
        "# atau Opsi 2:\n",
        "out = nama_function(*args, **kwargs)\n",
        "```\n",
        "\n",
        "`args`: arguments dan `kwargs`: keyword arguments."
      ]
    },
    {
      "cell_type": "code",
      "metadata": {
        "id": "Ad7drTq87_QZ",
        "colab_type": "code",
        "colab": {}
      },
      "source": [
        ""
      ],
      "execution_count": 0,
      "outputs": []
    },
    {
      "cell_type": "code",
      "metadata": {
        "id": "-LT8tbc-7_Nb",
        "colab_type": "code",
        "colab": {}
      },
      "source": [
        ""
      ],
      "execution_count": 0,
      "outputs": []
    },
    {
      "cell_type": "markdown",
      "metadata": {
        "id": "AzqMtErea-PE",
        "colab_type": "text"
      },
      "source": [
        "### 5.2 | Anonymous function: lambdas\n",
        "\n",
        "Biasanya merupakan jenis *inline function*. \n",
        "\n",
        "1. Konstruksi satu argumen input: `my_cubic = lambda x: x**3`\n",
        "2. Konstruksi dua argumen input: `my_power = lambda x, n: x**n`\n",
        "\n"
      ]
    },
    {
      "cell_type": "code",
      "metadata": {
        "id": "zPbN4phii0An",
        "colab_type": "code",
        "colab": {}
      },
      "source": [
        ""
      ],
      "execution_count": 0,
      "outputs": []
    },
    {
      "cell_type": "code",
      "metadata": {
        "id": "8ohF4TsN66h6",
        "colab_type": "code",
        "colab": {}
      },
      "source": [
        ""
      ],
      "execution_count": 0,
      "outputs": []
    },
    {
      "cell_type": "markdown",
      "metadata": {
        "id": "grBzxhrBnpbj",
        "colab_type": "text"
      },
      "source": [
        "## 6 | Library Standar Python 3 (built-in).\n",
        "\n",
        "Silakan klik [library standar python 3](https://docs.python.org/3/library/).\n",
        "\n",
        "```python\n",
        "import math\n",
        "import time\n",
        "import os\n",
        "import io\n",
        "```\n",
        "\n",
        "**NOTE**: Tujuan meng-*import library/packages* di python adalah agar *library/packages* dapat diakses untuk digunakan dalam *statement* yang dibuat/dikembangkan."
      ]
    },
    {
      "cell_type": "code",
      "metadata": {
        "id": "JLszAKH2wJtF",
        "colab_type": "code",
        "colab": {}
      },
      "source": [
        ""
      ],
      "execution_count": 0,
      "outputs": []
    },
    {
      "cell_type": "code",
      "metadata": {
        "id": "RSLSJ3XkwJkf",
        "colab_type": "code",
        "colab": {}
      },
      "source": [
        ""
      ],
      "execution_count": 0,
      "outputs": []
    },
    {
      "cell_type": "code",
      "metadata": {
        "id": "YJppkZbxwJdV",
        "colab_type": "code",
        "colab": {}
      },
      "source": [
        ""
      ],
      "execution_count": 0,
      "outputs": []
    },
    {
      "cell_type": "code",
      "metadata": {
        "id": "9LZa7uWnwJN1",
        "colab_type": "code",
        "colab": {}
      },
      "source": [
        ""
      ],
      "execution_count": 0,
      "outputs": []
    },
    {
      "cell_type": "markdown",
      "metadata": {
        "id": "8XXh0xEAUx4a",
        "colab_type": "text"
      },
      "source": [
        "## 7 | File Handling\n",
        "\n"
      ]
    },
    {
      "cell_type": "markdown",
      "metadata": {
        "id": "e7uo4ZUiVPtF",
        "colab_type": "text"
      },
      "source": [
        ""
      ]
    },
    {
      "cell_type": "markdown",
      "metadata": {
        "id": "_uy4Fiswb5pC",
        "colab_type": "text"
      },
      "source": [
        "## 8 | Meng-*import Libraries/Packages* di luar *Built-in Libraries*\n",
        "\n",
        "**NOTE**: Tujuan meng-*import library/packages* di python adalah agar *library/packages* dapat diakses untuk digunakan dalam *statement* yang dibuat/dikembangkan.\n",
        "\n",
        "Untuk meng-*import libraries/packages* scientific/lainnya pada python dapat dilakukan dengan\n",
        "* `import nama_packages`\n",
        "* `import nama_packages as alias_packages`\n",
        "* `import nama_packages.nama_modules as alias_modules`\n",
        "* `from nama_packages import nama_modules`\n",
        "* `from nama_packages import nama_modules as alias_modules`\n",
        "* `from nama_packages.nama_modules import nama_child_modules as alias_child_modules`\n",
        "\n",
        "Umumnya untuk scientific python stacks:\n",
        "* Numpy: `import numpy as np`\n",
        "* Matplotlib: `import matplotlib as mpl` dan `import matplotlib.pyplot as plt`\n",
        "* Scipy: misal \n",
        "    * `from scipy.io import loadmat, savemat`\n",
        "    * `from scipy.optimize import minimize`\n",
        "    * `from scipy import linalg as scla`\n",
        "    * `from scipy import signals, fft`\n",
        "* Sympy: misal \n",
        "    * `import sympy as sym`\n",
        "    * `from sympy.physics import mechanics as mec`"
      ]
    },
    {
      "cell_type": "code",
      "metadata": {
        "id": "kyeP80R1eDpg",
        "colab_type": "code",
        "colab": {}
      },
      "source": [
        ""
      ],
      "execution_count": 0,
      "outputs": []
    },
    {
      "cell_type": "markdown",
      "metadata": {
        "id": "O_3fU0JqbyFU",
        "colab_type": "text"
      },
      "source": [
        "## 9 | Studi Kasus\n",
        "\n",
        "Berdasarkan materi yang telah dipelajari gunakan python (dan *library built-in*) untuk memechakan persoalan menentukan akar suatu fungsi secara numerik dengan menggunakan \n",
        "1. metode bagi dua (*bisection*), dan\n",
        "2. metode Newton-Raphson.\n",
        "\n",
        "Diberikan sebuah fungsi \n",
        "$$f(x) = -0.6x^2 + 2.4x + 5.5 $$\n",
        "untuk interval batas bawah $x_l = 3$ dan batas atas $x_u = 7$, khusus untuk metode Newton-Raphson gunakan nilai tebakan awal salah satu dari $x_l$ atau $x_u$. Proses iterasi dihentikan jika galat relatif $\\varepsilon_r < 5 \\%$.\n",
        "\n",
        "**Note**: nilai numerik akar persamaan kuadrat dari fungsi \n",
        "$$f(x) = -0.6x^2 + 2.4x + 5.5 $$\n",
        "adalah\n",
        "$$x_1 = -1.62859017617954$$\n",
        "$$x_2 =  5.62859017617954$$\n",
        "\n",
        "Untuk menyimpan data pada setiap prose iterasi gunakan list of list yang mana list terdalam berisi \n",
        "* iterasi ke berapa\n",
        "* $x_l$\n",
        "* $x_u$\n",
        "* $x_r$\n",
        "* $f(x_r)$\n",
        "* $\\varepsilon_r$\n",
        "\n",
        "untuk metode bisection, dan untuk metode Newton-Raphson\n",
        "* iterasi ke berapa\n",
        "* $x_0$\n",
        "* $f(x_0)$\n",
        "* $\\varepsilon_r$\n",
        "\n",
        "Sementara itu list terluar sejumlah iterasi yang digunakan."
      ]
    },
    {
      "cell_type": "code",
      "metadata": {
        "id": "5Xv10WL8l2sM",
        "colab_type": "code",
        "colab": {}
      },
      "source": [
        ""
      ],
      "execution_count": 0,
      "outputs": []
    },
    {
      "cell_type": "code",
      "metadata": {
        "id": "50UNGTGIl2PX",
        "colab_type": "code",
        "colab": {}
      },
      "source": [
        ""
      ],
      "execution_count": 0,
      "outputs": []
    },
    {
      "cell_type": "markdown",
      "metadata": {
        "id": "yn2LfMiA-nW0",
        "colab_type": "text"
      },
      "source": [
        "## 10 | *What's Next?*\n",
        "\n",
        "The following materials do not cover within this training.\n",
        "\n",
        "1. Object Oriented Programming\n",
        "2. Writing Efficient Python Code\n",
        "3. Creating Robust Workflows\n",
        "4. Software Engineering with Python\n",
        "5. Using UnitTesting for Testing Python Packages"
      ]
    },
    {
      "cell_type": "markdown",
      "metadata": {
        "id": "mB8wyCPnol5_",
        "colab_type": "text"
      },
      "source": [
        "\n",
        "\n",
        "---\n",
        "\n"
      ]
    }
  ]
}