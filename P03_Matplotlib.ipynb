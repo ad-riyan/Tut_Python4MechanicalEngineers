{
  "nbformat": 4,
  "nbformat_minor": 0,
  "metadata": {
    "colab": {
      "name": "P03-Matplotlib.ipynb",
      "provenance": [],
      "collapsed_sections": [],
      "toc_visible": true,
      "authorship_tag": "ABX9TyMDEiaF+NuzZ0kGcpadk4Wu",
      "include_colab_link": true
    },
    "kernelspec": {
      "name": "python3",
      "display_name": "Python 3"
    }
  },
  "cells": [
    {
      "cell_type": "markdown",
      "metadata": {
        "id": "view-in-github",
        "colab_type": "text"
      },
      "source": [
        "<a href=\"https://colab.research.google.com/github/ad-riyan/Tutorial_Python4MechanicalEngineers/blob/master/P03_Matplotlib.ipynb\" target=\"_parent\"><img src=\"https://colab.research.google.com/assets/colab-badge.svg\" alt=\"Open In Colab\"/></a>"
      ]
    },
    {
      "cell_type": "markdown",
      "metadata": {
        "id": "kldw6JYp4kjw",
        "colab_type": "text"
      },
      "source": [
        "# Matplotlib\n",
        "*Python for Mechanical Engineers*\n",
        "\n",
        "<br>\n",
        "\n",
        "![](https://matplotlib.org/3.1.0/_images/sphx_glr_logos2_003.png)\n",
        "\n",
        "\n",
        "<br><br>\n",
        "\n",
        "### Adriyan \n",
        "\n",
        "<br>\n",
        "\n",
        "Adriyan, 2020:: *Digunakan untuk keperluan pelatihan!*\n",
        "\n",
        "<br>\n",
        "\n",
        "---\n",
        "\n",
        "<br>\n",
        "\n"
      ]
    },
    {
      "cell_type": "markdown",
      "metadata": {
        "id": "-4y9vqEv70D3",
        "colab_type": "text"
      },
      "source": [
        "## 1 | Matplotlib\n",
        "\n",
        "Merupakan merupakan sebuah library Python komprehensif untuk membuat visualisasi secara statik, animasi, ataupun interaktif, *from* [https://matplotlib.org/](https://matplotlib.org/)\n",
        "\n",
        "Dikembangkan pertama kali oleh **John D. Hunter**, lihat [*history* matplotlib](https://matplotlib.org/3.2.1/users/history.html)."
      ]
    },
    {
      "cell_type": "code",
      "metadata": {
        "id": "gahwvfunLqQm",
        "colab_type": "code",
        "outputId": "b4749804-eb56-4111-dab4-8b83b9921f95",
        "colab": {
          "base_uri": "https://localhost:8080/",
          "height": 501
        }
      },
      "source": [
        "from IPython.display import HTML, IFrame\n",
        "IFrame(\"https://matplotlib.org/\", width=1000, height=480)"
      ],
      "execution_count": 0,
      "outputs": [
        {
          "output_type": "execute_result",
          "data": {
            "text/html": [
              "\n",
              "        <iframe\n",
              "            width=\"1000\"\n",
              "            height=\"480\"\n",
              "            src=\"https://matplotlib.org/\"\n",
              "            frameborder=\"0\"\n",
              "            allowfullscreen\n",
              "        ></iframe>\n",
              "        "
            ],
            "text/plain": [
              "<IPython.lib.display.IFrame at 0x7faba22337f0>"
            ]
          },
          "metadata": {
            "tags": []
          },
          "execution_count": 6
        }
      ]
    },
    {
      "cell_type": "markdown",
      "metadata": {
        "id": "vyY68gk-OoJO",
        "colab_type": "text"
      },
      "source": [
        "Anda dapat mengunjungi [galeri matplotlib](https://matplotlib.org/3.2.1/gallery/index.html) yang berisi grafik atau visualisasi apa saja yang dapat dilakukan dengan menggunakan matplotlib."
      ]
    },
    {
      "cell_type": "markdown",
      "metadata": {
        "id": "wSSeXDb473-G",
        "colab_type": "text"
      },
      "source": [
        "## 2 | *Anatomy of A Figure*\n",
        "\n",
        "Berikut ini merupakan anatomi dari sebuah grafik yang dibuat dengan matplotlib.\n",
        "\n",
        "![](https://matplotlib.org/_images/sphx_glr_anatomy_001.png)\n",
        "\n",
        "*Source*: https://matplotlib.org/_images/sphx_glr_anatomy_001.png"
      ]
    },
    {
      "cell_type": "markdown",
      "metadata": {
        "id": "jwVXxQaENd3Q",
        "colab_type": "text"
      },
      "source": [
        "## 3 | *How to Start*\n",
        "\n",
        "Untuk seluruh *packages/libraries* python, kita harus melakukan proses `import` *packages/libraries* terlebih dahulu. Untuk mengkases modul `pyplot` pada matplotlib digunakan:\n",
        "\n",
        "```python\n",
        "import matplotlib.pyplot as plt\n",
        "```"
      ]
    },
    {
      "cell_type": "code",
      "metadata": {
        "id": "-4q1XJiYOSQo",
        "colab_type": "code",
        "colab": {}
      },
      "source": [
        ""
      ],
      "execution_count": 0,
      "outputs": []
    },
    {
      "cell_type": "markdown",
      "metadata": {
        "id": "Mg5uBIb6XYvb",
        "colab_type": "text"
      },
      "source": [
        "Biasanya kita membutuhkan data yang akan divisualisasikan dalam bentuk numpy array. Jadi numpy perlu diimport juga."
      ]
    },
    {
      "cell_type": "code",
      "metadata": {
        "id": "oMcAGJjXXjHz",
        "colab_type": "code",
        "colab": {}
      },
      "source": [
        ""
      ],
      "execution_count": 0,
      "outputs": []
    },
    {
      "cell_type": "markdown",
      "metadata": {
        "id": "eOBj_-K1ZrPX",
        "colab_type": "text"
      },
      "source": [
        "Di beberapa notebook kadang diperlukan IPython magic `%matplotlib inline` untuk menampilkan grafik yang dibuat dengan matplotlib. "
      ]
    },
    {
      "cell_type": "code",
      "metadata": {
        "id": "bHHwDBLVZ3y7",
        "colab_type": "code",
        "colab": {}
      },
      "source": [
        ""
      ],
      "execution_count": 0,
      "outputs": []
    },
    {
      "cell_type": "markdown",
      "metadata": {
        "id": "UxQIFbQfQ2rO",
        "colab_type": "text"
      },
      "source": [
        "## 4 | Visualisasi di Bidang 2 Dimensi\n",
        "\n",
        "Contoh yang diambil dari galeri.\n",
        "\n",
        "|   |   |   |\n",
        "|---|---|---|\n",
        "|![](https://matplotlib.org/3.2.1/_images/sphx_glr_scatter_hist_001.png)|![](https://matplotlib.org/3.2.1/_images/sphx_glr_polar_bar_001.png)|![](https://matplotlib.org/3.2.1/_images/sphx_glr_irregulardatagrid_001.png)|\n",
        "|![](https://matplotlib.org/3.2.1/_images/sphx_glr_psd_demo_001.png)|![](https://matplotlib.org/3.2.1/_images/sphx_glr_bmh_001.png)|![](https://matplotlib.org/3.2.1/_images/sphx_glr_demo_floating_axes_001.png)|\n",
        "|![](https://matplotlib.org/3.2.1/_images/sphx_glr_colormap_normalizations_diverging_001.png)|![](https://matplotlib.org/3.2.1/_images/sphx_glr_sankey_rankine_001.png)|"
      ]
    },
    {
      "cell_type": "markdown",
      "metadata": {
        "id": "gABXe5XOcgyL",
        "colab_type": "text"
      },
      "source": [
        "**Style**\n",
        "\n",
        "Style yang dapat digunakan untuk mengkustomisasi visualisasi nantinya, melalui\n",
        "\n",
        "```python\n",
        "plt.style.use(...)\n",
        "```\n",
        "`...` adalah `str` dari nama style yang tersedia di bawah ini. "
      ]
    },
    {
      "cell_type": "code",
      "metadata": {
        "id": "GfbmYYV4acm3",
        "colab_type": "code",
        "outputId": "4b9ece20-7977-463b-a1ae-6f475607404e",
        "colab": {
          "base_uri": "https://localhost:8080/",
          "height": 70
        }
      },
      "source": [
        "print(plt.style.available)\n",
        "print(\"Jumlah style: \", len(plt.style.available))"
      ],
      "execution_count": 0,
      "outputs": [
        {
          "output_type": "stream",
          "text": [
            "['Solarize_Light2', '_classic_test_patch', 'bmh', 'classic', 'dark_background', 'fast', 'fivethirtyeight', 'ggplot', 'grayscale', 'seaborn', 'seaborn-bright', 'seaborn-colorblind', 'seaborn-dark', 'seaborn-dark-palette', 'seaborn-darkgrid', 'seaborn-deep', 'seaborn-muted', 'seaborn-notebook', 'seaborn-paper', 'seaborn-pastel', 'seaborn-poster', 'seaborn-talk', 'seaborn-ticks', 'seaborn-white', 'seaborn-whitegrid', 'tableau-colorblind10']\n",
            "Jumlah style:  26\n"
          ],
          "name": "stdout"
        }
      ]
    },
    {
      "cell_type": "markdown",
      "metadata": {
        "id": "tFYn5pfZeJGX",
        "colab_type": "text"
      },
      "source": [
        "![](https://matplotlib.org/_images/sphx_glr_style_sheets_reference_001.png)\n",
        "\n",
        "![](https://matplotlib.org/_images/sphx_glr_style_sheets_reference_002.png)\n",
        "\n",
        "![](https://matplotlib.org/_images/sphx_glr_style_sheets_reference_003.png)\n",
        "\n",
        "![](https://matplotlib.org/_images/sphx_glr_style_sheets_reference_004.png)\n",
        "\n",
        "![](https://matplotlib.org/_images/sphx_glr_style_sheets_reference_005.png)\n",
        "\n",
        "![](https://matplotlib.org/_images/sphx_glr_style_sheets_reference_006.png)\n",
        "\n",
        "![](https://matplotlib.org/_images/sphx_glr_style_sheets_reference_007.png)\n",
        "\n",
        "![](https://matplotlib.org/_images/sphx_glr_style_sheets_reference_008.png)\n",
        "\n",
        "![](https://matplotlib.org/_images/sphx_glr_style_sheets_reference_009.png)\n",
        "\n",
        "![](https://matplotlib.org/_images/sphx_glr_style_sheets_reference_010.png)\n",
        "\n",
        "![](https://matplotlib.org/_images/sphx_glr_style_sheets_reference_011.png)\n",
        "\n",
        "![](https://matplotlib.org/_images/sphx_glr_style_sheets_reference_012.png)\n",
        "\n",
        "![](https://matplotlib.org/_images/sphx_glr_style_sheets_reference_013.png)\n",
        "\n",
        "![](https://matplotlib.org/_images/sphx_glr_style_sheets_reference_014.png)\n",
        "\n",
        "![](https://matplotlib.org/_images/sphx_glr_style_sheets_reference_015.png)\n",
        "\n",
        "![](https://matplotlib.org/_images/sphx_glr_style_sheets_reference_016.png)\n",
        "\n",
        "![](https://matplotlib.org/_images/sphx_glr_style_sheets_reference_017.png)\n",
        "\n",
        "![](https://matplotlib.org/_images/sphx_glr_style_sheets_reference_018.png)\n",
        "\n",
        "![](https://matplotlib.org/_images/sphx_glr_style_sheets_reference_019.png)\n",
        "\n",
        "![](https://matplotlib.org/_images/sphx_glr_style_sheets_reference_020.png)\n",
        "\n",
        "![](https://matplotlib.org/_images/sphx_glr_style_sheets_reference_021.png)\n",
        "\n",
        "![](https://matplotlib.org/_images/sphx_glr_style_sheets_reference_022.png)\n",
        "\n",
        "![](https://matplotlib.org/_images/sphx_glr_style_sheets_reference_023.png)\n",
        "\n",
        "![](https://matplotlib.org/_images/sphx_glr_style_sheets_reference_024.png)\n",
        "\n",
        "![](https://matplotlib.org/_images/sphx_glr_style_sheets_reference_025.png)\n",
        "\n",
        "![](https://matplotlib.org/_images/sphx_glr_style_sheets_reference_026.png)\n",
        "\n",
        "![](https://matplotlib.org/_images/sphx_glr_style_sheets_reference_027.png)\n",
        "\n"
      ]
    },
    {
      "cell_type": "markdown",
      "metadata": {
        "id": "wiZS1J7zivma",
        "colab_type": "text"
      },
      "source": [
        "**Colormap**"
      ]
    },
    {
      "cell_type": "code",
      "metadata": {
        "id": "GGPu3DodjNlG",
        "colab_type": "code",
        "outputId": "0357ef79-97b1-4507-df75-fd11b9d8a6a5",
        "colab": {
          "base_uri": "https://localhost:8080/",
          "height": 501
        }
      },
      "source": [
        "IFrame(\"https://matplotlib.org/tutorials/colors/colormaps.html\", width=1000, height=480)"
      ],
      "execution_count": 0,
      "outputs": [
        {
          "output_type": "execute_result",
          "data": {
            "text/html": [
              "\n",
              "        <iframe\n",
              "            width=\"1000\"\n",
              "            height=\"480\"\n",
              "            src=\"https://matplotlib.org/tutorials/colors/colormaps.html\"\n",
              "            frameborder=\"0\"\n",
              "            allowfullscreen\n",
              "        ></iframe>\n",
              "        "
            ],
            "text/plain": [
              "<IPython.lib.display.IFrame at 0x7fab9e361710>"
            ]
          },
          "metadata": {
            "tags": []
          },
          "execution_count": 59
        }
      ]
    },
    {
      "cell_type": "markdown",
      "metadata": {
        "id": "4j70GB0lRfan",
        "colab_type": "text"
      },
      "source": [
        "### 4.1 | Visualisasi dengan plot tunggal\n",
        "\n",
        "Telah disediakan data dalam numpy array untuk diplot nantinya yaitu:\n",
        "\n",
        "```python\n",
        "np.random.seed(1)\n",
        "x = np.arange(21)\n",
        "y = 2.5 + 1.65 * x\n",
        "yn = y + np.random.randn(len(x))\n",
        "```"
      ]
    },
    {
      "cell_type": "code",
      "metadata": {
        "id": "j23jaJa7RkxX",
        "colab_type": "code",
        "colab": {}
      },
      "source": [
        ""
      ],
      "execution_count": 0,
      "outputs": []
    },
    {
      "cell_type": "code",
      "metadata": {
        "id": "4h09YIMadvrv",
        "colab_type": "code",
        "colab": {}
      },
      "source": [
        ""
      ],
      "execution_count": 0,
      "outputs": []
    },
    {
      "cell_type": "code",
      "metadata": {
        "id": "d1k5-8euqd5l",
        "colab_type": "code",
        "colab": {}
      },
      "source": [
        ""
      ],
      "execution_count": 0,
      "outputs": []
    },
    {
      "cell_type": "markdown",
      "metadata": {
        "id": "9RQdsZtPRkcO",
        "colab_type": "text"
      },
      "source": [
        "### 4.2 | Visualisasi dengan sub-plot"
      ]
    },
    {
      "cell_type": "code",
      "metadata": {
        "id": "uifnr8FDqfBT",
        "colab_type": "code",
        "colab": {}
      },
      "source": [
        ""
      ],
      "execution_count": 0,
      "outputs": []
    },
    {
      "cell_type": "code",
      "metadata": {
        "id": "Fm5p0J6Vqe25",
        "colab_type": "code",
        "colab": {}
      },
      "source": [
        ""
      ],
      "execution_count": 0,
      "outputs": []
    },
    {
      "cell_type": "code",
      "metadata": {
        "id": "mtPCApwjRsgS",
        "colab_type": "code",
        "colab": {}
      },
      "source": [
        ""
      ],
      "execution_count": 0,
      "outputs": []
    },
    {
      "cell_type": "markdown",
      "metadata": {
        "id": "D-yL6-HNUgQ-",
        "colab_type": "text"
      },
      "source": [
        "## 5 | Visualisasi di Bidang 3 Dimensi\n",
        "\n",
        "Contoh yang diambil dari galery.\n",
        "\n",
        "|   |   |   |\n",
        "|---|---|---|\n",
        "|![](https://matplotlib.org/3.2.1/_images/sphx_glr_contourf3d_2_001.png)|![](https://matplotlib.org/3.2.1/_images/sphx_glr_surface3d_0011.png)|![](https://matplotlib.org/3.2.1/_images/sphx_glr_hist3d_001.png)|\n"
      ]
    },
    {
      "cell_type": "code",
      "metadata": {
        "id": "bTXoZExZjtRk",
        "colab_type": "code",
        "colab": {}
      },
      "source": [
        ""
      ],
      "execution_count": 0,
      "outputs": []
    },
    {
      "cell_type": "code",
      "metadata": {
        "id": "YfT6nSJmWcHG",
        "colab_type": "code",
        "colab": {}
      },
      "source": [
        ""
      ],
      "execution_count": 0,
      "outputs": []
    },
    {
      "cell_type": "code",
      "metadata": {
        "id": "vKBYXbWnqgYl",
        "colab_type": "code",
        "colab": {}
      },
      "source": [
        ""
      ],
      "execution_count": 0,
      "outputs": []
    },
    {
      "cell_type": "markdown",
      "metadata": {
        "id": "RXTekA2dOe7i",
        "colab_type": "text"
      },
      "source": [
        "## *References*:\n",
        "\n",
        "1. Matplotlib API di https://matplotlib.org/3.1.1/api/index.html.\n",
        "2. Matplotlib documentation di https://matplotlib.org/3.2.1/contents.html.\n",
        "3. Matplotlib tutorial page di https://matplotlib.org/3.2.1/tutorials/index.html.\n",
        "4. Matplotlib Scipy Con 2019 di https://github.com/matplotlib/GettingStarted."
      ]
    },
    {
      "cell_type": "markdown",
      "metadata": {
        "id": "E7Lhv6cxPF2c",
        "colab_type": "text"
      },
      "source": [
        "## *Packages/Libraries* Lainnya untuk Visualisasi:\n",
        "\n",
        "1. [Seaborn](https://seaborn.pydata.org/)\n",
        "2. [Bokeh](https://bokeh.org/) \n",
        "3. [Plotly for python](https://plotly.com/python/), tersedia juga untuk R dan JavaScript.\n",
        "\n",
        "    dan yang lainnya."
      ]
    },
    {
      "cell_type": "markdown",
      "metadata": {
        "id": "TYhBvRcfQhUw",
        "colab_type": "text"
      },
      "source": [
        "\n",
        "\n",
        "---\n",
        "\n",
        "\n",
        "\n",
        "---\n",
        "\n"
      ]
    }
  ]
}