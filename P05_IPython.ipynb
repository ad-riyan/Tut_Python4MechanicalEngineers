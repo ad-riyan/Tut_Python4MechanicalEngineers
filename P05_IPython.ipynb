{
  "nbformat": 4,
  "nbformat_minor": 0,
  "metadata": {
    "colab": {
      "name": "P05-IPython.ipynb",
      "provenance": [],
      "collapsed_sections": [],
      "authorship_tag": "ABX9TyOycWQ/1++LRv2hLGCsDUxq",
      "include_colab_link": true
    },
    "kernelspec": {
      "name": "python3",
      "display_name": "Python 3"
    }
  },
  "cells": [
    {
      "cell_type": "markdown",
      "metadata": {
        "id": "view-in-github",
        "colab_type": "text"
      },
      "source": [
        "<a href=\"https://colab.research.google.com/github/ad-riyan/Tutorial_Python4MechanicalEngineers/blob/master/P05_IPython.ipynb\" target=\"_parent\"><img src=\"https://colab.research.google.com/assets/colab-badge.svg\" alt=\"Open In Colab\"/></a>"
      ]
    },
    {
      "cell_type": "markdown",
      "metadata": {
        "id": "yMOkL-j42OOm",
        "colab_type": "text"
      },
      "source": [
        "# IPython\n",
        "*Python for Mechanical Engineers*\n",
        "\n",
        "<br>\n",
        "\n",
        "![](https://ipython.org/_static/IPy_header.png)\n",
        "\n",
        "*IPython Logo: https://ipython.org/_static/IPy_header.png*\n",
        "\n",
        "<br><br>\n",
        "\n",
        "### Adriyan \n",
        "\n",
        "<br>\n",
        "\n",
        "Adriyan, 2020:: *Digunakan untuk keperluan pelatihan!*\n",
        "\n",
        "<br>\n",
        "\n",
        "---\n",
        "\n",
        "<br>"
      ]
    },
    {
      "cell_type": "markdown",
      "metadata": {
        "id": "AgPFYHA026Oh",
        "colab_type": "text"
      },
      "source": [
        "## 1 | *An Intro to IPython*\n",
        "\n",
        "IPython provides a rich architecture for interactive computing with:\n",
        "\n",
        "* A powerful interactive shell.\n",
        "* A kernel for Jupyter (Jupyter Notebook & Jupyter Lab).\n",
        "* Support for interactive data visualization and use of GUI toolkits.\n",
        "* Flexible, embeddable interpreters to load into your own projects.\n",
        "* Easy to use, high performance tools for parallel computing.\n",
        "\n",
        "*Source: https://ipython.org/*\n",
        "\n",
        "<br>\n",
        "\n",
        "**Other pieces**:\n",
        "\n",
        "Many pieces which were previously part of IPython were split out in version 4, and now have their own documentation.\n",
        "\n",
        "* [Jupyter](https://jupyter.readthedocs.io/en/latest) includes:\n",
        "    * The [Jupyter notebook](https://jupyter-notebook.readthedocs.io/en/latest/) and [notebook file format](https://nbformat.readthedocs.io/en/latest/format_description.html)\n",
        "    * The [Jupyter Qt console](https://qtconsole.readthedocs.io/en/latest/)\n",
        "    * The [kernel messaging protocol](https://jupyter-client.readthedocs.io/en/latest/messaging.html)\n",
        "    * Many other components\n",
        "* [ipyparallel](https://ipyparallel.readthedocs.io/en/stable) (formerly `IPython.parallel`)\n",
        "* [ipykernel](https://ipykernel.readthedocs.io/en/latest/) (minimal docs, only release notes for the ipykernel package)\n",
        "* [ipywidgets](https://ipywidgets.readthedocs.io/en/latest/) (formerly `IPython.html.widgets`)\n",
        "* [Traitlets](https://traitlets.readthedocs.io/en/stable/), the config system used by IPython and Jupyter\n",
        "\n",
        "*Source: https://ipython.org/documentation.html*"
      ]
    },
    {
      "cell_type": "markdown",
      "metadata": {
        "id": "qQfomWhd4pgj",
        "colab_type": "text"
      },
      "source": [
        "## 2 | *Let's start*"
      ]
    },
    {
      "cell_type": "code",
      "metadata": {
        "id": "QcLWjmOl2Am2",
        "colab_type": "code",
        "colab": {}
      },
      "source": [
        ""
      ],
      "execution_count": null,
      "outputs": []
    },
    {
      "cell_type": "markdown",
      "metadata": {
        "id": "JvCh2wMw5D9D",
        "colab_type": "text"
      },
      "source": [
        "## 3 | *Embedding*\n",
        "\n",
        "Ada fitur IPython yang dapat digunakan untuk melakukan embedding *image*, *video*, *web page (html)*, *audio*, dll.\n",
        "\n",
        "Dapat diakses dari `from IPython import display` atau `from IPython.display import <<nama-nama methods dari display>>`"
      ]
    },
    {
      "cell_type": "code",
      "metadata": {
        "id": "3dBvPYMj5U_Y",
        "colab_type": "code",
        "colab": {}
      },
      "source": [
        ""
      ],
      "execution_count": null,
      "outputs": []
    },
    {
      "cell_type": "markdown",
      "metadata": {
        "id": "_CNo0pvW5CYz",
        "colab_type": "text"
      },
      "source": [
        "## 4 | *Magic Functions a.k.a IPython Magic*\n",
        "\n",
        "Dua jenis umum *magic function* dalam IPython, yang dapat diterapkan pada ***cell*** yaitu\n",
        "* ***line magic***: *Inline magic function* diawali oleh `%`.\n",
        "* ***cell magic***: *Multiline magic function* diawali oleh `%%` yang harus ditempatkan pada baris teratas di setiap ***cell***.\n",
        "\n",
        "*Source*: https://ipython.readthedocs.io/en/stable/interactive/magics.html "
      ]
    },
    {
      "cell_type": "markdown",
      "metadata": {
        "id": "VQb4IVePytbr",
        "colab_type": "text"
      },
      "source": [
        "### 4.1 | *Line Magic*"
      ]
    },
    {
      "cell_type": "code",
      "metadata": {
        "id": "ijCesnAI5VaT",
        "colab_type": "code",
        "colab": {}
      },
      "source": [
        ""
      ],
      "execution_count": null,
      "outputs": []
    },
    {
      "cell_type": "markdown",
      "metadata": {
        "id": "YdPmMHv5yxuy",
        "colab_type": "text"
      },
      "source": [
        "### 4.2 | *Cell Magic*"
      ]
    },
    {
      "cell_type": "code",
      "metadata": {
        "id": "Y7P2VU3yy2Fr",
        "colab_type": "code",
        "colab": {}
      },
      "source": [
        ""
      ],
      "execution_count": null,
      "outputs": []
    },
    {
      "cell_type": "markdown",
      "metadata": {
        "id": "iTmsPHV8zFJd",
        "colab_type": "text"
      },
      "source": [
        "## 5 | *Cell as a Bash (the Bourne Again SHell)*"
      ]
    },
    {
      "cell_type": "code",
      "metadata": {
        "id": "6G9xg8a-1jJy",
        "colab_type": "code",
        "colab": {}
      },
      "source": [
        ""
      ],
      "execution_count": null,
      "outputs": []
    },
    {
      "cell_type": "markdown",
      "metadata": {
        "id": "pZCW1zHj4stX",
        "colab_type": "text"
      },
      "source": [
        "## *References*:\n",
        "\n",
        "[1]. https://ipython.org/documentation.html --> https://ipython.readthedocs.io/en/stable/\n",
        "\n",
        "---"
      ]
    }
  ]
}