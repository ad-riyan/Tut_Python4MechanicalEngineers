{
  "nbformat": 4,
  "nbformat_minor": 0,
  "metadata": {
    "colab": {
      "name": "P00-Python4ME.ipynb",
      "provenance": [],
      "collapsed_sections": [],
      "toc_visible": true,
      "authorship_tag": "ABX9TyMBNRRA8weDzrzxvCxGyj4m",
      "include_colab_link": true
    },
    "kernelspec": {
      "name": "python3",
      "display_name": "Python 3"
    }
  },
  "cells": [
    {
      "cell_type": "markdown",
      "metadata": {
        "id": "view-in-github",
        "colab_type": "text"
      },
      "source": [
        "<a href=\"https://colab.research.google.com/github/ad-riyan/Tutorial_Python4MechanicalEngineers/blob/master/P00_Python4ME.ipynb\" target=\"_parent\"><img src=\"https://colab.research.google.com/assets/colab-badge.svg\" alt=\"Open In Colab\"/></a>"
      ]
    },
    {
      "cell_type": "markdown",
      "metadata": {
        "id": "6-QhKvI9vNl9",
        "colab_type": "text"
      },
      "source": [
        "# Python for Mechanical Engineers\n",
        "\n",
        "<br><br>\n",
        "\n",
        "### Adriyan \n",
        "\n",
        "<br>\n",
        "&copy; Adriyan, 2020\n",
        "\n",
        "*Digunakan untuk keperluan pelatihan!*\n",
        "\n",
        "<br>\n",
        "\n",
        "---\n",
        "\n",
        "<br>"
      ]
    },
    {
      "cell_type": "markdown",
      "metadata": {
        "id": "4mJS-CTKYew2",
        "colab_type": "text"
      },
      "source": [
        "## 1 | Pengantar"
      ]
    },
    {
      "cell_type": "markdown",
      "metadata": {
        "id": "jxanKgstG4xq",
        "colab_type": "text"
      },
      "source": [
        "### 1.1 | Python\n",
        "\n",
        "[Python](https://www.python.org/) adalah bahasa pemrograman yang dibuat pertama kalinya oleh [Guido van Rossum](https://en.wikipedia.org/wiki/Guido_van_Rossum) yang saat itu peneliti di Universitas Amsterdam, Belanda. \n",
        "\n",
        "Python dirilis ke publik untuk yang pertama pada awal dekade 1990. Lisensi Python yang open source dipegang oleh Python Software Foundation (PSF), lembaga yang didirikan oleh Guido dan rekan-rekannya di awal 2000-an.\n",
        "[Lihat *history* dan *license* python](https://docs.python.org/3/license.html)\n",
        "\n",
        "Apa saja yang membuat Python itu lebih dibandingkan bahasa pemograman lainnya:\n",
        "1. **Open source**, tentunya Anda tidak harus membayar lisensi Python baik dalam penggunaan atau membuat aplikasi berbasis Python untuk tujuan komersial.\n",
        "2. **Mudah ditulis dan dibaca (*easy to write and read*)**, sintaks Python yang hampir mendekati bahasa manusia yaitu bahasa Inggris sehingga membuat penulisan kode program menjadi mudah. Bagi yang membaca kode program walaupun bukan yang memprogram juga akan mudah mengerti kode program yang telah ditulis.\n",
        "3. **Bahasa pemograman berjenis interpreted**, tidak seperti bahasa C/C++ atau Fortran sebagai bahasa berjenis *compiled*.\n",
        "4. **Mendukung pemograman berorientasi objek (*object oriented programming* atau OOP singkatnya)** disamping pemograman fungsional (*functional programming*)\n",
        "5. Karena sifatnya yang *easy to write and read*, Python digunakan sebagai bahasa perintah (*command*) untuk mengakomodir aplikasi yang dibuat dengan bahasa pemograman lainnya. \n",
        "6. **Memiliki cukup banyak *package* (dikenal sebagai Python *packages*)** yang ditujukan untuk komputasi saintifik (*scientific computing*) oleh saintis dan insinyur, kecerdasan buatan (*artificial intelligence* atau AI singkatnya), *machine learning*, dan *data science*. Python *libraries (packages)* merupakan pustaka atau packages yang ditulis dengan bahasa pemrograman python untuk keperluan tertentu di luar pustaka bawaan (*built-in libraries*).\n",
        "Dapat diakses melalui PyPI (Python Package Index): https://pypi.org/. \n",
        "\n",
        "7. Digunakan oleh Google sebagai inti mesin pencarinya (*search engine*), Dropbox, Youtube, NASA, Lucas Film, dan perusahaan besar lainnya.\n"
      ]
    },
    {
      "cell_type": "markdown",
      "metadata": {
        "id": "gb-5-9z0ILFz",
        "colab_type": "text"
      },
      "source": [
        "### 1.2 | Versi Python\n",
        "\n",
        "Saat ini Python memiliki dua versi utama (mayor) yaitu Python 2 dan Python 3. [Mulai 1 Januari 2020 Python 2 sudah EOL (end of life)](https://www.python.org/doc/sunset-python-2/).\n",
        "\n",
        "Secara umum Python dirilis melalui versi dengan kode **major.minor.micro**. **Major**( merupakan versi utama/mayor Python yang ditandai dengan perubahan besar dalam bahasanya. **Minor** adalah perubahan kecil pada bahasanya misalnya untuk perbaikan penulisan dan perbaikan kemampuan eksekusi. Sedangkan **micro** ditujukan untuk rilis bug fixed. \n",
        "\n",
        "Secara umum, pengguna (end-user) Python menggunakan Python yang rilis stabil (stable releases) dari penamaan versi major.minor.micro ini.\n",
        "\n",
        "\n"
      ]
    },
    {
      "cell_type": "markdown",
      "metadata": {
        "id": "tdbV3cJtPuzp",
        "colab_type": "text"
      },
      "source": [
        "### 1.3 | Python Distribution\n",
        "\n",
        "Karena Python memiliki *packages* yang sangat banyak dalam berbagai area, beberapa perusahaan teknologi dunia membundel Python dengan *packages* tertentu untuk didistribusikan kepada pengguna (*end-user*). Tujuan utamanya adalah pengguna tidak terlalu direpotkan dengan melakukan instalasi tambahan setelah Python selesai diinstal.\n",
        "Apa saja *packages* Python yang didistribusikan ke *end-user* ini? Secara umum diantaranya adalah:\n",
        "1.\tScientific Python Stacks (scipy *stacks*), yaitu kumpulan *packages* yang berisi pustaka untuk keperluan saintific seperti [NumPy](https://numpy.org/) (numerical python) untuk tipe data array seperti Matlab, [Scipy](https://www.scipy.org/) (scientific python) untuk perhitungan saintific, Matplotlib untuk plotting, [SymPy](https://www.sympy.org/) (Symbolic Python) untuk komputasi simbolik seperti Maple atau Mathematica, Pandas untuk manipulasi data dan analisis data. Akhirnya adalah IPython sebagai *command editor* Python secara interactif dan juga bangunan dasar untuk Jupyter Notebook.\n",
        "2.\t*Database*, seperti SQL Alchemy disamping bawaan Python sendiri yaitu SQLite.\n",
        "3.\tIDE seperti [Spyder](https://www.spyder-ide.org/) selayaknya replika tampilan Matlab (aplikasi komersial).\n",
        "4.\tNotebook seperti [Jupyter Notebook](https://jupyter.org/) atau [JupyterLab](https://jupyter.org/), yaitu integrasi kode, tulisan (*text*), dan visualisasi pada satu halaman dengan menggunakan *browser* seperti Chrome, Firefox, atau Safari. Package ini seperti selayaknya menggunakan Mathematica (aplikasi komersial) \n",
        "5.\t*Plotting* atau visualisasi, seperti vtk, [MayaVi](https://docs.enthought.com/mayavi/mayavi/), [Bokeh](https://bokeh.org/), [HoloView](http://holoviews.org/), [plotly](https://plotly.com/python/), [Seaborn](https://seaborn.pydata.org/), [Matplotlib](https://matplotlib.org/), dll.\n",
        "6.\tAplikasi saintific untuk domain tertentu seperti *bioinformatics* (biopython), *machine learning* (Scikit-learn), *image processing & computer vision* (scikit-image, open CV), astrofisika (astropy). Sayangnya untuk AI (seperti Keras dan TensorFlow) sepanjang pengetahuan penulis belum dibundel tetapi dapat diinstalasi nantinya.\n",
        "7.\tUntuk membuat antarmuka tampilan secara grafis (*graphical user interfaces* yang disingkat GUI), pengguna dapat menggunakan pyqt (Qt-based) dan wxpython. Bawaan Python untuk GUI ini adalah tk.\n",
        "8.\t*Package management*, seperti conda dan enthought deployment manager (EDM) disamping bawaan Python sendiri yaitu pip. \n",
        "\n",
        "Siapa saja perusahaan teknologi dunia yang mendistribusikan Python dengan beberapa package-nya? Secara umum untuk keperluan komputasi saintifik dan data science ada dua perusahaan teknologi yaitu\n",
        "1.\tAnaconda Inc. dulu namanya Continuum Analytic Inc. yang bermarkas di Texas, Amerika Serikat. Ini adalah perusahaan besar yang menyediakan distribusi Python untuk *data science* (dan juga *scientific computing*) secara *open source* dan skala perusahaan atau *enterprise*. Untuk *open source*, python *distribution*-nya adalah Anaconda Individual Edition (https://www.anaconda.com/products/individual) yang tersedia untuk sistem operasi Windows, MacOS, dan Linux/PowerPC. Sementara itu, Anaconda Enterprise memiliki lisensi komersial yang ditujukan kepada perusahaan.\n",
        "\n",
        "2.\tEnthought Inc. yang juga bermarkas di Texas, Amerika Serikat menyediakan Python distribution untuk *scientific and analytic computing*. Distribusi Python yang dirilis dengan jenis *open source* adalah Enthought Deployment Manager (https://www.enthought.com/enthought-deployment-manager/) yang tersedia untuk sistem operasi Windows, MacOS, dan Linux.  \n",
        "\n",
        "Perusahaan lainnya adalah:\n",
        "1.\tIntel Corp. melalui Intel Distribution for Python (https://software.intel.com/en-us/distribution-for-python) yang bersifat *open source*. Intel juga menyediakan Python *distribution* untuk sistem operasi Windows, MacOS, dan Linux. \n",
        "\n",
        "2.\tActivestate Software Inc. melalui ActivePython *Community Edition* (https://www.activestate.com/products/python/downloads/) yang bersifat *open source* di laman situs resminya untuk sistem operasi Windows, Linux dan Mac.\n",
        "\n",
        "3.\tMicrosoft Inc. melalui Visual Studio with Python versi *Community* di https://visualstudio.microsoft.com/vs/features/python/.\n"
      ]
    },
    {
      "cell_type": "markdown",
      "metadata": {
        "id": "Js2em9XdbBjX",
        "colab_type": "text"
      },
      "source": [
        "## 2 | Menggunakan Google Colaboratory\n",
        "\n",
        "Google colaboratory\n",
        "* Dapat diakses dari akun google Anda melalui [colab.research.google.com](https://colab.research.google.com/).\n",
        "* [*Getting started* penggunaan Google Colab](https://colab.research.google.com/notebooks/intro.ipynb)\n",
        "\n",
        "Jika Anda menginginkan versi local (ter-*install*) di komputer Anda, gunakan [Anaconda Individual Edition 2020.02](https://www.anaconda.com/products/individual). Cara meng-*install*-nya untuk berbagai sistem operasi dapat dilihat di https://docs.anaconda.com/anaconda/install/."
      ]
    },
    {
      "cell_type": "markdown",
      "metadata": {
        "id": "9-zlCELkYMgn",
        "colab_type": "text"
      },
      "source": [
        "## 3 | Python for Mechanical Engineers\n",
        "\n",
        "1. Python 3\n",
        "2. Scientific Python Stacks (SciPy Stacks):\n",
        "    * Numpy (Numerical Python)\n",
        "    * Matplotlib (Plotting/visualization)\n",
        "    * Scipy (Scientific Python)\n",
        "    * Sympy (Symbolic Python)"
      ]
    },
    {
      "cell_type": "markdown",
      "metadata": {
        "id": "mqM4oAr2Vui9",
        "colab_type": "text"
      },
      "source": [
        "## 4 | Jadwal\n",
        "\n",
        "Materi untuk *Scientific Computing with Python*\n",
        "\n",
        "|Hari/Tanggal        |Pertemuan| Materi       |Deskripsi singkat |\n",
        "|:-------------------|:--------|:-------------|:-----------------|\n",
        "|Sabtu, 6 Juni 2020  |ME01     |P00-Python4ME |Apa itu bahasa pemrograman python\n",
        "|                    |         |P01-Python3   |Bahasa pemrograman python\n",
        "|Sabtu, 13 Juni 2020 |ME02     |P02-Numpy     |Numerical python: a *n*-dimensional array library\n",
        "|                    |         |P03-Matplotlib|Visualization\n",
        "|Sabtu, 20 Juni 2020 |ME03     |P04-Scipy     |Scientific library for integration, differentiation, linear algebra, signal processing, fft, statistics, root finding, optimization, etc.\n",
        "|                    |         |P05-IPython   |Library IPython for notebook and its magic :)\n",
        "|Sabtu, 27 Juni 2020 |ME04     |P06-Sympy     |Symbolic computation\n",
        "\n",
        "\n",
        "Alokasi waktu setiap pertemuan (untuk masing-masing MEXX) adalah 120 menit.\n",
        "\n",
        "Online training di https://meet.jit.si/LDSFamily_Python4MechanicalEngineers."
      ]
    },
    {
      "cell_type": "markdown",
      "metadata": {
        "id": "ZfKCkk1WcTsH",
        "colab_type": "text"
      },
      "source": [
        "\n",
        "\n",
        "---\n",
        "\n",
        "\n",
        "\n",
        "---\n",
        "\n"
      ]
    }
  ]
}