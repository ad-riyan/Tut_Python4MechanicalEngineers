{
  "nbformat": 4,
  "nbformat_minor": 0,
  "metadata": {
    "colab": {
      "name": "P04-P05-Studi Kasus.ipynb",
      "provenance": [],
      "collapsed_sections": [],
      "authorship_tag": "ABX9TyOgfmvvQ5YiQQElyoZc8UzA",
      "include_colab_link": true
    },
    "kernelspec": {
      "name": "python3",
      "display_name": "Python 3"
    }
  },
  "cells": [
    {
      "cell_type": "markdown",
      "metadata": {
        "id": "view-in-github",
        "colab_type": "text"
      },
      "source": [
        "<a href=\"https://colab.research.google.com/github/ad-riyan/Tutorial_Python4MechanicalEngineers/blob/master/P04_P05_Studi_Kasus.ipynb\" target=\"_parent\"><img src=\"https://colab.research.google.com/assets/colab-badge.svg\" alt=\"Open In Colab\"/></a>"
      ]
    },
    {
      "cell_type": "markdown",
      "metadata": {
        "id": "V7ISr0zccKMr",
        "colab_type": "text"
      },
      "source": [
        "# P04 & P05 - Studi Kasus\n",
        "*Python for Mechanical Engineers*\n",
        "\n",
        "<br><br>\n",
        "\n",
        "### Adriyan \n",
        "\n",
        "<br>\n",
        "\n",
        "Adriyan, 2020:: *Digunakan untuk keperluan pelatihan!*\n",
        "\n",
        "<br>\n",
        "\n",
        "---\n",
        "\n",
        "<br>"
      ]
    },
    {
      "cell_type": "markdown",
      "metadata": {
        "id": "fpjcfvaligFF",
        "colab_type": "text"
      },
      "source": [
        "## Studi Kasus: Simulasi Monte Carlo\n",
        "\n",
        "Hitunglah nilai $\\pi$ menggunakan simulasi Monte Carlo.\n",
        "1. *pure python*\n",
        "2. *numpy array*\n",
        "\n",
        "Ceklah \n",
        "* waktu komputasinya, dan\n",
        "* profile jika terdapat *bottleneck* dalam kode yang dibuat \n",
        "\n",
        "menggunakan IPython magic "
      ]
    },
    {
      "cell_type": "code",
      "metadata": {
        "id": "XXlE4Acyi-dj",
        "colab_type": "code",
        "colab": {}
      },
      "source": [
        ""
      ],
      "execution_count": null,
      "outputs": []
    }
  ]
}