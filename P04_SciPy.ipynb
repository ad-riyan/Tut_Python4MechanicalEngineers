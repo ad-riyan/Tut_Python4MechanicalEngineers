{
  "nbformat": 4,
  "nbformat_minor": 0,
  "metadata": {
    "colab": {
      "name": "P04-SciPy.ipynb",
      "provenance": [],
      "collapsed_sections": [],
      "toc_visible": true,
      "authorship_tag": "ABX9TyON9qbb0Ee1LVyRmctvHYgV",
      "include_colab_link": true
    },
    "kernelspec": {
      "name": "python3",
      "display_name": "Python 3"
    }
  },
  "cells": [
    {
      "cell_type": "markdown",
      "metadata": {
        "id": "view-in-github",
        "colab_type": "text"
      },
      "source": [
        "<a href=\"https://colab.research.google.com/github/ad-riyan/Tutorial_Python4MechanicalEngineers/blob/master/P04_SciPy.ipynb\" target=\"_parent\"><img src=\"https://colab.research.google.com/assets/colab-badge.svg\" alt=\"Open In Colab\"/></a>"
      ]
    },
    {
      "cell_type": "markdown",
      "metadata": {
        "id": "zYlzFuR8gRWR",
        "colab_type": "text"
      },
      "source": [
        "# SciPy (Scientific Python)\n",
        "*Python for Mechanical Engineers*\n",
        "\n",
        "![](https://cdn.shortpixel.ai/spai/w_194+q_lossy+ret_img+to_webp/https://numfocus.org/wp-content/uploads/2017/11/scipy-logo-300.png)\n",
        "\n",
        "*Scipy Logo: /https://numfocus.org/wp-content/uploads/2017/11/scipy-logo-300.png*\n",
        "\n",
        "<br><br>\n",
        "\n",
        "### Adriyan \n",
        "\n",
        "<br>\n",
        "\n",
        "Adriyan, 2020:: *Digunakan untuk keperluan pelatihan!*\n",
        "\n",
        "<br>\n",
        "\n",
        "---\n",
        "\n",
        "<br>"
      ]
    },
    {
      "cell_type": "markdown",
      "metadata": {
        "id": "6XtggD3NSWsI",
        "colab_type": "text"
      },
      "source": [
        "## 1 | *An Intro to SciPy*"
      ]
    },
    {
      "cell_type": "markdown",
      "metadata": {
        "id": "8QJF_EugT-hI",
        "colab_type": "text"
      },
      "source": [
        "### 1.1 | *SciPy library (SciPy is pronounced as “Sigh Pie”)*\n",
        "\n",
        "*SciPy is a collection of mathematical algorithms and convenience functions built on the NumPy extension of Python. It adds significant power to the interactive Python session by providing the user with high-level commands and classes for manipulating and visualizing data. With SciPy, an interactive Python session becomes a data-processing and system-prototyping environment rivaling systems, such as MATLAB, IDL, Octave, R-Lab, and SciLab.*\n",
        "\n",
        "*The additional benefit of basing SciPy on Python is that this also makes a powerful programming language available for use in developing sophisticated programs and specialized applications. Scientific applications using SciPy benefit from the development of additional modules in numerous niches of the software landscape by developers across the world. Everything from parallel programming to web and data-base subroutines and classes have been made available to the Python programmer. All of this power is available in addition to the mathematical libraries in SciPy.*\n",
        "\n",
        "*Source*: https://docs.scipy.org/doc/scipy/reference/tutorial/general.html (*the first two paragraphs*).\n",
        "\n",
        "<br>\n",
        "\n",
        "*The documentation, helps, tutorials, and if you're gonna contribute to SciPy as a developer, please visit*: https://docs.scipy.org/doc/.\n",
        "\n",
        "<br>"
      ]
    },
    {
      "cell_type": "markdown",
      "metadata": {
        "id": "_cHMviRdT39m",
        "colab_type": "text"
      },
      "source": [
        "### 1.2 | *SciPy Organization*\n",
        "\n",
        "*SciPy is organized into subpackages covering different scientific computing domains. These are summarized in the following table*:\n",
        "\n",
        "| **Subpackage** | **Description** |\n",
        "|------------|-------------|\n",
        "|[`cluster`](https://docs.scipy.org/doc/scipy/reference/cluster.html#module-scipy.cluster)   |Clustering algorithms -- Unsupervised learning|\n",
        "|[`constants`](https://docs.scipy.org/doc/scipy/reference/constants.html#module-scipy.constants) |Physical and mathematical constants|\n",
        "|[`fft`](https://docs.scipy.org/doc/scipy/reference/fft.html#module-scipy.fft)   |Fast Fourier Transform routines|\n",
        "|[`integrate`](https://docs.scipy.org/doc/scipy/reference/integrate.html#module-scipy.integrate) |Integration and ordinary differential equation solvers|\n",
        "|[`interpolate`](https://docs.scipy.org/doc/scipy/reference/interpolate.html#module-scipy.interpolate)|Interpolation and smoothing splines|\n",
        "|[`io`](https://docs.scipy.org/doc/scipy/reference/io.html#module-scipy.io)         |Input and Output|\n",
        "|[`linalg`](https://docs.scipy.org/doc/scipy/reference/linalg.html#module-scipy.linalg)     |Linear algebra|\n",
        "|[`ndimage`](https://docs.scipy.org/doc/scipy/reference/ndimage.html#module-scipy.ndimage)    |N-dimensional image processing|\n",
        "|[`odr`](https://docs.scipy.org/doc/scipy/reference/odr.html#module-scipy.odr)        |Orthogonal distance regression|\n",
        "|[`optimize`](https://docs.scipy.org/doc/scipy/reference/optimize.html#module-scipy.optimize)   |Optimization and root-finding routines|\n",
        "|[`signal`](https://docs.scipy.org/doc/scipy/reference/signal.html#module-scipy.signal)     |Signal processing|\n",
        "|[`sparse`](https://docs.scipy.org/doc/scipy/reference/sparse.html#module-scipy.sparse)     |Sparse matrices and associated routines|\n",
        "|[`spatial`](https://docs.scipy.org/doc/scipy/reference/spatial.html#module-scipy.spatial)    |Spatial data structures and algorithms|\n",
        "|[`special`](https://docs.scipy.org/doc/scipy/reference/special.html#module-scipy.special)    |Special functions|\n",
        "|[`stats`](https://docs.scipy.org/doc/scipy/reference/stats.html#module-scipy.stats)      |Statistical distributions and functions`\n"
      ]
    },
    {
      "cell_type": "markdown",
      "metadata": {
        "id": "RaNP_bXOjDy5",
        "colab_type": "text"
      },
      "source": [
        "## 2 | *Let's Start*"
      ]
    },
    {
      "cell_type": "markdown",
      "metadata": {
        "id": "4am_TE2SX12o",
        "colab_type": "text"
      },
      "source": [
        "Untuk meng-*import* subpackage dari Scipy dilakukan dengan:\n",
        "```python\n",
        "from scipy import linalg, optimize, io, signal, stats\n",
        "```\n",
        "\n",
        "Umumnya scipy tidak sendiri digunakan karena dia hanya terdiri dari fungsi-fungsi dalam area komputasi scientific yang bergantung pada array (`NumPy`) dan kemudian visualisasi (`Matplotlib`). Untuk itu dipergunakanlah statement-statement berikut\n",
        "```python\n",
        "import numpy as np\n",
        "import matplotlib as mpl\n",
        "import matplotlib.pyplot as plt\n",
        "from scipy import linalg, sparse, integrate, interpolate, optimize, signal, fft, stats, io \n",
        "```\n",
        "\n",
        "Agar kita dapat menggunakan secara utuh komputasi saintifik."
      ]
    },
    {
      "cell_type": "code",
      "metadata": {
        "id": "VouR-En_Z7QX",
        "colab_type": "code",
        "colab": {}
      },
      "source": [
        ""
      ],
      "execution_count": null,
      "outputs": []
    },
    {
      "cell_type": "markdown",
      "metadata": {
        "id": "wUrFn8yCjSxF",
        "colab_type": "text"
      },
      "source": [
        "## 3 | *Linear Algebra*\n",
        "\n",
        "Diberikan persamaan linear 3 peubah\n",
        "\n",
        "$$\\begin{bmatrix} \n",
        "3 & 2 & 0\\\\\n",
        "1 & -1 & 0\\\\\n",
        "0 & 5 & 1\\\\\n",
        "\\end{bmatrix} \\cdot \\begin{Bmatrix} \n",
        "x_1\\\\ x_2\\\\ x_3\\\\\n",
        "\\end{Bmatrix} = \\begin{Bmatrix} \n",
        "2\\\\ 4\\\\ -1\\\\\n",
        "\\end{Bmatrix}$$\n",
        "\n",
        "Tentukanlah jawab $x_1$, $x_2$, dan $x_3$."
      ]
    },
    {
      "cell_type": "code",
      "metadata": {
        "id": "NzXF2DcNnQCk",
        "colab_type": "code",
        "colab": {}
      },
      "source": [
        ""
      ],
      "execution_count": null,
      "outputs": []
    },
    {
      "cell_type": "markdown",
      "metadata": {
        "id": "zJGw9aGYpChh",
        "colab_type": "text"
      },
      "source": [
        "Diberikan persamaan diferensial algebra atau *differential algebratic equation (DAE)* orde 2 yang ditemui dalam sistem getaran paksa dua derajat kebebasan:\n",
        "\n",
        "$$\\begin{bmatrix} \n",
        "1 & 0\\\\\n",
        "0 & 1\\\\\n",
        "\\end{bmatrix} \\cdot \\begin{Bmatrix} \n",
        "\\ddot{x}_1\\\\ \\ddot{x}_2\\\\\n",
        "\\end{Bmatrix} + \\begin{bmatrix} \n",
        "200 & -100\\\\\n",
        "-100 & 200\\\\\n",
        "\\end{bmatrix} \\cdot \\begin{Bmatrix} \n",
        "x_1\\\\ x_2\\\\ \n",
        "\\end{Bmatrix} = \\begin{Bmatrix} \n",
        "10\\\\ 0\\\\\n",
        "\\end{Bmatrix} \\cdot \\sin{\\left(20 \\cdot t\\right)}$$\n",
        "\n",
        "Tentukanlah frekuensi pribadi dan modus getar sistem."
      ]
    },
    {
      "cell_type": "code",
      "metadata": {
        "id": "sbugFD6UnP_N",
        "colab_type": "code",
        "colab": {}
      },
      "source": [
        ""
      ],
      "execution_count": null,
      "outputs": []
    },
    {
      "cell_type": "markdown",
      "metadata": {
        "id": "I6eAFtcP5YIW",
        "colab_type": "text"
      },
      "source": [
        "**Sparse matrix**"
      ]
    },
    {
      "cell_type": "code",
      "metadata": {
        "id": "3siz-W565Xn9",
        "colab_type": "code",
        "colab": {}
      },
      "source": [
        ""
      ],
      "execution_count": null,
      "outputs": []
    },
    {
      "cell_type": "markdown",
      "metadata": {
        "id": "IUQH2diNtiBY",
        "colab_type": "text"
      },
      "source": [
        "## 4 | *Numerical Integration*\n",
        "\n",
        "Diberikan fungsi bentuk elemen balok\n",
        "\n",
        "$$ \n",
        "\\begin{equation}\n",
        "\\begin{aligned}\n",
        "N_1 \\left( x \\right) &= 1 - \\frac{3 \\cdot x^2}{L^2} + \\frac{2 \\cdot x^3}{L^3}\\\\\n",
        "N_2 \\left( x \\right) &= x - \\frac{2 \\cdot x^2}{L} + \\frac{x^3}{L^2}\\\\\n",
        "N_3 \\left( x \\right) &= \\frac{3 \\cdot x^2}{L^2} - \\frac{2 \\cdot x^3}{L^3}\\\\\n",
        "N_4 \\left( x \\right) &= - \\frac{x^2}{L} + \\frac{x^3}{L^2}\\\\\n",
        "\\end{aligned}\n",
        "\\end{equation}$$\n",
        "\n",
        "Hitunglah matriks kekakuan elemen secara numerik, jika EI setiap elemen seragam\n",
        "\n",
        "$$ \\textbf{k} = EI \\int_{0}^{L} \\textbf{B}^T \\textbf{B} \\cdot \\text{d}x$$\n",
        "\n",
        "dengan\n",
        "\n",
        "$$ \\textbf{B} = \\begin{pmatrix}\n",
        "\\frac{\\text{d}^2N_1}{\\text{d}x^2} & \\frac{\\text{d}^2N_2}{\\text{d}x^2} & \\frac{\\text{d}^2N_3}{\\text{d}x^2}& \\frac{\\text{d}^2N_4}{\\text{d}x^2}\n",
        "\\end{pmatrix}$$\n",
        "\n",
        "Ini dihitung khusus untuk satu elemen balok, $E = 2.1 \\times 10^{11} \\, [\\text{Pa}]$, $I = 10^{-6} \\, [\\text{m}^4]$, dan $L = 0.1 \\, [\\text{m}]$.\n",
        "\n",
        "Untuk mudahnya hitunglah $$k_{11} =  EI \\int_{0}^{L} B_{1} \\cdot B_{1} \\cdot \\text{d}x$$ dan $$k_{34} = EI \\int_{0}^{L} B_{3} \\cdot B_{4} \\cdot \\text{d}x$$\n",
        "\n",
        "dengan\n",
        "$$ \n",
        "\\begin{equation}\n",
        "\\begin{aligned}\n",
        "B_1 \\left( x \\right) &= \\frac{\\text{d}^2N_1}{\\text{d}x^2} = - \\frac{6}{L^2} + \\frac{12 \\cdot x}{L^3} \\\\\n",
        "B_3 \\left( x \\right) &= \\frac{\\text{d}^2N_3}{\\text{d}x^2} = \\frac{6}{L^2} - \\frac{12 \\cdot x}{L^3}\\\\\n",
        "B_4 \\left( x \\right) &= \\frac{\\text{d}^2N_4}{\\text{d}x^2} = - \\frac{2}{L} + \\frac{6 \\cdot x}{L^2}\\\\\n",
        "\\end{aligned}\n",
        "\\end{equation}$$"
      ]
    },
    {
      "cell_type": "code",
      "metadata": {
        "id": "g4jt7_K0l8Lg",
        "colab_type": "code",
        "colab": {}
      },
      "source": [
        ""
      ],
      "execution_count": null,
      "outputs": []
    },
    {
      "cell_type": "markdown",
      "metadata": {
        "id": "m1yoycWjwFO_",
        "colab_type": "text"
      },
      "source": [
        "Diberikan fungsi bentuk elemen pelat membran segi empat\n",
        "\n",
        "$$\n",
        "\\begin{equation}\n",
        "\\begin{aligned}\n",
        "{N_1}(x,y) & = 1 - \\frac{x}{a} - \\frac{y}{b} + \\frac{{xy}}{{ab}}\\\\\n",
        "{N_2}(x,y) &= \\frac{x}{a} - \\frac{{xy}}{{ab}}\\\\\n",
        "{N_3}(x,y) &= \\frac{{xy}}{{ab}}\\\\\n",
        "{N_4}(x,y) &= \\frac{y}{b} - \\frac{{xy}}{{ab}}\n",
        "\\end{aligned}\n",
        "\\end{equation}\n",
        "$$\n",
        "\n",
        "Hitunglah matriks kekakuan elemen secara numerik\n",
        "\n",
        "$$\\textbf{k} = t \\cdot \\int_{0}^{b} \\int_{0}^{a} \\textbf{A}^T \\textbf{c} \\textbf{A} \\, \\text{d}x \\, \\text{d}y$$\n",
        "\n",
        "dengan\n",
        "\n",
        "$$\n",
        "\\begin{equation}\n",
        "\\begin{aligned}\n",
        "\\textbf{c} &= \\frac{E}{1 - \\nu^2} \\, \\begin{bmatrix}\n",
        "1   & \\nu & 0\\\\\n",
        "\\nu & 1   & 0\\\\\n",
        "0   & 0   & \\frac{1-\\nu}{2}\n",
        "\\end{bmatrix} \\\\\n",
        "\\textbf{A} &= \\begin{bmatrix}\n",
        "\\frac{{\\partial {N_1}}}{{\\partial x}} & 0 &\\frac{{\\partial {N_2}}}{{\\partial x}} & 0 &\\frac{{\\partial {N_3}}}{{\\partial x}} & 0 & \\frac{{\\partial {N_4}}}{{\\partial x}} & 0\\\\\n",
        "0 & \\frac{{\\partial {N_1}}}{{\\partial y}} & 0 &\\frac{{\\partial {N_2}}}{{\\partial y}} & 0 &\\frac{{\\partial {N_3}}}{{\\partial y}} & 0 & \\frac{{\\partial {N_4}}}{{\\partial y}}\\\\\n",
        "\\frac{{\\partial {N_1}}}{{\\partial y}} &\\frac{{\\partial {N_2}}}{{\\partial y}} &\\frac{{\\partial {N_3}}}{{\\partial y}} & \\frac{{\\partial {N_4}}}{{\\partial y}} & \\frac{{\\partial {N_1}}}{{\\partial x}} & \\frac{{\\partial {N_2}}}{{\\partial x}} &\\frac{{\\partial {N_3}}}{{\\partial x}} & \\frac{{\\partial {N_4}}}{{\\partial x}}\n",
        "\\end{bmatrix} \n",
        "\\end{aligned}\n",
        "\\end{equation}\n",
        "$$\n",
        "\n",
        "Ini dihitung khusus untuk satu elemen, $E = 2.1 \\times 10^{11} \\, [\\text{Pa}]$, $\\nu = 0.29$, $a = 0.1 \\, [\\text{m}]$, $b = 0.1 \\,[\\text{m}]$, dan $t = 0.02 \\, [\\text{m}]$.\n",
        "\n",
        "<br>\n",
        "\n",
        "Untuk mudahnya hitunglah $$k_{11} =  \\frac{E \\cdot t}{1 - \\nu^2} \\int_{0}^{b} \\int_{0}^{a} \\left[ \\left(\\frac{{\\partial {N_1}}}{{\\partial x}} \\right)^{2} + \\frac{1-\\nu}{2} \\left(\\frac{{\\partial {N_1}}}{{\\partial y}} \\right)^{2}\\right] \\cdot \\, \\text{d}x \\, \\text{d}y$$\n",
        "\n",
        "dengan\n",
        "$$ \n",
        "\\begin{equation}\n",
        "\\begin{aligned}\n",
        "\\frac{{\\partial {N_1}}}{{\\partial x}} &= \\frac{{\\partial {N_1}(x,y)}}{{\\partial x}} = - \\frac{1}{a} + \\frac{{y}}{{ab}} \\\\\n",
        "\\frac{{\\partial {N_1}}}{{\\partial y}} &= \\frac{{\\partial {N_1}(x,y)}}{{\\partial y}} = - \\frac{1}{b} + \\frac{{x}}{{ab}} \\\\\n",
        "\\end{aligned}\n",
        "\\end{equation}$$"
      ]
    },
    {
      "cell_type": "code",
      "metadata": {
        "id": "m0cZPGUOwFm8",
        "colab_type": "code",
        "colab": {}
      },
      "source": [
        ""
      ],
      "execution_count": null,
      "outputs": []
    },
    {
      "cell_type": "markdown",
      "metadata": {
        "id": "88EzUgMCttUy",
        "colab_type": "text"
      },
      "source": [
        "## 5 | *Ordinary Differential Equation* (ODE)\n",
        "\n",
        "Diberikan persamaan getaran bebas 1 DOF\n",
        "\n",
        "$$ \\ddot{x} +  0.4 \\cdot \\dot{x} + 100 \\cdot x = 0 $$\n",
        "\n",
        "Tentukanlah respons getaran bebas sistem selama 10 s. "
      ]
    },
    {
      "cell_type": "code",
      "metadata": {
        "id": "5Cyy9ahEsUPY",
        "colab_type": "code",
        "colab": {}
      },
      "source": [
        ""
      ],
      "execution_count": null,
      "outputs": []
    },
    {
      "cell_type": "markdown",
      "metadata": {
        "id": "n8FZPVv0vGCu",
        "colab_type": "text"
      },
      "source": [
        "Diberikan persamaan getaran bebas 2 DOF\n",
        "\n",
        "$$\\begin{bmatrix} \n",
        "1 & 0\\\\\n",
        "0 & 1\\\\\n",
        "\\end{bmatrix} \\cdot \\begin{Bmatrix} \n",
        "\\ddot{x}_1\\\\ \\ddot{x}_2\\\\\n",
        "\\end{Bmatrix} + \\begin{bmatrix} \n",
        "200 & -100\\\\\n",
        "-100 & 200\\\\\n",
        "\\end{bmatrix} \\cdot \\begin{Bmatrix} \n",
        "x_1\\\\ x_2\\\\ \n",
        "\\end{Bmatrix} = \\begin{Bmatrix} \n",
        "0\\\\ 0\\\\\n",
        "\\end{Bmatrix}$$\n",
        "\n",
        "Tentukanlah respons getaran bebas sistem selama 10 s. "
      ]
    },
    {
      "cell_type": "code",
      "metadata": {
        "id": "eQLQNpcvvaSD",
        "colab_type": "code",
        "colab": {}
      },
      "source": [
        ""
      ],
      "execution_count": null,
      "outputs": []
    },
    {
      "cell_type": "markdown",
      "metadata": {
        "id": "8mtd2WYpuH_u",
        "colab_type": "text"
      },
      "source": [
        "## 6 | *Interpolation*\n",
        "\n",
        "Estimasilah nilai logaritma natural 2 ($\\ln 2$) menggunakan interpolasi linier Newton antara \n",
        "* titik-titik yang diketahui $\\ln 1 = 0$ dan $\\ln 6 = 1.791759$\n",
        "* titik-titik yang diketahui $\\ln 1 = 0$ dan $\\ln 4 = 1.386294$. \n",
        "\n",
        "Dicatat bahwa nilai $\\ln 2$ adalah $0.6931472$ dan tentukan nilai galat absolutnya (*absolute error*).\n"
      ]
    },
    {
      "cell_type": "code",
      "metadata": {
        "id": "K_l6LAKSuJ8H",
        "colab_type": "code",
        "colab": {}
      },
      "source": [
        ""
      ],
      "execution_count": null,
      "outputs": []
    },
    {
      "cell_type": "markdown",
      "metadata": {
        "id": "UR4ZOOp2Zsgv",
        "colab_type": "text"
      },
      "source": [
        "Soal sebelumnya tetapi dengan interpolasi Lagrange"
      ]
    },
    {
      "cell_type": "code",
      "metadata": {
        "id": "yN5Iv-uuaLmJ",
        "colab_type": "code",
        "colab": {}
      },
      "source": [
        ""
      ],
      "execution_count": null,
      "outputs": []
    },
    {
      "cell_type": "markdown",
      "metadata": {
        "id": "o-Iv9AqIuNF6",
        "colab_type": "text"
      },
      "source": [
        "## 7 | *Root Findings*\n",
        "\n",
        "Tentukanlah akar-akar persamaan\n",
        "\n",
        "$$f(x) = -0.6 \\cdot x^2 + 2.4 \\cdot x + 5.5$$\n",
        "\n"
      ]
    },
    {
      "cell_type": "code",
      "metadata": {
        "id": "Z3jgzbKNuTru",
        "colab_type": "code",
        "colab": {}
      },
      "source": [
        ""
      ],
      "execution_count": null,
      "outputs": []
    },
    {
      "cell_type": "markdown",
      "metadata": {
        "id": "1C0oTIHFuUTD",
        "colab_type": "text"
      },
      "source": [
        "## 8 | *Optimization*\n",
        "\n",
        "Tentukanlah minima dari fungsi berikut\n",
        "\n",
        "$$f(x) = 1.6 \\cdot x^3 + 3 \\cdot x^2 - 2 \\cdot x$$\n",
        "\n",
        "yang dikenakan konstrain $x \\ge 0$."
      ]
    },
    {
      "cell_type": "code",
      "metadata": {
        "id": "LSzr4hL8uXo4",
        "colab_type": "code",
        "colab": {}
      },
      "source": [
        ""
      ],
      "execution_count": null,
      "outputs": []
    },
    {
      "cell_type": "markdown",
      "metadata": {
        "id": "BDYrLddqMAeD",
        "colab_type": "text"
      },
      "source": [
        "Temukanlah minima dari fungsi \n",
        "\n",
        "$$f(x, y) = 100 \\cdot \\left(y - x^2 \\right)^2 + \\left(1 - x \\right)^2$$\n",
        "\n",
        "Nilai minimum dari $f(x, y)$ adalah di $(x, y) = (1, 1)$."
      ]
    },
    {
      "cell_type": "code",
      "metadata": {
        "id": "BSSgWhfvMBKt",
        "colab_type": "code",
        "colab": {}
      },
      "source": [
        ""
      ],
      "execution_count": null,
      "outputs": []
    },
    {
      "cell_type": "markdown",
      "metadata": {
        "id": "5woT3wTUuYI5",
        "colab_type": "text"
      },
      "source": [
        "## 9 | *Signal Processing*\n",
        "\n",
        "Diberikan sebuah sinyal yang dikomposisi oleh 3 frekuensi utama\n",
        "\n",
        "$$f(t) = 1.2 \\cdot \\sin{\\left(2 \\pi \\cdot 10 \\cdot t \\right)} + 1.6 \\cdot \\sin{\\left(2 \\pi \\cdot 10.6 \\cdot t \\right)} + 0.75 \\cdot \\sin{\\left(2 \\pi \\cdot 30 \\cdot t \\right)}$$\n",
        "\n",
        "Tentukanlah domain frekuensi dari sinyal"
      ]
    },
    {
      "cell_type": "code",
      "metadata": {
        "id": "2wuXnqOoudkH",
        "colab_type": "code",
        "colab": {}
      },
      "source": [
        ""
      ],
      "execution_count": null,
      "outputs": []
    },
    {
      "cell_type": "markdown",
      "metadata": {
        "id": "fYIxxNQROls5",
        "colab_type": "text"
      },
      "source": [
        "Penggunaan *windowing*"
      ]
    },
    {
      "cell_type": "code",
      "metadata": {
        "id": "Vbq2pyjZOo1L",
        "colab_type": "code",
        "colab": {}
      },
      "source": [
        ""
      ],
      "execution_count": null,
      "outputs": []
    },
    {
      "cell_type": "markdown",
      "metadata": {
        "id": "2Kmsob8xvcME",
        "colab_type": "text"
      },
      "source": [
        "## 10 | *Statistics*\n",
        "\n",
        "Diberikan hasil eksperimen yang diberikan dalam data di `/data/test_regresi.csv`. Jika di dalam eksperimen ini kita menduga bahwa hubungan antara variabel independen dan dependen adalah linier\n",
        "\n",
        "$$y = a_0 + a_1 \\cdot x + \\epsilon $$\n",
        "\n",
        "dengan confidence level  95\\%.\n",
        "\n",
        "Hipotesis \n",
        "* Hipotesis Null $H_0: a_1 = 0$ atau slopenya nol, *p*-value > significance level\n",
        "* Hipotesis alternatif -> $H_1: a_1 \\ne 0$ atau ada slope bernilai konstan, *p*-value < significance level.\n",
        "\n",
        "\n",
        "*See*: http://reliawiki.org/index.php/Simple_Linear_Regression_Analysis#:~:text=The%20tests%20are%20used%20to,%2C%20equals%20some%20constant%20value%2C%20."
      ]
    },
    {
      "cell_type": "code",
      "metadata": {
        "id": "NvQEJ-aqrumX",
        "colab_type": "code",
        "colab": {}
      },
      "source": [
        ""
      ],
      "execution_count": null,
      "outputs": []
    },
    {
      "cell_type": "markdown",
      "metadata": {
        "id": "-hi1NCRNvmDk",
        "colab_type": "text"
      },
      "source": [
        "## 11 | *Files - Input/Output*\n",
        "\n",
        "Dapat menghandle file: `*.mat` (MATLAB), IDL, NetCDF, Matrix Market, Harwell-Boeing, Wav, Arff."
      ]
    },
    {
      "cell_type": "code",
      "metadata": {
        "id": "9wNitInTvpBW",
        "colab_type": "code",
        "colab": {}
      },
      "source": [
        ""
      ],
      "execution_count": null,
      "outputs": []
    },
    {
      "cell_type": "markdown",
      "metadata": {
        "id": "8LoWpnQc0KIl",
        "colab_type": "text"
      },
      "source": [
        "## *References*:\n",
        "\n",
        "[1]. https://docs.scipy.org/doc/scipy/reference/\n",
        "\n",
        "---"
      ]
    }
  ]
}