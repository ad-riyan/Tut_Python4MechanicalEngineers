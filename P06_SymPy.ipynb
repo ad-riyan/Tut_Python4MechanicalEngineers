{
  "nbformat": 4,
  "nbformat_minor": 0,
  "metadata": {
    "colab": {
      "name": "P06-SymPy.ipynb",
      "provenance": [],
      "collapsed_sections": [],
      "toc_visible": true,
      "authorship_tag": "ABX9TyOERfygpLedjfwpIhbVuMZc",
      "include_colab_link": true
    },
    "kernelspec": {
      "name": "python3",
      "display_name": "Python 3"
    }
  },
  "cells": [
    {
      "cell_type": "markdown",
      "metadata": {
        "id": "view-in-github",
        "colab_type": "text"
      },
      "source": [
        "<a href=\"https://colab.research.google.com/github/ad-riyan/Tutorial_Python4MechanicalEngineers/blob/master/P06_SymPy.ipynb\" target=\"_parent\"><img src=\"https://colab.research.google.com/assets/colab-badge.svg\" alt=\"Open In Colab\"/></a>"
      ]
    },
    {
      "cell_type": "markdown",
      "metadata": {
        "id": "yMOkL-j42OOm",
        "colab_type": "text"
      },
      "source": [
        "# SymPy - Symbolic Python\n",
        "*Python for Mechanical Engineers*\n",
        "\n",
        "<br>\n",
        "\n",
        "![](https://www.sympy.org/static/images/logo.png)\n",
        "\n",
        "*SymPy Logo: https://www.sympy.org/static/images/logo.png*\n",
        "\n",
        "<br><br>\n",
        "\n",
        "### Adriyan \n",
        "\n",
        "<br>\n",
        "\n",
        "Adriyan, 2020:: *Digunakan untuk keperluan pelatihan!*\n",
        "\n",
        "<br>\n",
        "\n",
        "---\n",
        "\n",
        "<br>"
      ]
    },
    {
      "cell_type": "markdown",
      "metadata": {
        "id": "AgPFYHA026Oh",
        "colab_type": "text"
      },
      "source": [
        "## 1 | *An Intro to SymPy*\n",
        "\n",
        "**About**\n",
        "\n",
        "> **SymPy** is a Python library for symbolic mathematics. It aims to become a full-featured computer algebra system (CAS) while keeping the code as simple as possible in order to be comprehensible and easily extensible. SymPy is written entirely in Python.\n",
        "\n",
        "**Why SymPy**\n",
        "\n",
        "> SymPy is …\n",
        ">\n",
        "> * **Free**: Licensed under BSD, SymPy is free both as in speech and as in beer.\n",
        "* **Python-based**: SymPy is written entirely in Python and uses Python for its language.\n",
        "* **Lightweight**: SymPy only depends on `mpmath`, a pure Python library for arbitrary floating point arithmetic, making it easy to use.\n",
        "* **A library**: Beyond use as an interactive tool, SymPy can be embedded in other applications and extended with custom functions.\n",
        "\n",
        "*Source: https://www.sympy.org/en/index.html*\n",
        "\n",
        "The lead developers are Ondřej Čertík and Aaron Meurer. It was started in 2005 by Ondřej Čertík. *Source*: https://github.com/sympy/sympy/wiki/SymPy-vs.-Mathematica.\n",
        "\n",
        "<br>\n",
        "\n",
        "> [**Komparasi CAS (Computer Algebra System)**](https://en.wikipedia.org/wiki/List_of_computer_algebra_systems)\n",
        "\n",
        "<br>\n",
        "\n",
        "**What is Symbolic Computation?**\n",
        "\n",
        "> Symbolic computation deals with the computation of mathematical objects symbolically. This means that the mathematical objects are represented exactly, not approximately, and mathematical expressions with unevaluated variables are left in symbolic form.\n",
        "\n",
        "<br>\n",
        "\n"
      ]
    },
    {
      "cell_type": "markdown",
      "metadata": {
        "id": "qQfomWhd4pgj",
        "colab_type": "text"
      },
      "source": [
        "## 2 | *Let's start*\n",
        "\n",
        "Untuk mengimport *library* `sympy`\n",
        "\n",
        "```python\n",
        "import sympy as sym\n",
        "```"
      ]
    },
    {
      "cell_type": "code",
      "metadata": {
        "id": "QcLWjmOl2Am2",
        "colab_type": "code",
        "colab": {}
      },
      "source": [
        ""
      ],
      "execution_count": null,
      "outputs": []
    },
    {
      "cell_type": "markdown",
      "metadata": {
        "id": "LRvmINXNbvS8",
        "colab_type": "text"
      },
      "source": [
        "Esensi dari CAS adalah \n",
        "* symbolic mathematical variables baik independent/dependent.\n",
        "* symbolic parameters/constants\n",
        "\n",
        "<br>\n",
        "\n",
        "Perhatikan fungsi matematis berikut\n",
        "\n",
        "$$\n",
        "\\begin{equation}\n",
        "\\begin{aligned}\n",
        "y(x) &= ax^2 + bx + c &(eq. 1)\\\\ \n",
        "a_{n}y^{(n)}(x) + a_{n-1}y^{(n-1)}(x) + ... + a_{2}y^{\\prime\\prime} + a_{1}y^{\\prime} + a_{0}y(x) &= 0 &(eq. 2)\\\\\n",
        "\\end{aligned}\n",
        "\\end{equation}\n",
        "$$\n",
        "\n",
        "<br>\n",
        "\n",
        "Persamaan pertama $(eq. 1)$ memiliki akar-akar jika $y(x) = 0$ yang dinyatakan oleh\n",
        "$$\n",
        "\\begin{equation}\n",
        "\\begin{aligned}\n",
        "x_1 &= \\frac{-b - \\sqrt{b^2 - 4ac}}{2a}\\\\\n",
        "x_2 &= \\frac{-b + \\sqrt{b^2 - 4ac}}{2a}\\\\\n",
        "\\end{aligned}\n",
        "\\end{equation}\n",
        "$$\n",
        "\n",
        "<br>\n",
        "\n",
        "Untuk persamaan kedua $(eq. 2)$, jika $n = 1$ maka jawabnya adalah\n",
        "$$\n",
        "y(x) = Y_1 e^{s_1 x} + Y_2 e^{s_2 x}\n",
        "$$\n",
        "\n",
        "dengan\n",
        "$$\n",
        "\\begin{equation}\n",
        "\\begin{aligned}\n",
        "s_1 &= \\frac{-a_1 - \\sqrt{a_1^2 - 4a_0 a_2}}{2a_0}\\\\\n",
        "s_2 &= \\frac{-a_1 + \\sqrt{a_1^2 - 4a_0 a_2}}{2a_0}\\\\ \n",
        "\\end{aligned}\n",
        "\\end{equation}\n",
        "$$\n",
        "\n",
        "Jadi, pada CAS, literals dan proses komputasi dilakukan secara symbol matematis."
      ]
    },
    {
      "cell_type": "markdown",
      "metadata": {
        "id": "WVLsfA31oQ-g",
        "colab_type": "text"
      },
      "source": [
        "* Symbols (independent variabels, parameters, coefficients)\n",
        "* Math Functions (dependent variables)\n",
        "* Equations\n"
      ]
    },
    {
      "cell_type": "code",
      "metadata": {
        "id": "2mF9t53Wb-o2",
        "colab_type": "code",
        "colab": {}
      },
      "source": [
        ""
      ],
      "execution_count": null,
      "outputs": []
    },
    {
      "cell_type": "markdown",
      "metadata": {
        "id": "ZqFEXsH7nLZu",
        "colab_type": "text"
      },
      "source": [
        "## 3 | *Displaying Sympy Symbolic Output*\n",
        "\n",
        "Yang umum diantaranya yaitu\n",
        "* str\n",
        "* srepr\n",
        "* ASCII pretty printer\n",
        "* Unicode pretty printer\n",
        "* LaTeX\n",
        "* MathML\n",
        "* Dot"
      ]
    },
    {
      "cell_type": "code",
      "metadata": {
        "id": "K3asouKnkiC_",
        "colab_type": "code",
        "colab": {}
      },
      "source": [
        ""
      ],
      "execution_count": null,
      "outputs": []
    },
    {
      "cell_type": "markdown",
      "metadata": {
        "id": "4SatnsPKqS-V",
        "colab_type": "text"
      },
      "source": [
        "## 4 | Operasi Dasar\n",
        "\n",
        "* Substitusi\n",
        "* Konversi Strings ke SymPy Expressions\n",
        "* `evalf`\n",
        "* `lambdify`"
      ]
    },
    {
      "cell_type": "markdown",
      "metadata": {
        "id": "SUWdEnWookGa",
        "colab_type": "text"
      },
      "source": [
        "### 4.1 | Substitusi"
      ]
    },
    {
      "cell_type": "code",
      "metadata": {
        "id": "U0Rn2kMIo9xD",
        "colab_type": "code",
        "colab": {}
      },
      "source": [
        ""
      ],
      "execution_count": null,
      "outputs": []
    },
    {
      "cell_type": "markdown",
      "metadata": {
        "id": "AsoZaVTRo-Jt",
        "colab_type": "text"
      },
      "source": [
        "### 4.2 | Konversi Strings ke SymPy Expressions"
      ]
    },
    {
      "cell_type": "code",
      "metadata": {
        "id": "QYc4ulVcpANb",
        "colab_type": "code",
        "colab": {}
      },
      "source": [
        ""
      ],
      "execution_count": null,
      "outputs": []
    },
    {
      "cell_type": "markdown",
      "metadata": {
        "id": "iFuBM-YwpAqS",
        "colab_type": "text"
      },
      "source": [
        "### 4.3 | `evalf`"
      ]
    },
    {
      "cell_type": "code",
      "metadata": {
        "id": "rCA-CCmdpBBb",
        "colab_type": "code",
        "colab": {}
      },
      "source": [
        ""
      ],
      "execution_count": null,
      "outputs": []
    },
    {
      "cell_type": "markdown",
      "metadata": {
        "id": "HgMObI8QpCrN",
        "colab_type": "text"
      },
      "source": [
        "### 4.4 | `lambdify`"
      ]
    },
    {
      "cell_type": "code",
      "metadata": {
        "id": "S0GdvEIvpESX",
        "colab_type": "code",
        "colab": {}
      },
      "source": [
        ""
      ],
      "execution_count": null,
      "outputs": []
    },
    {
      "cell_type": "markdown",
      "metadata": {
        "id": "vqaYKH6YpFpr",
        "colab_type": "text"
      },
      "source": [
        "## 5 | *Simplification*\n",
        "\n",
        "* simplify\n",
        "* Polynomial/Rational Function Simplification\n",
        "* Trigonometric Simplification\n",
        "* Powers\n",
        "* Exponentials and logarithms\n",
        "* Special Functions"
      ]
    },
    {
      "cell_type": "markdown",
      "metadata": {
        "id": "7ryjY-PKpRQk",
        "colab_type": "text"
      },
      "source": [
        "### 5.1 | simplify"
      ]
    },
    {
      "cell_type": "code",
      "metadata": {
        "id": "EnuXHqu2pYwk",
        "colab_type": "code",
        "colab": {}
      },
      "source": [
        ""
      ],
      "execution_count": null,
      "outputs": []
    },
    {
      "cell_type": "markdown",
      "metadata": {
        "id": "VWPkBx-WpZM3",
        "colab_type": "text"
      },
      "source": [
        "### 5.2 | Polynomial/Rational Function Simplification\n"
      ]
    },
    {
      "cell_type": "code",
      "metadata": {
        "id": "6ume8mMEpais",
        "colab_type": "code",
        "colab": {}
      },
      "source": [
        ""
      ],
      "execution_count": null,
      "outputs": []
    },
    {
      "cell_type": "markdown",
      "metadata": {
        "id": "byPhPeqepbBM",
        "colab_type": "text"
      },
      "source": [
        "### 5.3 | Trigonometric Simplification\n"
      ]
    },
    {
      "cell_type": "code",
      "metadata": {
        "id": "c5ydCC8PpcUp",
        "colab_type": "code",
        "colab": {}
      },
      "source": [
        ""
      ],
      "execution_count": null,
      "outputs": []
    },
    {
      "cell_type": "markdown",
      "metadata": {
        "id": "eO9cNwPOpctb",
        "colab_type": "text"
      },
      "source": [
        "### 5.4 | Powers\n"
      ]
    },
    {
      "cell_type": "code",
      "metadata": {
        "id": "QTK3dTZnpeM3",
        "colab_type": "code",
        "colab": {}
      },
      "source": [
        ""
      ],
      "execution_count": null,
      "outputs": []
    },
    {
      "cell_type": "markdown",
      "metadata": {
        "id": "-hZsxHgJpehA",
        "colab_type": "text"
      },
      "source": [
        "### 5.5 | Exponentials and logarithms\n"
      ]
    },
    {
      "cell_type": "code",
      "metadata": {
        "id": "7BbitGSJpgS4",
        "colab_type": "code",
        "colab": {}
      },
      "source": [
        ""
      ],
      "execution_count": null,
      "outputs": []
    },
    {
      "cell_type": "markdown",
      "metadata": {
        "id": "fNRt2cYmpf3A",
        "colab_type": "text"
      },
      "source": [
        "### 5.6 | Special Functions"
      ]
    },
    {
      "cell_type": "code",
      "metadata": {
        "id": "k1-mJBtRpiDg",
        "colab_type": "code",
        "colab": {}
      },
      "source": [
        ""
      ],
      "execution_count": null,
      "outputs": []
    },
    {
      "cell_type": "markdown",
      "metadata": {
        "id": "pCovBiZHpunG",
        "colab_type": "text"
      },
      "source": [
        "## 6 | Calculus\n",
        "\n",
        "* Derivatives\n",
        "* Integrals\n",
        "* Limits\n",
        "* Series Expansion"
      ]
    },
    {
      "cell_type": "markdown",
      "metadata": {
        "id": "GttK7fC9pysj",
        "colab_type": "text"
      },
      "source": [
        "### 6.1 | Derivatives\n"
      ]
    },
    {
      "cell_type": "code",
      "metadata": {
        "id": "qD7IBLtBp5Cj",
        "colab_type": "code",
        "colab": {}
      },
      "source": [
        ""
      ],
      "execution_count": null,
      "outputs": []
    },
    {
      "cell_type": "markdown",
      "metadata": {
        "id": "pIU_B577p5WN",
        "colab_type": "text"
      },
      "source": [
        "### 6.2 | Integrals\n"
      ]
    },
    {
      "cell_type": "code",
      "metadata": {
        "id": "j9qpaMkNp6jp",
        "colab_type": "code",
        "colab": {}
      },
      "source": [
        ""
      ],
      "execution_count": null,
      "outputs": []
    },
    {
      "cell_type": "markdown",
      "metadata": {
        "id": "KrmNJr1Dp63j",
        "colab_type": "text"
      },
      "source": [
        "### 6.3 | Limits\n"
      ]
    },
    {
      "cell_type": "code",
      "metadata": {
        "id": "mMfKaMHYp7_t",
        "colab_type": "code",
        "colab": {}
      },
      "source": [
        ""
      ],
      "execution_count": null,
      "outputs": []
    },
    {
      "cell_type": "markdown",
      "metadata": {
        "id": "cZCEjOuhp8bw",
        "colab_type": "text"
      },
      "source": [
        "### 6.4 | Series Expansion"
      ]
    },
    {
      "cell_type": "code",
      "metadata": {
        "id": "8GlK5Qvbp9My",
        "colab_type": "code",
        "colab": {}
      },
      "source": [
        ""
      ],
      "execution_count": null,
      "outputs": []
    },
    {
      "cell_type": "markdown",
      "metadata": {
        "id": "d7jWXvJBqEke",
        "colab_type": "text"
      },
      "source": [
        "## 7 | *Solvers*\n",
        "\n",
        "* Solving Equations Algebraically\n",
        "* Solving Differential Equations"
      ]
    },
    {
      "cell_type": "markdown",
      "metadata": {
        "id": "gMsBdUN-qQFS",
        "colab_type": "text"
      },
      "source": [
        "### 7.1 | Solving Equations Algebraically"
      ]
    },
    {
      "cell_type": "code",
      "metadata": {
        "id": "0rabUOKiqUwP",
        "colab_type": "code",
        "colab": {}
      },
      "source": [
        ""
      ],
      "execution_count": null,
      "outputs": []
    },
    {
      "cell_type": "markdown",
      "metadata": {
        "id": "Qew4rBV0qVCd",
        "colab_type": "text"
      },
      "source": [
        "### 7.2 | Solving Differential Equations"
      ]
    },
    {
      "cell_type": "code",
      "metadata": {
        "id": "qd6Xk0meqWHw",
        "colab_type": "code",
        "colab": {}
      },
      "source": [
        ""
      ],
      "execution_count": null,
      "outputs": []
    },
    {
      "cell_type": "markdown",
      "metadata": {
        "id": "pBjFgH5gsrK0",
        "colab_type": "text"
      },
      "source": [
        "## 8 | Vector & Matrices\n",
        "\n",
        "* Vectors\n",
        "* Matrices\n",
        "* Operations"
      ]
    },
    {
      "cell_type": "markdown",
      "metadata": {
        "id": "BnIYNhods-E9",
        "colab_type": "text"
      },
      "source": [
        "### 8.1 | Vectors"
      ]
    },
    {
      "cell_type": "code",
      "metadata": {
        "id": "AcncoHkDsq1x",
        "colab_type": "code",
        "colab": {}
      },
      "source": [
        ""
      ],
      "execution_count": null,
      "outputs": []
    },
    {
      "cell_type": "markdown",
      "metadata": {
        "id": "QaDegJ1DtEdP",
        "colab_type": "text"
      },
      "source": [
        "### 8.2 | Matrices\n"
      ]
    },
    {
      "cell_type": "code",
      "metadata": {
        "id": "P0eVN3MltF8I",
        "colab_type": "code",
        "colab": {}
      },
      "source": [
        ""
      ],
      "execution_count": null,
      "outputs": []
    },
    {
      "cell_type": "markdown",
      "metadata": {
        "id": "c_kDOj5PtGTX",
        "colab_type": "text"
      },
      "source": [
        "### 8.3 | Operations"
      ]
    },
    {
      "cell_type": "code",
      "metadata": {
        "id": "649M8KAXtHOV",
        "colab_type": "code",
        "colab": {}
      },
      "source": [
        ""
      ],
      "execution_count": null,
      "outputs": []
    },
    {
      "cell_type": "markdown",
      "metadata": {
        "id": "Y7GU9cwhs5pd",
        "colab_type": "text"
      },
      "source": [
        "## 9 | Linear Algebra"
      ]
    },
    {
      "cell_type": "code",
      "metadata": {
        "id": "PuKIjHnPs73P",
        "colab_type": "code",
        "colab": {}
      },
      "source": [
        ""
      ],
      "execution_count": null,
      "outputs": []
    },
    {
      "cell_type": "markdown",
      "metadata": {
        "id": "fjajJFTStNml",
        "colab_type": "text"
      },
      "source": [
        "## 10. Integral Transforms"
      ]
    },
    {
      "cell_type": "code",
      "metadata": {
        "id": "Wm2mwrVmtOBY",
        "colab_type": "code",
        "colab": {}
      },
      "source": [
        ""
      ],
      "execution_count": null,
      "outputs": []
    },
    {
      "cell_type": "markdown",
      "metadata": {
        "id": "_rinbpeotRP5",
        "colab_type": "text"
      },
      "source": [
        "***For others you can chek SymPy Modules Reference on*** https://docs.sympy.org/latest/modules/index.html"
      ]
    },
    {
      "cell_type": "markdown",
      "metadata": {
        "id": "pZCW1zHj4stX",
        "colab_type": "text"
      },
      "source": [
        "## *References*:\n",
        "\n",
        "[1]. [SymPy](https://www.sympy.org/en/index.html)\n",
        "\n",
        "[2]. [SymPy Tutorial](https://docs.sympy.org/latest/tutorial/index.html)\n",
        "\n",
        "[3]. [SymPy Modules Reference](https://docs.sympy.org/latest/modules/index.html)\n",
        "\n",
        "[4]. [SymPy’s documentation](https://docs.sympy.org/latest/index.html)\n",
        "\n",
        "[5]. [SymPy vs Mathematica](https://github.com/sympy/sympy/wiki/SymPy-vs.-Mathematica)\n",
        "\n",
        "---"
      ]
    }
  ]
}