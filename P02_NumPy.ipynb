{
  "nbformat": 4,
  "nbformat_minor": 0,
  "metadata": {
    "colab": {
      "name": "P02-NumPy.ipynb",
      "provenance": [],
      "collapsed_sections": [],
      "authorship_tag": "ABX9TyPQwsQNdVK9FJ6vnKODf8q/",
      "include_colab_link": true
    },
    "kernelspec": {
      "name": "python3",
      "display_name": "Python 3"
    }
  },
  "cells": [
    {
      "cell_type": "markdown",
      "metadata": {
        "id": "view-in-github",
        "colab_type": "text"
      },
      "source": [
        "<a href=\"https://colab.research.google.com/github/ad-riyan/Tutorial_Python4MechanicalEngineers/blob/master/P02_NumPy.ipynb\" target=\"_parent\"><img src=\"https://colab.research.google.com/assets/colab-badge.svg\" alt=\"Open In Colab\"/></a>"
      ]
    },
    {
      "cell_type": "markdown",
      "metadata": {
        "id": "1jA55Pr5Qjgk",
        "colab_type": "text"
      },
      "source": [
        "# NumPy (Numerical Python)\n",
        "*Python for Mechanical Engineers*\n",
        "\n",
        "<br><br>\n",
        "\n",
        "### Adriyan \n",
        "\n",
        "<br>\n",
        "&copy; Adriyan, 2020\n",
        "\n",
        "*Digunakan untuk keperluan pelatihan!*\n",
        "\n",
        "<br>\n",
        "\n",
        "---\n",
        "\n",
        "<br>"
      ]
    },
    {
      "cell_type": "markdown",
      "metadata": {
        "id": "0GXNqmJ3Qqb-",
        "colab_type": "text"
      },
      "source": [
        "**NumPy (Numerical Python)**\n",
        "\n",
        "1. ***POWERFUL N-DIMENSIONAL ARRAYS***. \n",
        "Fast and versatile, the NumPy vectorization, indexing, and broadcasting concepts are the de-facto standards of array computing today.\n",
        "\n",
        "2. ***NUMERICAL COMPUTING TOOLS***. \n",
        "NumPy offers comprehensive mathematical functions, random number generators, linear algebra routines, Fourier transforms, and more.\n",
        "\n",
        "3. ***INTEROPERABLE***. \n",
        "NumPy supports a wide range of hardware and computing platforms, and plays well with distributed, GPU, and sparse array libraries.\n",
        "\n",
        "4. ***PERFORMANT***. \n",
        "The core of NumPy is well-optimized C code. Enjoy the flexibility of Python with the speed of compiled code.\n",
        "\n",
        "5. ***EASY TO USE***.\n",
        "NumPy’s high level syntax makes it accessible and productive for programmers from any background or experience level.\n",
        "\n",
        "6. ***OPEN SOURCE***.\n",
        "Distributed under a liberal BSD license, NumPy is developed and maintained publicly on GitHub by a vibrant, responsive, and diverse community.\n",
        "\n",
        "Source: https://numpy.org/."
      ]
    },
    {
      "cell_type": "markdown",
      "metadata": {
        "id": "1G4JCo5kRzeV",
        "colab_type": "text"
      },
      "source": [
        "NumPy digunakan untuk berbagai project dalam domain:\n",
        "\n",
        "1. *Scientific Computing*\n",
        "2. *Data Science*\n",
        "3. *Machine Learning*\n",
        "4. *Deep Learning*"
      ]
    },
    {
      "cell_type": "code",
      "metadata": {
        "id": "pSrJ-GzFQW0Q",
        "colab_type": "code",
        "colab": {}
      },
      "source": [
        ""
      ],
      "execution_count": 0,
      "outputs": []
    }
  ]
}