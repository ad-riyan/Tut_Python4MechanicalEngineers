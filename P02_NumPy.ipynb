{
  "nbformat": 4,
  "nbformat_minor": 0,
  "metadata": {
    "colab": {
      "name": "P02-NumPy.ipynb",
      "provenance": [],
      "collapsed_sections": [],
      "toc_visible": true,
      "authorship_tag": "ABX9TyMRXb1agQtHHPsNHpedAIRI",
      "include_colab_link": true
    },
    "kernelspec": {
      "name": "python3",
      "display_name": "Python 3"
    }
  },
  "cells": [
    {
      "cell_type": "markdown",
      "metadata": {
        "id": "view-in-github",
        "colab_type": "text"
      },
      "source": [
        "<a href=\"https://colab.research.google.com/github/ad-riyan/Tutorial_Python4MechanicalEngineers/blob/master/P02_NumPy.ipynb\" target=\"_parent\"><img src=\"https://colab.research.google.com/assets/colab-badge.svg\" alt=\"Open In Colab\"/></a>"
      ]
    },
    {
      "cell_type": "markdown",
      "metadata": {
        "id": "1jA55Pr5Qjgk",
        "colab_type": "text"
      },
      "source": [
        "# NumPy (Numerical Python)\n",
        "*Python for Mechanical Engineers*\n",
        "\n",
        "<br><br>\n",
        "\n",
        "### Adriyan \n",
        "\n",
        "<br>\n",
        "&copy; Adriyan, 2020\n",
        "\n",
        "*Digunakan untuk keperluan pelatihan!*\n",
        "\n",
        "<br>\n",
        "\n",
        "---\n",
        "\n",
        "<br>"
      ]
    },
    {
      "cell_type": "markdown",
      "metadata": {
        "id": "0GXNqmJ3Qqb-",
        "colab_type": "text"
      },
      "source": [
        "**NumPy (Numerical Python)**\n",
        "\n",
        "1. ***POWERFUL N-DIMENSIONAL ARRAYS***. \n",
        "Fast and versatile, the NumPy vectorization, indexing, and broadcasting concepts are the de-facto standards of array computing today.\n",
        "\n",
        "2. ***NUMERICAL COMPUTING TOOLS***. \n",
        "NumPy offers comprehensive mathematical functions, random number generators, linear algebra routines, Fourier transforms, and more.\n",
        "\n",
        "3. ***INTEROPERABLE***. \n",
        "NumPy supports a wide range of hardware and computing platforms, and plays well with distributed, GPU, and sparse array libraries.\n",
        "\n",
        "4. ***PERFORMANT***. \n",
        "The core of NumPy is well-optimized C code. Enjoy the flexibility of Python with the speed of compiled code.\n",
        "\n",
        "5. ***EASY TO USE***.\n",
        "NumPy’s high level syntax makes it accessible and productive for programmers from any background or experience level.\n",
        "\n",
        "6. ***OPEN SOURCE***.\n",
        "Distributed under a liberal BSD license, NumPy is developed and maintained publicly on GitHub by a vibrant, responsive, and diverse community.\n",
        "\n",
        "Source: https://numpy.org/."
      ]
    },
    {
      "cell_type": "markdown",
      "metadata": {
        "id": "1G4JCo5kRzeV",
        "colab_type": "text"
      },
      "source": [
        "NumPy digunakan untuk berbagai project dalam domain:\n",
        "\n",
        "1. *Scientific Computing*\n",
        "2. *Data Science*\n",
        "3. *Machine Learning*\n",
        "4. *Deep Learning*"
      ]
    },
    {
      "cell_type": "markdown",
      "metadata": {
        "id": "Wz-U-iqaV9nf",
        "colab_type": "text"
      },
      "source": [
        "## 1 | *The First Step*\n",
        "\n",
        "Untuk mengimport NumPy umumnya digunakan perintah berikut:\n",
        "\n",
        "```\n",
        "import numpy as np\n",
        "```"
      ]
    },
    {
      "cell_type": "code",
      "metadata": {
        "id": "0vMvwx2MW-mA",
        "colab_type": "code",
        "colab": {}
      },
      "source": [
        ""
      ],
      "execution_count": 0,
      "outputs": []
    },
    {
      "cell_type": "markdown",
      "metadata": {
        "id": "G_DaXxTxWJm6",
        "colab_type": "text"
      },
      "source": [
        "## 2 | Meng-*create* NumPy Array\n",
        "\n",
        "Python built-in function `type()` dapat digunakan untuk mengecek tipe data dari seluruh packages python.\n",
        "\n",
        "* menggunakan method `.arange()`:: `np.arange(stop)`, `np.arange(start, stop)`, atau `np.arange(start, stop, step)`\n",
        "\n",
        "```python\n",
        "array2_1 = np.arange(6)\n",
        "print(\"array2_1: \", array2_1)\n",
        "array2_2 = np.arange(3, 9, 2)\n",
        "print(\"array2_2: \", array2_2)\n",
        "```"
      ]
    },
    {
      "cell_type": "code",
      "metadata": {
        "id": "AWReEQGNW9sn",
        "colab_type": "code",
        "colab": {}
      },
      "source": [
        ""
      ],
      "execution_count": 0,
      "outputs": []
    },
    {
      "cell_type": "code",
      "metadata": {
        "id": "pTZ4lQOTXiJT",
        "colab_type": "code",
        "colab": {}
      },
      "source": [
        ""
      ],
      "execution_count": 0,
      "outputs": []
    },
    {
      "cell_type": "markdown",
      "metadata": {
        "id": "oFf0MmnxXCfG",
        "colab_type": "text"
      },
      "source": [
        "* menggunakan method `.array()`\n",
        "\n",
        "```python\n",
        "array2_3 = np.array([1, 5, 8])\n",
        "print(\"array2_3: \", array2_3)\n",
        "array2_4 = np.array([[1, 5, -3],\n",
        "                     [0, -3, 4]])\n",
        "print(\"array2_4: \\n\", array2_4)\n",
        "```"
      ]
    },
    {
      "cell_type": "code",
      "metadata": {
        "id": "MYrKI70ZYCje",
        "colab_type": "code",
        "colab": {}
      },
      "source": [
        ""
      ],
      "execution_count": 0,
      "outputs": []
    },
    {
      "cell_type": "code",
      "metadata": {
        "id": "7w0-OrkuYCfu",
        "colab_type": "code",
        "colab": {}
      },
      "source": [
        ""
      ],
      "execution_count": 0,
      "outputs": []
    },
    {
      "cell_type": "code",
      "metadata": {
        "id": "_WQ_YepvXlKn",
        "colab_type": "code",
        "colab": {}
      },
      "source": [
        ""
      ],
      "execution_count": 0,
      "outputs": []
    },
    {
      "cell_type": "markdown",
      "metadata": {
        "id": "FhRPqIm8YKye",
        "colab_type": "text"
      },
      "source": [
        "* menggunakan method `.linspace()`: `np.linspace(init, end, number)`\n",
        "\n",
        "```python\n",
        "array2_5 = np.linspace(0, 100, 11)\n",
        "print(array2_5)\n",
        "```"
      ]
    },
    {
      "cell_type": "code",
      "metadata": {
        "id": "WXfSLVSvY7o9",
        "colab_type": "code",
        "colab": {}
      },
      "source": [
        ""
      ],
      "execution_count": 0,
      "outputs": []
    },
    {
      "cell_type": "markdown",
      "metadata": {
        "id": "0F5XjRaMY9jj",
        "colab_type": "text"
      },
      "source": [
        "* menggunakan array khusus: `np.ones`, `np.zeros`, `np.eye`, atau `np.empty`\n",
        "\n",
        "```python\n",
        "array2_6 = np.ones(5)\n",
        "print(\"array2_6: \", array2_6)\n",
        "array2_7 = np.ones((2, 3))\n",
        "print(\"array2_7: \\n\", array2_7)\n",
        "```"
      ]
    },
    {
      "cell_type": "code",
      "metadata": {
        "id": "4NpzGIOxlAQb",
        "colab_type": "code",
        "colab": {}
      },
      "source": [
        ""
      ],
      "execution_count": 0,
      "outputs": []
    },
    {
      "cell_type": "code",
      "metadata": {
        "id": "jasVaWw0lYmu",
        "colab_type": "code",
        "colab": {}
      },
      "source": [
        ""
      ],
      "execution_count": 0,
      "outputs": []
    },
    {
      "cell_type": "code",
      "metadata": {
        "id": "kPts2ZD_lYgb",
        "colab_type": "code",
        "colab": {}
      },
      "source": [
        ""
      ],
      "execution_count": 0,
      "outputs": []
    },
    {
      "cell_type": "markdown",
      "metadata": {
        "id": "D9XUBk-sloHE",
        "colab_type": "text"
      },
      "source": [
        "## 3 | Bentuk (*Shape*) dan Ukuran (*Size*) Array \n",
        "\n",
        "`ndarray.ndim` akan memberitahu jumlah sumbu atau dimensi array.\n",
        "\n",
        "`ndarray.size` akan memberitahu jumlah elemen pada suatu array. Ini merupakan produk/perkalian dari shape suatu array.\n",
        "\n",
        "`ndarray.shape` akan menampilkan sebuah `tuple of integers` yang merupakan jumlah elemen pada setiap dimensi array.\n",
        "\n",
        "```python\n",
        "array3_1 = np.array([[[0, 1, 2, 3],\n",
        "                      [4, 5, 6, 7]],\n",
        "                     [[0, 1, 2, 3],\n",
        "                      [4, 5, 6, 7]],\n",
        "                     [[0 ,1 ,2, 3],\n",
        "                      [4, 5, 6, 7]]])\n",
        "print(\"ndim : \", array3_1.ndim)\n",
        "print(\"size : \", array3_1.size)\n",
        "print(\"shape: \", array3_1.shape)\n",
        "```"
      ]
    },
    {
      "cell_type": "code",
      "metadata": {
        "id": "f5AfwUwEnNF4",
        "colab_type": "code",
        "colab": {}
      },
      "source": [
        ""
      ],
      "execution_count": 0,
      "outputs": []
    },
    {
      "cell_type": "markdown",
      "metadata": {
        "id": "1pDI2kIyppdI",
        "colab_type": "text"
      },
      "source": [
        "![](https://github.com/ad-riyan/Tutorial_Python4MechanicalEngineers/blob/master/figures_Python4ME/P02-VisNumPyArray.PNG)"
      ]
    },
    {
      "cell_type": "code",
      "metadata": {
        "id": "FFsiu74WppCX",
        "colab_type": "code",
        "colab": {}
      },
      "source": [
        ""
      ],
      "execution_count": 0,
      "outputs": []
    }
  ]
}