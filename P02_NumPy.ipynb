{
  "nbformat": 4,
  "nbformat_minor": 0,
  "metadata": {
    "colab": {
      "name": "P02-NumPy.ipynb",
      "provenance": [],
      "collapsed_sections": [],
      "toc_visible": true,
      "authorship_tag": "ABX9TyO4bcJi0vtOmXMKKDp+atQI",
      "include_colab_link": true
    },
    "kernelspec": {
      "name": "python3",
      "display_name": "Python 3"
    }
  },
  "cells": [
    {
      "cell_type": "markdown",
      "metadata": {
        "id": "view-in-github",
        "colab_type": "text"
      },
      "source": [
        "<a href=\"https://colab.research.google.com/github/ad-riyan/Tutorial_Python4MechanicalEngineers/blob/master/P02_NumPy.ipynb\" target=\"_parent\"><img src=\"https://colab.research.google.com/assets/colab-badge.svg\" alt=\"Open In Colab\"/></a>"
      ]
    },
    {
      "cell_type": "markdown",
      "metadata": {
        "id": "1jA55Pr5Qjgk",
        "colab_type": "text"
      },
      "source": [
        "# NumPy (Numerical Python)\n",
        "*Python for Mechanical Engineers*\n",
        "\n",
        "![](https://numpy.org/images/logos/numpy.svg)\n",
        "\n",
        "<br><br>\n",
        "\n",
        "### Adriyan \n",
        "\n",
        "<br>\n",
        "\n",
        "Adriyan, 2020:: *Digunakan untuk keperluan pelatihan!*\n",
        "\n",
        "<br>\n",
        "\n",
        "---\n",
        "\n",
        "<br>"
      ]
    },
    {
      "cell_type": "markdown",
      "metadata": {
        "id": "0GXNqmJ3Qqb-",
        "colab_type": "text"
      },
      "source": [
        "**NumPy (Numerical Python)**\n",
        "\n",
        "1. ***POWERFUL N-DIMENSIONAL ARRAYS***. \n",
        "Fast and versatile, the NumPy vectorization, indexing, and broadcasting concepts are the de-facto standards of array computing today.\n",
        "\n",
        "2. ***NUMERICAL COMPUTING TOOLS***. \n",
        "NumPy offers comprehensive mathematical functions, random number generators, linear algebra routines, Fourier transforms, and more.\n",
        "\n",
        "3. ***INTEROPERABLE***. \n",
        "NumPy supports a wide range of hardware and computing platforms, and plays well with distributed, GPU, and sparse array libraries.\n",
        "\n",
        "4. ***PERFORMANT***. \n",
        "The core of NumPy is well-optimized C code. Enjoy the flexibility of Python with the speed of compiled code.\n",
        "\n",
        "5. ***EASY TO USE***.\n",
        "NumPy’s high level syntax makes it accessible and productive for programmers from any background or experience level.\n",
        "\n",
        "6. ***OPEN SOURCE***.\n",
        "Distributed under a liberal BSD license, NumPy is developed and maintained publicly on GitHub by a vibrant, responsive, and diverse community.\n",
        "\n",
        "*Source*: https://numpy.org/.\n",
        "\n",
        "NumPy dikembangkan pertama kali oleh Travis E. Oliphant tahun 2006, http://web.mit.edu/dvp/Public/numpybook.pdf.\n",
        "\n",
        "NumPy digunakan untuk berbagai project dalam domain:\n",
        "\n",
        "1. *Scientific Computing*\n",
        "2. *Data Science*\n",
        "3. *Machine Learning*\n",
        "4. *Deep Learning*"
      ]
    },
    {
      "cell_type": "markdown",
      "metadata": {
        "id": "Wz-U-iqaV9nf",
        "colab_type": "text"
      },
      "source": [
        "## 1 | *The First Step*\n",
        "\n",
        "Untuk mengimport NumPy umumnya digunakan perintah berikut:\n",
        "\n",
        "```python\n",
        "import numpy as np\n",
        "```"
      ]
    },
    {
      "cell_type": "code",
      "metadata": {
        "id": "Tas-FZAwSQtY",
        "colab_type": "code",
        "colab": {}
      },
      "source": [
        ""
      ],
      "execution_count": 0,
      "outputs": []
    },
    {
      "cell_type": "markdown",
      "metadata": {
        "id": "YK5ROjmpSzF1",
        "colab_type": "text"
      },
      "source": [
        "Selanjutnya Anda dapat mempergunakan NumPy melalui aliasnya `np` dengan cara\n",
        "\n",
        "```python\n",
        "np.<<Ctrl+Space>>  # Jika menggunakan google colab\n",
        "# atau\n",
        "np.<<Tab>>         # Jika menggunakan Jupyter Notebook/JupyterLab\n",
        "```"
      ]
    },
    {
      "cell_type": "code",
      "metadata": {
        "id": "heOOKtyUTCWI",
        "colab_type": "code",
        "colab": {}
      },
      "source": [
        ""
      ],
      "execution_count": 0,
      "outputs": []
    },
    {
      "cell_type": "code",
      "metadata": {
        "id": "4yrXGRkm5hoW",
        "colab_type": "code",
        "colab": {}
      },
      "source": [
        ""
      ],
      "execution_count": 0,
      "outputs": []
    },
    {
      "cell_type": "markdown",
      "metadata": {
        "id": "0pbQRu6cVzXK",
        "colab_type": "text"
      },
      "source": [
        "**NOTE**: Materi yang dimulai oleh **2 | Meng-*create* NumPy Array** dan seterusnya diambil dari https://numpy.org/devdocs/user/absolute_beginners.html."
      ]
    },
    {
      "cell_type": "markdown",
      "metadata": {
        "id": "G_DaXxTxWJm6",
        "colab_type": "text"
      },
      "source": [
        "## 2 | Meng-*create* NumPy Array\n",
        "\n",
        "Array merupakan struktur fundamental dari NumPy. `numpy.ndarray` merepresentasikan vektor, matrik dan tensor.\n",
        "\n",
        "Python built-in function `type()` dapat digunakan untuk mengecek tipe data dari seluruh packages python.\n",
        "\n",
        "* menggunakan method `.arange()`:: `np.arange(stop)`, `np.arange(start, stop)`, atau `np.arange(start, stop, step)` yang umum untuk meng-*create* sebuah vektor (1d array).\n",
        "\n",
        "    ```python\n",
        "    array2_1 = np.arange(6)\n",
        "    print(\"array2_1: \", array2_1)\n",
        "    ```\n",
        "    ```python\n",
        "    array2_2 = np.arange(3, 9, 2)\n",
        "    print(\"array2_2: \", array2_2)\n",
        "    ```"
      ]
    },
    {
      "cell_type": "code",
      "metadata": {
        "id": "AWReEQGNW9sn",
        "colab_type": "code",
        "colab": {}
      },
      "source": [
        ""
      ],
      "execution_count": 0,
      "outputs": []
    },
    {
      "cell_type": "code",
      "metadata": {
        "id": "pTZ4lQOTXiJT",
        "colab_type": "code",
        "colab": {}
      },
      "source": [
        ""
      ],
      "execution_count": 0,
      "outputs": []
    },
    {
      "cell_type": "markdown",
      "metadata": {
        "id": "oFf0MmnxXCfG",
        "colab_type": "text"
      },
      "source": [
        "* menggunakan method `.array()` dapat digunakan untuk *n*d array\n",
        "\n",
        "    * 1d array\n",
        "    ```python\n",
        "    array2_3 = np.array([1, 2, 3])\n",
        "    print(\"array2_3: \", array2_3)\n",
        "    ```\n",
        "\n",
        "    ![](https://numpy.org/devdocs/_images/np_array.png)\n",
        "     *Source*: https://numpy.org/devdocs/_images/np_array.png."
      ]
    },
    {
      "cell_type": "code",
      "metadata": {
        "id": "MYrKI70ZYCje",
        "colab_type": "code",
        "colab": {}
      },
      "source": [
        ""
      ],
      "execution_count": 0,
      "outputs": []
    },
    {
      "cell_type": "code",
      "metadata": {
        "id": "uE5OQzT05bAd",
        "colab_type": "code",
        "colab": {}
      },
      "source": [
        ""
      ],
      "execution_count": 0,
      "outputs": []
    },
    {
      "cell_type": "markdown",
      "metadata": {
        "id": "fksWXi4ZiPLW",
        "colab_type": "text"
      },
      "source": [
        "* ...\n",
        "    * 2d array\n",
        "    ```python\n",
        "    array2_4 = np.array([[1, 5, -3],\n",
        "                           [0, -3, 4]])\n",
        "    print(\"array2_4: \\n\", array2_4)\n",
        "    ```"
      ]
    },
    {
      "cell_type": "code",
      "metadata": {
        "id": "7w0-OrkuYCfu",
        "colab_type": "code",
        "colab": {}
      },
      "source": [
        ""
      ],
      "execution_count": 0,
      "outputs": []
    },
    {
      "cell_type": "code",
      "metadata": {
        "id": "74z45q8X5bnp",
        "colab_type": "code",
        "colab": {}
      },
      "source": [
        ""
      ],
      "execution_count": 0,
      "outputs": []
    },
    {
      "cell_type": "markdown",
      "metadata": {
        "id": "DtjpO19_iXPz",
        "colab_type": "text"
      },
      "source": [
        "* ...\n",
        "    * 3d array\n",
        "    ```python\n",
        "    array2_5 = np.array([[1, 5, -3],\n",
        "                           [0, -3, 4]],\n",
        "                          [[-2, 8, 0],\n",
        "                           [1, 0, 7]])\n",
        "    print(\"array2_5: \\n\", array2_5)\n",
        "    ```"
      ]
    },
    {
      "cell_type": "code",
      "metadata": {
        "id": "blalwrIdiXAd",
        "colab_type": "code",
        "colab": {}
      },
      "source": [
        ""
      ],
      "execution_count": 0,
      "outputs": []
    },
    {
      "cell_type": "code",
      "metadata": {
        "id": "zDElvPYs5cEH",
        "colab_type": "code",
        "colab": {}
      },
      "source": [
        ""
      ],
      "execution_count": 0,
      "outputs": []
    },
    {
      "cell_type": "markdown",
      "metadata": {
        "id": "FhRPqIm8YKye",
        "colab_type": "text"
      },
      "source": [
        "* menggunakan method `.linspace()`: `np.linspace(init, end, number)`\n",
        "\n",
        "    ```python\n",
        "    array2_6 = np.linspace(0, 100, 11)\n",
        "    print(array2_6)\n",
        "    ```"
      ]
    },
    {
      "cell_type": "code",
      "metadata": {
        "id": "WXfSLVSvY7o9",
        "colab_type": "code",
        "colab": {}
      },
      "source": [
        ""
      ],
      "execution_count": 0,
      "outputs": []
    },
    {
      "cell_type": "code",
      "metadata": {
        "id": "ADKsDdAw5dIc",
        "colab_type": "code",
        "colab": {}
      },
      "source": [
        ""
      ],
      "execution_count": 0,
      "outputs": []
    },
    {
      "cell_type": "markdown",
      "metadata": {
        "id": "0F5XjRaMY9jj",
        "colab_type": "text"
      },
      "source": [
        "* menggunakan array khusus: `np.ones`, `np.zeros`, `np.eye`, `np.empty`, atau `np.random`\n",
        "\n",
        "    * array 1D\n",
        "    ![](https://numpy.org/devdocs/_images/np_ones_zeros_random.png)\n",
        "     *Source*: https://numpy.org/devdocs/_images/np_ones_zeros_random.png.\n",
        "\n",
        "    ```python\n",
        "    array2_6 = np.ones(5)\n",
        "    print(\"array2_6: \", array2_6)\n",
        "    ```\n",
        "\n",
        "    * array 2D\n",
        "    ![](https://numpy.org/devdocs/_images/np_ones_zeros_matrix.png)\n",
        "     *Source*: https://numpy.org/devdocs/_images/np_ones_zeros_matrix.png\n",
        "\n",
        "    ```python\n",
        "    array2_7 = np.ones((2, 3))\n",
        "    print(\"array2_7: \\n\", array2_7)\n",
        "    ```"
      ]
    },
    {
      "cell_type": "code",
      "metadata": {
        "id": "4NpzGIOxlAQb",
        "colab_type": "code",
        "colab": {}
      },
      "source": [
        ""
      ],
      "execution_count": 0,
      "outputs": []
    },
    {
      "cell_type": "code",
      "metadata": {
        "id": "jasVaWw0lYmu",
        "colab_type": "code",
        "colab": {}
      },
      "source": [
        ""
      ],
      "execution_count": 0,
      "outputs": []
    },
    {
      "cell_type": "code",
      "metadata": {
        "id": "kPts2ZD_lYgb",
        "colab_type": "code",
        "colab": {}
      },
      "source": [
        ""
      ],
      "execution_count": 0,
      "outputs": []
    },
    {
      "cell_type": "markdown",
      "metadata": {
        "id": "D9XUBk-sloHE",
        "colab_type": "text"
      },
      "source": [
        "## 3 | Bentuk (*Shape*) dan Ukuran (*Size*) Array \n",
        "\n",
        "`ndarray.ndim` akan memberitahu jumlah sumbu atau dimensi array.\n",
        "\n",
        "`ndarray.size` akan memberitahu jumlah elemen pada suatu array. Ini merupakan produk/perkalian dari shape suatu array.\n",
        "\n",
        "`ndarray.shape` akan menampilkan sebuah `tuple of integers` yang merupakan jumlah elemen pada setiap dimensi array.\n",
        "\n",
        "```python\n",
        "array3_1 = np.array([[[0, 1, 2, 3],\n",
        "                      [4, 5, 6, 7]],\n",
        "                     [[0, 1, 2, 3],\n",
        "                      [4, 5, 6, 7]],\n",
        "                     [[0 ,1 ,2, 3],\n",
        "                      [4, 5, 6, 7]]])\n",
        "print(\"ndim : \", array3_1.ndim)\n",
        "print(\"size : \", array3_1.size)\n",
        "print(\"shape: \", array3_1.shape)\n",
        "```"
      ]
    },
    {
      "cell_type": "code",
      "metadata": {
        "id": "f5AfwUwEnNF4",
        "colab_type": "code",
        "colab": {}
      },
      "source": [
        ""
      ],
      "execution_count": 0,
      "outputs": []
    },
    {
      "cell_type": "markdown",
      "metadata": {
        "id": "1pDI2kIyppdI",
        "colab_type": "text"
      },
      "source": [
        "**Visualisasi NumPy array**\n",
        "\n",
        "![](https://github.com/ad-riyan/Tutorial_Python4MechanicalEngineers/blob/master/figures_Python4ME/P02-VisNumPyArray.PNG?raw=1)\n",
        "\n",
        "*Taken from [https://github.com/enthought/Numpy-Tutorial-SciPyConf-2019/blob/master/slides.pdf](https://github.com/enthought/Numpy-Tutorial-SciPyConf-2019/blob/master/slides.pdf) page 31*."
      ]
    },
    {
      "cell_type": "markdown",
      "metadata": {
        "id": "N6ExC0Ntq_vQ",
        "colab_type": "text"
      },
      "source": [
        "## 4 | Merubah Bentuk Array\n",
        "\n",
        "Merubah bentuk suatu array NumPy dapat dilakukan dengan\n",
        "1. menggunakan `.reshape`\n",
        "2. menggunakan `newaxis`, `expand_dims`\n",
        "3. menggunakan `.flatten`, `.ravel`\n",
        "4. men-*transpose* array"
      ]
    },
    {
      "cell_type": "markdown",
      "metadata": {
        "id": "M7wzycxbgn7Z",
        "colab_type": "text"
      },
      "source": [
        "### 4.1 | Menggunakan `.reshape`\n",
        "\n",
        "Dengan menggunakan `ndarray.reshape()` akan memberikan shape baru pada suatu array tanpa merubah datanya.\n",
        "\n",
        "```python\n",
        "data = np.array([1, 2, 3, 4, 5, 6])\n",
        "print(\"data:\", data)\n",
        "print(\".reshape(2, 3): \\n\", data.reshape(2, 3)\n",
        "print(\".reshape(3, 2): \\n\", data.reshape(3, 2)\n",
        "```\n",
        "\n",
        "Ilustrasi method `.reshape`:\n",
        "![Visualisasi `.reshape`](https://numpy.org/devdocs/_images/np_reshape.png)\n",
        "*Source*: https://numpy.org/devdocs/_images/np_reshape.png."
      ]
    },
    {
      "cell_type": "code",
      "metadata": {
        "id": "D6KVkdZlp958",
        "colab_type": "code",
        "colab": {}
      },
      "source": [
        ""
      ],
      "execution_count": 0,
      "outputs": []
    },
    {
      "cell_type": "code",
      "metadata": {
        "id": "QHcbOY7C60E0",
        "colab_type": "code",
        "colab": {}
      },
      "source": [
        ""
      ],
      "execution_count": 0,
      "outputs": []
    },
    {
      "cell_type": "markdown",
      "metadata": {
        "id": "iyCrO22i61CZ",
        "colab_type": "text"
      },
      "source": [
        "### 4.2 | Menggunakan `newaxis` atau `expand_dims`\n",
        "\n",
        "Melalui penggunaan `np.newaxis` atau `np.expand_dims`, suatu array yang berdimensi rendah dinaikkan ukuran dimensinya. \n",
        "\n",
        "Sebagai contoh: secara default `np.arange` akan meng-*create* array 1D yang berupa vektor baris, jika ingin array tersebut dinyatakan sebagai vektor kolom maka `np.newaxis` atau `np.expand_dims` dapat digunakan.\n",
        "\n",
        "```python\n",
        "vec = np.arange(1, 4)\n",
        "print(vec.shape)\n",
        "# np.expand_dims\n",
        "vec_col = np.expand_dims(vec, axis=1)\n",
        "print(\"np.expand_dims:\", vec_col.shape)\n",
        "# np.newaxis\n",
        "vec_col1 = vec[:, np.newaxis]\n",
        "print(\"np.newaxis:\", vec_col1)\n",
        "```"
      ]
    },
    {
      "cell_type": "code",
      "metadata": {
        "id": "RfB1UHap905b",
        "colab_type": "code",
        "colab": {}
      },
      "source": [
        ""
      ],
      "execution_count": 0,
      "outputs": []
    },
    {
      "cell_type": "code",
      "metadata": {
        "id": "k2p-sjLR90oH",
        "colab_type": "code",
        "colab": {}
      },
      "source": [
        ""
      ],
      "execution_count": 0,
      "outputs": []
    },
    {
      "cell_type": "code",
      "metadata": {
        "id": "DXbBxO5t90gX",
        "colab_type": "code",
        "colab": {}
      },
      "source": [
        ""
      ],
      "execution_count": 0,
      "outputs": []
    },
    {
      "cell_type": "markdown",
      "metadata": {
        "id": "gJOoW-Xa9zgn",
        "colab_type": "text"
      },
      "source": [
        "### 4.3 | Menggunakan `.flatten` atau `.ravel`\n",
        "\n",
        "Kedua metode ini digunakan pada multidimensional array untuk merubahnya menjadi array 1D. Teknik ini umum digunakan dalam *classification layer* untuk *image classification* atau *image detection*.\n",
        "\n",
        "Apakah perbedaan dari `.flatten` atau `.ravel`?\n",
        "```python\n",
        "arr2d = np.arange(1, 13).reshape((3, 4))\n",
        "print(arr2d)\n",
        "```\n",
        "\n",
        "* Metode `.flatten`:\n",
        "    ```python\n",
        "    arr2d_f = arr2d.flatten()\n",
        "    print(arr2d_f)\n",
        "    arr2d_f[3] = 0\n",
        "    print(arr2d_f)\n",
        "    print(arr2d)\n",
        "    ```\n",
        "    akan merubah index ketiga dari `arr2d_f` yang semula 4 menjadi 0, tetapi **tidak ikut merubah array awalnya** `arr2d`.\n",
        "\n",
        "* Metode `.ravel`:\n",
        "    ```python\n",
        "    arr2d_r = arr2d.ravel()\n",
        "    print(arr2d_r)\n",
        "    arr2d_r[3] = 0\n",
        "    print(arr2d_r)\n",
        "    print(arr2d)\n",
        "    ```\n",
        "    akan merubah index ketiga dari `arr2d_r` yang semula 4 menjadi 0, tetapi **ikut merubah array awalnya** `arr2d`."
      ]
    },
    {
      "cell_type": "code",
      "metadata": {
        "id": "qaN1jG6FBIgX",
        "colab_type": "code",
        "colab": {}
      },
      "source": [
        ""
      ],
      "execution_count": 0,
      "outputs": []
    },
    {
      "cell_type": "code",
      "metadata": {
        "id": "zKP01WB9BHbn",
        "colab_type": "code",
        "colab": {}
      },
      "source": [
        ""
      ],
      "execution_count": 0,
      "outputs": []
    },
    {
      "cell_type": "code",
      "metadata": {
        "id": "zBoR87QXBHRJ",
        "colab_type": "code",
        "colab": {}
      },
      "source": [
        ""
      ],
      "execution_count": 0,
      "outputs": []
    },
    {
      "cell_type": "code",
      "metadata": {
        "id": "XFia4rEpBHOU",
        "colab_type": "code",
        "colab": {}
      },
      "source": [
        ""
      ],
      "execution_count": 0,
      "outputs": []
    },
    {
      "cell_type": "markdown",
      "metadata": {
        "id": "aEH7MJ9_II_8",
        "colab_type": "text"
      },
      "source": [
        "### 4.4 | Men-*transpose* array\n",
        "\n",
        "Proses transpose suatu array akan men-*switch* dimensi dari suatu array misalkan dari *shape* `(3, 2)` menjadi `(2, 3)` seperti ilustrasi berikut:\n",
        "![](https://numpy.org/devdocs/_images/np_transposing_reshaping.png)\n",
        "*Source*: https://numpy.org/devdocs/_images/np_transposing_reshaping.png.\n",
        "\n",
        "Untuk melakukan transpose pada array dapat dilakukan dengan menggunakan metode `.T` atau `.transpose()`.\n",
        "\n",
        "```python\n",
        "a = np.arange(1, 7).reshape((2, 3))\n",
        "print(a.shape)\n",
        "print(a.T.shape)\n",
        "```"
      ]
    },
    {
      "cell_type": "code",
      "metadata": {
        "id": "X0MSrRjfO-_k",
        "colab_type": "code",
        "colab": {}
      },
      "source": [
        ""
      ],
      "execution_count": 0,
      "outputs": []
    },
    {
      "cell_type": "code",
      "metadata": {
        "id": "ss46ghdpO-6v",
        "colab_type": "code",
        "colab": {}
      },
      "source": [
        ""
      ],
      "execution_count": 0,
      "outputs": []
    },
    {
      "cell_type": "markdown",
      "metadata": {
        "id": "ot571vsLLgc6",
        "colab_type": "text"
      },
      "source": [
        "**Bagaimana untuk menentukan *conjugate transpose*?** *Conjugate transpose* hanya dapat dilakukan pada matrix. Matrix adalah tipe data khusus dari numpy. Cara termudah adalah dengan meng-*casting* numpy array ke dalam numpy matrix `np.matrix()`. \n",
        "\n",
        "```python\n",
        "m = np.matrix(a)\n",
        "print(type(m))\n",
        "```"
      ]
    },
    {
      "cell_type": "code",
      "metadata": {
        "id": "gKQOu0oMP-jf",
        "colab_type": "code",
        "colab": {}
      },
      "source": [
        ""
      ],
      "execution_count": 0,
      "outputs": []
    },
    {
      "cell_type": "markdown",
      "metadata": {
        "id": "8aDpVuvFP-9m",
        "colab_type": "text"
      },
      "source": [
        "Matriks yang elemennya berisi elemen berupa bilangan kompleks\n",
        "\n",
        "```python\n",
        "mc = np.matrix([[1 + 1j, 3 - 7j], [4 + 6j, -6 - 8j]])\n",
        "print(mc)\n",
        "\n",
        "# Transpose\n",
        "print(\"\\nTranspose:\")\n",
        "print(mc.T)\n",
        "\n",
        "# Hermitian transpose\n",
        "print(\"\\nHermitian transpose:\")\n",
        "print(mc.H)\n",
        "```\n"
      ]
    },
    {
      "cell_type": "code",
      "metadata": {
        "id": "2kTuaqCZR9A_",
        "colab_type": "code",
        "colab": {}
      },
      "source": [
        ""
      ],
      "execution_count": 0,
      "outputs": []
    },
    {
      "cell_type": "code",
      "metadata": {
        "id": "UlXLzBV6R845",
        "colab_type": "code",
        "colab": {}
      },
      "source": [
        ""
      ],
      "execution_count": 0,
      "outputs": []
    },
    {
      "cell_type": "markdown",
      "metadata": {
        "id": "SzG3dEQKVuP-",
        "colab_type": "text"
      },
      "source": [
        "## 5 | Meng-*create* Array Baru dari Beberapa Array\n",
        "\n",
        "Dapat dilakukan dengan teknik *stacking* berdasrkan sumbu atau dimensi array: \n",
        "* secara umum dengan `np.stack()`, atau \n",
        "* secara khusus dengan `np.hstack()` (stacking secara horizontal), `np.vstack()` (stacking secara vertikal), atau `np.dstack()` (stacking secara depth atau kedalaman, coba perhatikan lagi gambar ilustrasi *n*d-array). \n",
        "\n",
        "Diberikan tiga buah array 1D:\n",
        "```python\n",
        "a1 = np.array([0, 3, 5, 9])\n",
        "a2 = np.array([1, 4, -8, 0])\n",
        "a3 = np.array([-3, 5, -2, 6])\n",
        "```"
      ]
    },
    {
      "cell_type": "markdown",
      "metadata": {
        "id": "okFdDrR7izVt",
        "colab_type": "text"
      },
      "source": [
        "Bagaimanakah membuat sebuh array 2D yang isinya ketiga array itu tiap barisnya?"
      ]
    },
    {
      "cell_type": "code",
      "metadata": {
        "id": "j1Aa-q2ZgXMm",
        "colab_type": "code",
        "colab": {}
      },
      "source": [
        ""
      ],
      "execution_count": 0,
      "outputs": []
    },
    {
      "cell_type": "code",
      "metadata": {
        "id": "KoLAlhY7ms4N",
        "colab_type": "code",
        "colab": {}
      },
      "source": [
        ""
      ],
      "execution_count": 0,
      "outputs": []
    },
    {
      "cell_type": "code",
      "metadata": {
        "id": "Dmt4u6zhi70M",
        "colab_type": "code",
        "colab": {}
      },
      "source": [
        ""
      ],
      "execution_count": 0,
      "outputs": []
    },
    {
      "cell_type": "markdown",
      "metadata": {
        "id": "uVJiSgHvgWoI",
        "colab_type": "text"
      },
      "source": [
        "## 6 | Men-*split* Array Menjadi Beberapa Array\n",
        "\n",
        "Array multidimensi dapat di-*split* berdasarkan dimensi/sumbu yang dimilikinya sehingga suatu array 3D denan *shape* katakanlah `(128, 128, 3)` dapat dibuat menjadi 3 array 2D dengan masing-masing *shape*-nya `(128, 128)`.\n",
        "\n",
        "Men-*split* suatu array dapat dilakukan dengan teknik *splitting* berdasrkan sumbu atau dimensi array: \n",
        "* secara umum dengan `np.split()`, atau \n",
        "* secara khusus dengan `np.hsplit()` (splitting secara horizontal), `np.vsplit()` (splitting secara vertikal), atau `np.dsplit()` (splitting secara depth atau kedalaman, coba perhatikan lagi gambar ilustrasi *n*d-array). \n",
        "\n",
        "Diberikan array 2D:\n",
        "```python\n",
        "a2d = np.array([[ 7,  8, -9, 0],\n",
        "                [24, -8,  1, 3],\n",
        "                [-3,  5,  6, 2]])\n",
        "```\n",
        "\n",
        "Jadikanlah 3 array 1D"
      ]
    },
    {
      "cell_type": "code",
      "metadata": {
        "id": "LbBf1qHUmpLL",
        "colab_type": "code",
        "colab": {}
      },
      "source": [
        ""
      ],
      "execution_count": 0,
      "outputs": []
    },
    {
      "cell_type": "code",
      "metadata": {
        "id": "WS5BxS3SgWbh",
        "colab_type": "code",
        "colab": {}
      },
      "source": [
        ""
      ],
      "execution_count": 0,
      "outputs": []
    },
    {
      "cell_type": "markdown",
      "metadata": {
        "id": "u4Rsx5-ugvnw",
        "colab_type": "text"
      },
      "source": [
        "## 7 | *Accessing Array*\n",
        "\n",
        "Pengaksesan suatu array dapat dilukan dengan \n",
        "* *indexing*\n",
        "* *slicing*\n",
        "\n",
        "seperti yang diilustrasikan berikut ini:\n",
        "![](https://numpy.org/devdocs/_images/np_indexing.png)\n",
        " *Source*: https://numpy.org/devdocs/_images/np_indexing.png.\n",
        "\n",
        "```python\n",
        "data = np.array([1, 2, 3])\n",
        "# Indexing\n",
        "print(\"\\nIndexing\")\n",
        "print(data[0])\n",
        "print(data[1])\n",
        "\n",
        "# Slicing\n",
        "print(\"\\nSlicing\")\n",
        "print(data[:2])\n",
        "print(data[1:])\n",
        "print(data[-2:)\n",
        "```"
      ]
    },
    {
      "cell_type": "code",
      "metadata": {
        "id": "LCHtzIt1gvW_",
        "colab_type": "code",
        "colab": {}
      },
      "source": [
        ""
      ],
      "execution_count": 0,
      "outputs": []
    },
    {
      "cell_type": "code",
      "metadata": {
        "id": "FFsiu74WppCX",
        "colab_type": "code",
        "colab": {}
      },
      "source": [
        ""
      ],
      "execution_count": 0,
      "outputs": []
    },
    {
      "cell_type": "code",
      "metadata": {
        "id": "WRi2c3lMTX5V",
        "colab_type": "code",
        "colab": {}
      },
      "source": [
        ""
      ],
      "execution_count": 0,
      "outputs": []
    },
    {
      "cell_type": "markdown",
      "metadata": {
        "id": "I6FBzgH1UWal",
        "colab_type": "text"
      },
      "source": [
        "Untuk multidimensional array (*n*d-array), sistem *indexing* dan *slicing* juga berguna tetapi kita kembangkan untuk masing-masing dimensi. \n",
        "\n",
        "**Ingat!** berbeda dengan konsep *indexing* dan *slicing* yang telah dipelajari untuk *list of list* atau tipe data *sequence*. \n",
        "\n",
        "```python\n",
        "data2d = np.arange([1, 10]).reshape((3, 3))\n",
        "print(data2d)\n",
        "```"
      ]
    },
    {
      "cell_type": "code",
      "metadata": {
        "id": "YEu6SICpUzza",
        "colab_type": "code",
        "colab": {}
      },
      "source": [
        ""
      ],
      "execution_count": 0,
      "outputs": []
    },
    {
      "cell_type": "code",
      "metadata": {
        "id": "BtJ-5R8nTX2d",
        "colab_type": "code",
        "colab": {}
      },
      "source": [
        ""
      ],
      "execution_count": 0,
      "outputs": []
    },
    {
      "cell_type": "code",
      "metadata": {
        "id": "9F1wEmOxTXzu",
        "colab_type": "code",
        "colab": {}
      },
      "source": [
        ""
      ],
      "execution_count": 0,
      "outputs": []
    },
    {
      "cell_type": "markdown",
      "metadata": {
        "id": "J6zamI8Dm9T3",
        "colab_type": "text"
      },
      "source": [
        "Array 3D:\n",
        "```python\n",
        "data3d = np.arange(1, 25).reshape((4, 3, 2))\n",
        "```\n"
      ]
    },
    {
      "cell_type": "code",
      "metadata": {
        "id": "MaskbCl-nRXo",
        "colab_type": "code",
        "colab": {}
      },
      "source": [
        ""
      ],
      "execution_count": 0,
      "outputs": []
    },
    {
      "cell_type": "code",
      "metadata": {
        "id": "r-N5j7FKnROX",
        "colab_type": "code",
        "colab": {}
      },
      "source": [
        ""
      ],
      "execution_count": 0,
      "outputs": []
    },
    {
      "cell_type": "code",
      "metadata": {
        "id": "qTyto4p1nRFv",
        "colab_type": "code",
        "colab": {}
      },
      "source": [
        ""
      ],
      "execution_count": 0,
      "outputs": []
    },
    {
      "cell_type": "markdown",
      "metadata": {
        "id": "AF299phj2Bb4",
        "colab_type": "text"
      },
      "source": [
        "## 8 | *Array Operations*\n",
        "\n",
        "Untuk proses operasi array digunakan dua array berikut:\n",
        "```python\n",
        "data = np.array([1, 2])\n",
        "ones = np.ones(2, dtype=int)\n",
        "```\n",
        "\n",
        "`data` dan `ones`:\n",
        "![](https://numpy.org/devdocs/_images/np_array_dataones.png)\n",
        "*Source*: https://numpy.org/devdocs/_images/np_array_dataones.png."
      ]
    },
    {
      "cell_type": "markdown",
      "metadata": {
        "id": "c4A91Cqv46yW",
        "colab_type": "text"
      },
      "source": [
        "### 8.1 | *Addition*, *Substraction*, *Multiplication*, dan *Division*\n",
        "\n",
        "Penjumlahan dua array dapat dilakukan dengan\n",
        "```python\n",
        "data + ones\n",
        "```\n",
        "\n",
        "* Array yang sama ukurannya\n",
        "![](https://numpy.org/devdocs/_images/np_data_plus_ones.png)\n",
        " *Source*: https://numpy.org/devdocs/_images/np_data_plus_ones.png.\n",
        "\n",
        "* Array yang tidak sama ukurannya (*broadcasting*)\n",
        "![](https://numpy.org/devdocs/_images/np_matrix_broadcasting.png)\n",
        " *Source*: https://numpy.org/devdocs/_images/np_matrix_broadcasting.png.\n",
        "\n"
      ]
    },
    {
      "cell_type": "code",
      "metadata": {
        "id": "g8Rz_cHN45ck",
        "colab_type": "code",
        "colab": {}
      },
      "source": [
        ""
      ],
      "execution_count": 0,
      "outputs": []
    },
    {
      "cell_type": "code",
      "metadata": {
        "id": "H-9Z348EbZth",
        "colab_type": "code",
        "colab": {}
      },
      "source": [
        ""
      ],
      "execution_count": 0,
      "outputs": []
    },
    {
      "cell_type": "markdown",
      "metadata": {
        "id": "tQQFWCbw55db",
        "colab_type": "text"
      },
      "source": [
        "Sementara itu, pengurangan, perkalian, dan pembagian dua array dapat dilakukan dengan\n",
        "\n",
        "```python\n",
        "print(\"Pengurangan: \", data - ones)\n",
        "print(\"Perkalian  : \", data * ones)\n",
        "print(\"Pembagian  : \", data / ones)\n",
        "```\n",
        "\n",
        "![](https://numpy.org/devdocs/_images/np_sub_mult_divide.png)\n",
        "*Source*: https://numpy.org/devdocs/_images/np_sub_mult_divide.png."
      ]
    },
    {
      "cell_type": "code",
      "metadata": {
        "id": "eKh30zYi7Hz7",
        "colab_type": "code",
        "colab": {}
      },
      "source": [
        ""
      ],
      "execution_count": 0,
      "outputs": []
    },
    {
      "cell_type": "code",
      "metadata": {
        "id": "4mFztOOdba2S",
        "colab_type": "code",
        "colab": {}
      },
      "source": [
        ""
      ],
      "execution_count": 0,
      "outputs": []
    },
    {
      "cell_type": "markdown",
      "metadata": {
        "id": "Y_PY9pfh7Z4M",
        "colab_type": "text"
      },
      "source": [
        "**Selanjutnya**:"
      ]
    },
    {
      "cell_type": "code",
      "metadata": {
        "id": "4yy13Gbs7gHe",
        "colab_type": "code",
        "colab": {}
      },
      "source": [
        ""
      ],
      "execution_count": 0,
      "outputs": []
    },
    {
      "cell_type": "code",
      "metadata": {
        "id": "izCRaVhy7f97",
        "colab_type": "code",
        "colab": {}
      },
      "source": [
        ""
      ],
      "execution_count": 0,
      "outputs": []
    },
    {
      "cell_type": "code",
      "metadata": {
        "id": "2aZblOna7fwK",
        "colab_type": "code",
        "colab": {}
      },
      "source": [
        ""
      ],
      "execution_count": 0,
      "outputs": []
    },
    {
      "cell_type": "code",
      "metadata": {
        "id": "OXfRIUk-7fT1",
        "colab_type": "code",
        "colab": {}
      },
      "source": [
        ""
      ],
      "execution_count": 0,
      "outputs": []
    },
    {
      "cell_type": "markdown",
      "metadata": {
        "id": "EKUC4vzM9tk3",
        "colab_type": "text"
      },
      "source": [
        "### 8.2 | *More useful operations*: `min`, `max`, `sum`, `prod`, `mean`, `std`\n",
        "\n",
        "Ilustrasi dari penerapan operasi `min`, `max`, `sum`, `prod`, `mean`, `std` pada suatu array ditunjukkan seperti berikut:\n",
        "\n",
        "1. Array 1D\n",
        "![](https://numpy.org/devdocs/_images/np_aggregation.png)\n",
        "    *Source*: https://numpy.org/devdocs/_images/np_aggregation.png.\n"
      ]
    },
    {
      "cell_type": "code",
      "metadata": {
        "id": "Po4osIVUWHYM",
        "colab_type": "code",
        "colab": {}
      },
      "source": [
        ""
      ],
      "execution_count": 0,
      "outputs": []
    },
    {
      "cell_type": "markdown",
      "metadata": {
        "id": "sQBChERCWHHe",
        "colab_type": "text"
      },
      "source": [
        "2. Array 2D (tanpa menspesifikasikan sumbu array)\n",
        "![image.png](https://numpy.org/devdocs/_images/np_matrix_aggregation.png)\n",
        "    *Source*: https://numpy.org/devdocs/_images/np_matrix_aggregation.png.\n",
        "\n",
        "3. Array 2D (dengan menspesifikasikan sumbu array)\n",
        "![](https://numpy.org/devdocs/_images/np_matrix_aggregation_row.png)\n",
        "    *Source*: https://numpy.org/devdocs/_images/np_matrix_aggregation_row.png."
      ]
    },
    {
      "cell_type": "code",
      "metadata": {
        "id": "0igSFYesC6be",
        "colab_type": "code",
        "colab": {}
      },
      "source": [
        ""
      ],
      "execution_count": 0,
      "outputs": []
    },
    {
      "cell_type": "code",
      "metadata": {
        "id": "4md7EEmcC6LB",
        "colab_type": "code",
        "colab": {}
      },
      "source": [
        ""
      ],
      "execution_count": 0,
      "outputs": []
    },
    {
      "cell_type": "markdown",
      "metadata": {
        "id": "AyHxMVPbatDM",
        "colab_type": "text"
      },
      "source": [
        "## 9 | Linear Algebra `np.linalg`\n",
        "\n",
        "NumPy memiliki fitur linear algebra yang cukup baik, diantaranya seperti eigen, svd, qr, pinv, dll atau dapat dilihat melalui https://numpy.org/doc/stable/reference/routines.linalg.html.\n",
        "\n",
        "```python\n",
        "arr = np.array([[2, 1],\n",
        "                [1, 2]])\n",
        "w, vec = np.linalg.eig(arr)\n",
        "print(w)\n",
        "print(vec)\n",
        "```"
      ]
    },
    {
      "cell_type": "code",
      "metadata": {
        "id": "6ONez8bpsRYl",
        "colab_type": "code",
        "colab": {}
      },
      "source": [
        ""
      ],
      "execution_count": 0,
      "outputs": []
    },
    {
      "cell_type": "code",
      "metadata": {
        "id": "xv3wmvOFsRO_",
        "colab_type": "code",
        "colab": {}
      },
      "source": [
        ""
      ],
      "execution_count": 0,
      "outputs": []
    },
    {
      "cell_type": "code",
      "metadata": {
        "id": "dEa8yiD7iCGF",
        "colab_type": "code",
        "colab": {}
      },
      "source": [
        ""
      ],
      "execution_count": 0,
      "outputs": []
    },
    {
      "cell_type": "markdown",
      "metadata": {
        "id": "Q3jeHRO8iCbK",
        "colab_type": "text"
      },
      "source": [
        "## 10 | *Saving and Loading* NumPy Objects\n",
        "\n",
        "Setiap array yang merupakan NumPy objects dapat disimpan dan di-*load* dari harddisk.\n",
        "\n",
        "Secara umum dapat digunakan\n",
        "* native numpy format `*.npz` via `np.load` atau `np.save`, \n",
        "* text format via `np.loadtxt` atau `np.savetxt`\n",
        "\n",
        "Jika Anda menggunakan Google maka *mount* terlebih dahulu Google Drive anda ke virtual machine Google Colab.\n",
        "```python\n",
        "from google.colab import drive\n",
        "drive.mount(\"/drive\")\n",
        "```\n",
        "\n",
        "Baik di colab atau di komputer masing-masing arahkan direktory penyimpanannya ke folder `data`.\n"
      ]
    },
    {
      "cell_type": "code",
      "metadata": {
        "id": "AWcA4Y2TAcsp",
        "colab_type": "code",
        "colab": {}
      },
      "source": [
        ""
      ],
      "execution_count": 0,
      "outputs": []
    },
    {
      "cell_type": "code",
      "metadata": {
        "id": "3oEMt_dkBdHQ",
        "colab_type": "code",
        "colab": {}
      },
      "source": [
        ""
      ],
      "execution_count": 0,
      "outputs": []
    },
    {
      "cell_type": "code",
      "metadata": {
        "id": "ky9Abt8LBcwv",
        "colab_type": "code",
        "colab": {}
      },
      "source": [
        ""
      ],
      "execution_count": 0,
      "outputs": []
    },
    {
      "cell_type": "markdown",
      "metadata": {
        "id": "U9_U5kCKBdku",
        "colab_type": "text"
      },
      "source": [
        "Bagaimana untuk membacanya?"
      ]
    },
    {
      "cell_type": "code",
      "metadata": {
        "id": "UkeyJ4ibBghB",
        "colab_type": "code",
        "colab": {}
      },
      "source": [
        ""
      ],
      "execution_count": 0,
      "outputs": []
    },
    {
      "cell_type": "code",
      "metadata": {
        "id": "nydu5EYUBgXt",
        "colab_type": "code",
        "colab": {}
      },
      "source": [
        ""
      ],
      "execution_count": 0,
      "outputs": []
    },
    {
      "cell_type": "markdown",
      "metadata": {
        "id": "AZSsuMp-kDYr",
        "colab_type": "text"
      },
      "source": [
        "## 11 | F2PY – *Fortran to Python Interface Generator*\n",
        "\n",
        "**Syarat:** Anda sudah memiliki compiler fortran terinstall di komputer Anda. Compiler yang dapat dikenali:\n",
        "* GNU Fortran\n",
        "* Intel Fortran\n",
        "\n",
        "Silakan diacu: https://numpy.org/doc/stable/f2py/."
      ]
    },
    {
      "cell_type": "markdown",
      "metadata": {
        "id": "fUWVpRE6dkAq",
        "colab_type": "text"
      },
      "source": [
        "## References:\n",
        "\n",
        "1. https://numpy.org/.\n",
        "2. http://web.mit.edu/dvp/Public/numpybook.pdf.\n",
        "3. https://numpy.org/learn/.\n",
        "4. https://numpy.org/devdocs/user/absolute_beginners.html.\n",
        "5. https://github.com/enthought/Numpy-Tutorial-SciPyConf-2019\n",
        "6. https://numpy.org/doc/stable/user/numpy-for-matlab-users.html.\n"
      ]
    },
    {
      "cell_type": "markdown",
      "metadata": {
        "id": "9c8qAvj-d9Wz",
        "colab_type": "text"
      },
      "source": [
        "\n",
        "\n",
        "---\n",
        "\n",
        "\n",
        "\n",
        "---\n",
        "\n"
      ]
    }
  ]
}