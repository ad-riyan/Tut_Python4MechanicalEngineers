{
  "nbformat": 4,
  "nbformat_minor": 0,
  "metadata": {
    "colab": {
      "name": "P02-P03-Studi Kasus.ipynb",
      "provenance": [],
      "collapsed_sections": [],
      "toc_visible": true,
      "authorship_tag": "ABX9TyOMWIY46Ueu8OPkA8cp9PEr",
      "include_colab_link": true
    },
    "kernelspec": {
      "name": "python3",
      "display_name": "Python 3"
    }
  },
  "cells": [
    {
      "cell_type": "markdown",
      "metadata": {
        "id": "view-in-github",
        "colab_type": "text"
      },
      "source": [
        "<a href=\"https://colab.research.google.com/github/ad-riyan/Tutorial_Python4MechanicalEngineers/blob/master/P02_P03_Studi_Kasus.ipynb\" target=\"_parent\"><img src=\"https://colab.research.google.com/assets/colab-badge.svg\" alt=\"Open In Colab\"/></a>"
      ]
    },
    {
      "cell_type": "markdown",
      "metadata": {
        "id": "V7ISr0zccKMr",
        "colab_type": "text"
      },
      "source": [
        "# P02 & P03 - Studi Kasus\n",
        "*Python for Mechanical Engineers*\n",
        "\n",
        "<br>\n",
        "\n",
        "![](https://numpy.org/images/logos/numpy.svg)\n",
        "\n",
        "![](https://matplotlib.org/3.1.0/_images/sphx_glr_logos2_003.png)\n",
        "\n",
        "<br><br>\n",
        "\n",
        "### Adriyan \n",
        "\n",
        "<br>\n",
        "\n",
        "Adriyan, 2020:: *Digunakan untuk keperluan pelatihan!*\n",
        "\n",
        "<br>\n",
        "\n",
        "---\n",
        "\n",
        "<br>"
      ]
    },
    {
      "cell_type": "markdown",
      "metadata": {
        "id": "5cBrb2vZccYk",
        "colab_type": "text"
      },
      "source": [
        "## Studi Kasus 1: Regresi Linier\n",
        "\n",
        "Diberikan data suatu hasil pengukuran yang dinyatakan oleh array 2D dengan ukuran (`n-data`, `n-var`); `n-var` adalah variabel input $x_m$ dan output $y_m$, serta `n_data` adalah jumlah baris data yang diukur. Data ini berada pada sebuah file bernama `test_regresi.csv`.\n",
        "\n",
        "* Buatlah sebuah fungsi untuk memperoleh koefisien regresi liniernya yaitu $a_0$ dan $a_1$ yang terhubung dengan $y = a_0 + a_1 x$, serta nilai koefisien regresinya, $r$.\n",
        "\n",
        "* Buatlah fungsi untuk menghitung besar RMSE (*root mean square error*) dari $y$ dan $y_m$.\n",
        "\n",
        "* Plotkanlah ke dalam sebuah grafik. Jika memungkinkan gambarkanlah batas 95% *confidence intervalnya*."
      ]
    },
    {
      "cell_type": "code",
      "metadata": {
        "id": "h-Tuz3iFcJK6",
        "colab_type": "code",
        "colab": {}
      },
      "source": [
        ""
      ],
      "execution_count": 0,
      "outputs": []
    },
    {
      "cell_type": "code",
      "metadata": {
        "id": "xgwm5TiQifZ9",
        "colab_type": "code",
        "colab": {}
      },
      "source": [
        ""
      ],
      "execution_count": 0,
      "outputs": []
    },
    {
      "cell_type": "code",
      "metadata": {
        "id": "3NyZdROYifXU",
        "colab_type": "code",
        "colab": {}
      },
      "source": [
        ""
      ],
      "execution_count": 0,
      "outputs": []
    },
    {
      "cell_type": "markdown",
      "metadata": {
        "id": "fpjcfvaligFF",
        "colab_type": "text"
      },
      "source": [
        "## Studi Kasus 2: Konvolusi\n",
        "\n",
        "Jika diberikan sebuah fungsi acak yang memenuhi distribusi normal (Gaussian) selama `10 s` atau `1001`  *sampling points*. Tentukanlah konvolusi dari fungsi acak ini dengan menggunakan fungsi *rectangular* selama `0.5 s` atau `51` *sampling points*.\n",
        "\n",
        "* Untuk menjawab studi kasus ini jangan menggunakan fungsi *built-in* NumPy, tetapi untuk pengecekan hasil diperbolehkan. \n",
        "* Gunakanlah array NumPy dan *looping* saja, serta bagusnya dapat menjadikan menjadi sebuah fungsi *user defined*.\n",
        "* Plotkan juga fungsi acak, fungsi rectangular, dan hasil konvolusinya dengan 1 kanvas figure untuk 3 subplot.\n",
        "\n",
        "*Petunjuk*: untuk men-*generate* fungsi acak set terlebih dahulu *random state*-nya sama agar *reproducible* melalui `np.random.seed(a)`, dengan `a` adalah integer positif tertentu."
      ]
    },
    {
      "cell_type": "code",
      "metadata": {
        "id": "XXlE4Acyi-dj",
        "colab_type": "code",
        "colab": {}
      },
      "source": [
        ""
      ],
      "execution_count": 0,
      "outputs": []
    },
    {
      "cell_type": "code",
      "metadata": {
        "id": "SM8FZKKlmMUQ",
        "colab_type": "code",
        "colab": {}
      },
      "source": [
        ""
      ],
      "execution_count": 0,
      "outputs": []
    },
    {
      "cell_type": "code",
      "metadata": {
        "id": "0rRgiHv0mMQu",
        "colab_type": "code",
        "colab": {}
      },
      "source": [
        ""
      ],
      "execution_count": 0,
      "outputs": []
    }
  ]
}